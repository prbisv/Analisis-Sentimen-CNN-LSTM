{
  "nbformat": 4,
  "nbformat_minor": 0,
  "metadata": {
    "colab": {
      "provenance": [],
      "collapsed_sections": [
        "6ZdH-Bwl_qEl",
        "9zIOWD3Hd3Kl"
      ]
    },
    "kernelspec": {
      "name": "python3",
      "display_name": "Python 3"
    },
    "language_info": {
      "name": "python"
    },
    "gpuClass": "standard"
  },
  "cells": [
    {
      "cell_type": "markdown",
      "source": [
        "# Initial Setup"
      ],
      "metadata": {
        "id": "7i26q9US-Ba2"
      }
    },
    {
      "cell_type": "code",
      "source": [
        "!pip install tensorflow==2.10.0"
      ],
      "metadata": {
        "colab": {
          "base_uri": "https://localhost:8080/"
        },
        "id": "_vZnLd13FmaC",
        "outputId": "a5c20485-8939-4785-b5d6-66ccc2519cc8"
      },
      "execution_count": null,
      "outputs": [
        {
          "output_type": "stream",
          "name": "stdout",
          "text": [
            "Looking in indexes: https://pypi.org/simple, https://us-python.pkg.dev/colab-wheels/public/simple/\n",
            "Requirement already satisfied: tensorflow==2.10.0 in /usr/local/lib/python3.10/dist-packages (2.10.0)\n",
            "Requirement already satisfied: absl-py>=1.0.0 in /usr/local/lib/python3.10/dist-packages (from tensorflow==2.10.0) (1.4.0)\n",
            "Requirement already satisfied: astunparse>=1.6.0 in /usr/local/lib/python3.10/dist-packages (from tensorflow==2.10.0) (1.6.3)\n",
            "Requirement already satisfied: flatbuffers>=2.0 in /usr/local/lib/python3.10/dist-packages (from tensorflow==2.10.0) (23.3.3)\n",
            "Requirement already satisfied: gast<=0.4.0,>=0.2.1 in /usr/local/lib/python3.10/dist-packages (from tensorflow==2.10.0) (0.4.0)\n",
            "Requirement already satisfied: google-pasta>=0.1.1 in /usr/local/lib/python3.10/dist-packages (from tensorflow==2.10.0) (0.2.0)\n",
            "Requirement already satisfied: grpcio<2.0,>=1.24.3 in /usr/local/lib/python3.10/dist-packages (from tensorflow==2.10.0) (1.54.0)\n",
            "Requirement already satisfied: h5py>=2.9.0 in /usr/local/lib/python3.10/dist-packages (from tensorflow==2.10.0) (3.8.0)\n",
            "Requirement already satisfied: keras<2.11,>=2.10.0 in /usr/local/lib/python3.10/dist-packages (from tensorflow==2.10.0) (2.10.0)\n",
            "Requirement already satisfied: keras-preprocessing>=1.1.1 in /usr/local/lib/python3.10/dist-packages (from tensorflow==2.10.0) (1.1.2)\n",
            "Requirement already satisfied: libclang>=13.0.0 in /usr/local/lib/python3.10/dist-packages (from tensorflow==2.10.0) (16.0.0)\n",
            "Requirement already satisfied: numpy>=1.20 in /usr/local/lib/python3.10/dist-packages (from tensorflow==2.10.0) (1.22.4)\n",
            "Requirement already satisfied: opt-einsum>=2.3.2 in /usr/local/lib/python3.10/dist-packages (from tensorflow==2.10.0) (3.3.0)\n",
            "Requirement already satisfied: packaging in /usr/local/lib/python3.10/dist-packages (from tensorflow==2.10.0) (23.1)\n",
            "Requirement already satisfied: protobuf<3.20,>=3.9.2 in /usr/local/lib/python3.10/dist-packages (from tensorflow==2.10.0) (3.19.6)\n",
            "Requirement already satisfied: setuptools in /usr/local/lib/python3.10/dist-packages (from tensorflow==2.10.0) (67.7.2)\n",
            "Requirement already satisfied: six>=1.12.0 in /usr/local/lib/python3.10/dist-packages (from tensorflow==2.10.0) (1.16.0)\n",
            "Requirement already satisfied: tensorboard<2.11,>=2.10 in /usr/local/lib/python3.10/dist-packages (from tensorflow==2.10.0) (2.10.1)\n",
            "Requirement already satisfied: tensorflow-io-gcs-filesystem>=0.23.1 in /usr/local/lib/python3.10/dist-packages (from tensorflow==2.10.0) (0.32.0)\n",
            "Requirement already satisfied: tensorflow-estimator<2.11,>=2.10.0 in /usr/local/lib/python3.10/dist-packages (from tensorflow==2.10.0) (2.10.0)\n",
            "Requirement already satisfied: termcolor>=1.1.0 in /usr/local/lib/python3.10/dist-packages (from tensorflow==2.10.0) (2.3.0)\n",
            "Requirement already satisfied: typing-extensions>=3.6.6 in /usr/local/lib/python3.10/dist-packages (from tensorflow==2.10.0) (4.5.0)\n",
            "Requirement already satisfied: wrapt>=1.11.0 in /usr/local/lib/python3.10/dist-packages (from tensorflow==2.10.0) (1.14.1)\n",
            "Requirement already satisfied: wheel<1.0,>=0.23.0 in /usr/local/lib/python3.10/dist-packages (from astunparse>=1.6.0->tensorflow==2.10.0) (0.40.0)\n",
            "Requirement already satisfied: google-auth<3,>=1.6.3 in /usr/local/lib/python3.10/dist-packages (from tensorboard<2.11,>=2.10->tensorflow==2.10.0) (2.17.3)\n",
            "Requirement already satisfied: google-auth-oauthlib<0.5,>=0.4.1 in /usr/local/lib/python3.10/dist-packages (from tensorboard<2.11,>=2.10->tensorflow==2.10.0) (0.4.6)\n",
            "Requirement already satisfied: markdown>=2.6.8 in /usr/local/lib/python3.10/dist-packages (from tensorboard<2.11,>=2.10->tensorflow==2.10.0) (3.4.3)\n",
            "Requirement already satisfied: requests<3,>=2.21.0 in /usr/local/lib/python3.10/dist-packages (from tensorboard<2.11,>=2.10->tensorflow==2.10.0) (2.27.1)\n",
            "Requirement already satisfied: tensorboard-data-server<0.7.0,>=0.6.0 in /usr/local/lib/python3.10/dist-packages (from tensorboard<2.11,>=2.10->tensorflow==2.10.0) (0.6.1)\n",
            "Requirement already satisfied: tensorboard-plugin-wit>=1.6.0 in /usr/local/lib/python3.10/dist-packages (from tensorboard<2.11,>=2.10->tensorflow==2.10.0) (1.8.1)\n",
            "Requirement already satisfied: werkzeug>=1.0.1 in /usr/local/lib/python3.10/dist-packages (from tensorboard<2.11,>=2.10->tensorflow==2.10.0) (2.3.0)\n",
            "Requirement already satisfied: cachetools<6.0,>=2.0.0 in /usr/local/lib/python3.10/dist-packages (from google-auth<3,>=1.6.3->tensorboard<2.11,>=2.10->tensorflow==2.10.0) (5.3.0)\n",
            "Requirement already satisfied: pyasn1-modules>=0.2.1 in /usr/local/lib/python3.10/dist-packages (from google-auth<3,>=1.6.3->tensorboard<2.11,>=2.10->tensorflow==2.10.0) (0.3.0)\n",
            "Requirement already satisfied: rsa<5,>=3.1.4 in /usr/local/lib/python3.10/dist-packages (from google-auth<3,>=1.6.3->tensorboard<2.11,>=2.10->tensorflow==2.10.0) (4.9)\n",
            "Requirement already satisfied: requests-oauthlib>=0.7.0 in /usr/local/lib/python3.10/dist-packages (from google-auth-oauthlib<0.5,>=0.4.1->tensorboard<2.11,>=2.10->tensorflow==2.10.0) (1.3.1)\n",
            "Requirement already satisfied: urllib3<1.27,>=1.21.1 in /usr/local/lib/python3.10/dist-packages (from requests<3,>=2.21.0->tensorboard<2.11,>=2.10->tensorflow==2.10.0) (1.26.15)\n",
            "Requirement already satisfied: certifi>=2017.4.17 in /usr/local/lib/python3.10/dist-packages (from requests<3,>=2.21.0->tensorboard<2.11,>=2.10->tensorflow==2.10.0) (2022.12.7)\n",
            "Requirement already satisfied: charset-normalizer~=2.0.0 in /usr/local/lib/python3.10/dist-packages (from requests<3,>=2.21.0->tensorboard<2.11,>=2.10->tensorflow==2.10.0) (2.0.12)\n",
            "Requirement already satisfied: idna<4,>=2.5 in /usr/local/lib/python3.10/dist-packages (from requests<3,>=2.21.0->tensorboard<2.11,>=2.10->tensorflow==2.10.0) (3.4)\n",
            "Requirement already satisfied: MarkupSafe>=2.1.1 in /usr/local/lib/python3.10/dist-packages (from werkzeug>=1.0.1->tensorboard<2.11,>=2.10->tensorflow==2.10.0) (2.1.2)\n",
            "Requirement already satisfied: pyasn1<0.6.0,>=0.4.6 in /usr/local/lib/python3.10/dist-packages (from pyasn1-modules>=0.2.1->google-auth<3,>=1.6.3->tensorboard<2.11,>=2.10->tensorflow==2.10.0) (0.5.0)\n",
            "Requirement already satisfied: oauthlib>=3.0.0 in /usr/local/lib/python3.10/dist-packages (from requests-oauthlib>=0.7.0->google-auth-oauthlib<0.5,>=0.4.1->tensorboard<2.11,>=2.10->tensorflow==2.10.0) (3.2.2)\n"
          ]
        }
      ]
    },
    {
      "cell_type": "code",
      "source": [
        "!pip install tensorflow_hub"
      ],
      "metadata": {
        "colab": {
          "base_uri": "https://localhost:8080/"
        },
        "id": "QGI-FhJjJpqD",
        "outputId": "299547dc-4a31-4640-c45c-54a5638a9ba0"
      },
      "execution_count": null,
      "outputs": [
        {
          "output_type": "stream",
          "name": "stdout",
          "text": [
            "Looking in indexes: https://pypi.org/simple, https://us-python.pkg.dev/colab-wheels/public/simple/\n",
            "Requirement already satisfied: tensorflow_hub in /usr/local/lib/python3.10/dist-packages (0.13.0)\n",
            "Requirement already satisfied: numpy>=1.12.0 in /usr/local/lib/python3.10/dist-packages (from tensorflow_hub) (1.22.4)\n",
            "Requirement already satisfied: protobuf>=3.19.6 in /usr/local/lib/python3.10/dist-packages (from tensorflow_hub) (3.19.6)\n"
          ]
        }
      ]
    },
    {
      "cell_type": "code",
      "execution_count": null,
      "metadata": {
        "id": "YczvGfBJ8M8W"
      },
      "outputs": [],
      "source": [
        "import os\n",
        "import re\n",
        "import pandas as pd\n",
        "import numpy as np\n",
        "\n",
        "from sklearn.preprocessing import LabelEncoder\n",
        "from sklearn.metrics import accuracy_score, precision_score, recall_score, f1_score, confusion_matrix\n",
        "\n",
        "import seaborn as sns\n",
        "import matplotlib.pyplot as plt\n",
        "\n",
        "import tensorflow as tf\n",
        "import tensorflow_hub as hub\n",
        "from tensorflow.keras.preprocessing.text import Tokenizer\n",
        "from tensorflow.keras.preprocessing.sequence import pad_sequences\n",
        "from tensorflow.keras.callbacks import ModelCheckpoint\n",
        "from tensorflow.keras.callbacks import EarlyStopping\n",
        "from tensorflow.keras.models import Model, Sequential\n",
        "from tensorflow.keras.layers import Dense, Dropout, Embedding, LSTM, GRU, Bidirectional, Reshape, BatchNormalization\n",
        "from tensorflow.keras.layers import Conv1D, MaxPooling1D, GlobalMaxPooling1D, SpatialDropout1D\n",
        "from tensorflow.keras.utils import to_categorical\n",
        "from tensorflow.keras.callbacks import EarlyStopping\n",
        "from tensorflow.keras.initializers import Constant\n",
        "from tensorflow.keras.optimizers import Adam"
      ]
    },
    {
      "cell_type": "code",
      "source": [
        "from google.colab import drive\n",
        "\n",
        "drive.mount('/content/drive')"
      ],
      "metadata": {
        "colab": {
          "base_uri": "https://localhost:8080/"
        },
        "id": "WbeuP96kwaoU",
        "outputId": "bd38d6c2-3b00-46e3-efad-570e3774749f"
      },
      "execution_count": null,
      "outputs": [
        {
          "output_type": "stream",
          "name": "stdout",
          "text": [
            "Mounted at /content/drive\n"
          ]
        }
      ]
    },
    {
      "cell_type": "markdown",
      "source": [
        "# Loading Dataset"
      ],
      "metadata": {
        "id": "W3X4j5_5_NOO"
      }
    },
    {
      "cell_type": "code",
      "source": [
        "positif = pd.read_csv('/content/drive/MyDrive/SKRIPSI/training/data_positif_baru.csv')\n",
        "\n",
        "positif"
      ],
      "metadata": {
        "colab": {
          "base_uri": "https://localhost:8080/",
          "height": 423
        },
        "id": "UQ8Geb1uC9tY",
        "outputId": "304dc731-ebe9-4737-8704-2afdb00bddd8"
      },
      "execution_count": null,
      "outputs": [
        {
          "output_type": "execute_result",
          "data": {
            "text/plain": [
              "                                            CleanTweets    label\n",
              "0      abang abang jne sicepat ninja baik baik benar si  positif\n",
              "1                          abang abang sicepat ramah ya  positif\n",
              "2      abang ambil ninja express baik sekali cepat lagi  positif\n",
              "3     abang jne barusan antar paket manis sekali bai...  positif\n",
              "4       abang jnt express mah memang cepat mantap betul  positif\n",
              "...                                                 ...      ...\n",
              "1995  ya teh dulu guna setia tiki mahal tiki jne pak...  positif\n",
              "1996  ya tidak sangka cepat banget tertawa pakai jne...  positif\n",
              "1997  ya tuhan kaget banget baru tahu kirim paket pa...  positif\n",
              "1998     zaman banyak belanja daring sicepat rebut hati  positif\n",
              "1999     zaman mah ya pakai grabexpress sat set sat set  positif\n",
              "\n",
              "[2000 rows x 2 columns]"
            ],
            "text/html": [
              "\n",
              "  <div id=\"df-09364d7a-d55e-4a0c-a295-a6f1d74a72fb\">\n",
              "    <div class=\"colab-df-container\">\n",
              "      <div>\n",
              "<style scoped>\n",
              "    .dataframe tbody tr th:only-of-type {\n",
              "        vertical-align: middle;\n",
              "    }\n",
              "\n",
              "    .dataframe tbody tr th {\n",
              "        vertical-align: top;\n",
              "    }\n",
              "\n",
              "    .dataframe thead th {\n",
              "        text-align: right;\n",
              "    }\n",
              "</style>\n",
              "<table border=\"1\" class=\"dataframe\">\n",
              "  <thead>\n",
              "    <tr style=\"text-align: right;\">\n",
              "      <th></th>\n",
              "      <th>CleanTweets</th>\n",
              "      <th>label</th>\n",
              "    </tr>\n",
              "  </thead>\n",
              "  <tbody>\n",
              "    <tr>\n",
              "      <th>0</th>\n",
              "      <td>abang abang jne sicepat ninja baik baik benar si</td>\n",
              "      <td>positif</td>\n",
              "    </tr>\n",
              "    <tr>\n",
              "      <th>1</th>\n",
              "      <td>abang abang sicepat ramah ya</td>\n",
              "      <td>positif</td>\n",
              "    </tr>\n",
              "    <tr>\n",
              "      <th>2</th>\n",
              "      <td>abang ambil ninja express baik sekali cepat lagi</td>\n",
              "      <td>positif</td>\n",
              "    </tr>\n",
              "    <tr>\n",
              "      <th>3</th>\n",
              "      <td>abang jne barusan antar paket manis sekali bai...</td>\n",
              "      <td>positif</td>\n",
              "    </tr>\n",
              "    <tr>\n",
              "      <th>4</th>\n",
              "      <td>abang jnt express mah memang cepat mantap betul</td>\n",
              "      <td>positif</td>\n",
              "    </tr>\n",
              "    <tr>\n",
              "      <th>...</th>\n",
              "      <td>...</td>\n",
              "      <td>...</td>\n",
              "    </tr>\n",
              "    <tr>\n",
              "      <th>1995</th>\n",
              "      <td>ya teh dulu guna setia tiki mahal tiki jne pak...</td>\n",
              "      <td>positif</td>\n",
              "    </tr>\n",
              "    <tr>\n",
              "      <th>1996</th>\n",
              "      <td>ya tidak sangka cepat banget tertawa pakai jne...</td>\n",
              "      <td>positif</td>\n",
              "    </tr>\n",
              "    <tr>\n",
              "      <th>1997</th>\n",
              "      <td>ya tuhan kaget banget baru tahu kirim paket pa...</td>\n",
              "      <td>positif</td>\n",
              "    </tr>\n",
              "    <tr>\n",
              "      <th>1998</th>\n",
              "      <td>zaman banyak belanja daring sicepat rebut hati</td>\n",
              "      <td>positif</td>\n",
              "    </tr>\n",
              "    <tr>\n",
              "      <th>1999</th>\n",
              "      <td>zaman mah ya pakai grabexpress sat set sat set</td>\n",
              "      <td>positif</td>\n",
              "    </tr>\n",
              "  </tbody>\n",
              "</table>\n",
              "<p>2000 rows × 2 columns</p>\n",
              "</div>\n",
              "      <button class=\"colab-df-convert\" onclick=\"convertToInteractive('df-09364d7a-d55e-4a0c-a295-a6f1d74a72fb')\"\n",
              "              title=\"Convert this dataframe to an interactive table.\"\n",
              "              style=\"display:none;\">\n",
              "        \n",
              "  <svg xmlns=\"http://www.w3.org/2000/svg\" height=\"24px\"viewBox=\"0 0 24 24\"\n",
              "       width=\"24px\">\n",
              "    <path d=\"M0 0h24v24H0V0z\" fill=\"none\"/>\n",
              "    <path d=\"M18.56 5.44l.94 2.06.94-2.06 2.06-.94-2.06-.94-.94-2.06-.94 2.06-2.06.94zm-11 1L8.5 8.5l.94-2.06 2.06-.94-2.06-.94L8.5 2.5l-.94 2.06-2.06.94zm10 10l.94 2.06.94-2.06 2.06-.94-2.06-.94-.94-2.06-.94 2.06-2.06.94z\"/><path d=\"M17.41 7.96l-1.37-1.37c-.4-.4-.92-.59-1.43-.59-.52 0-1.04.2-1.43.59L10.3 9.45l-7.72 7.72c-.78.78-.78 2.05 0 2.83L4 21.41c.39.39.9.59 1.41.59.51 0 1.02-.2 1.41-.59l7.78-7.78 2.81-2.81c.8-.78.8-2.07 0-2.86zM5.41 20L4 18.59l7.72-7.72 1.47 1.35L5.41 20z\"/>\n",
              "  </svg>\n",
              "      </button>\n",
              "      \n",
              "  <style>\n",
              "    .colab-df-container {\n",
              "      display:flex;\n",
              "      flex-wrap:wrap;\n",
              "      gap: 12px;\n",
              "    }\n",
              "\n",
              "    .colab-df-convert {\n",
              "      background-color: #E8F0FE;\n",
              "      border: none;\n",
              "      border-radius: 50%;\n",
              "      cursor: pointer;\n",
              "      display: none;\n",
              "      fill: #1967D2;\n",
              "      height: 32px;\n",
              "      padding: 0 0 0 0;\n",
              "      width: 32px;\n",
              "    }\n",
              "\n",
              "    .colab-df-convert:hover {\n",
              "      background-color: #E2EBFA;\n",
              "      box-shadow: 0px 1px 2px rgba(60, 64, 67, 0.3), 0px 1px 3px 1px rgba(60, 64, 67, 0.15);\n",
              "      fill: #174EA6;\n",
              "    }\n",
              "\n",
              "    [theme=dark] .colab-df-convert {\n",
              "      background-color: #3B4455;\n",
              "      fill: #D2E3FC;\n",
              "    }\n",
              "\n",
              "    [theme=dark] .colab-df-convert:hover {\n",
              "      background-color: #434B5C;\n",
              "      box-shadow: 0px 1px 3px 1px rgba(0, 0, 0, 0.15);\n",
              "      filter: drop-shadow(0px 1px 2px rgba(0, 0, 0, 0.3));\n",
              "      fill: #FFFFFF;\n",
              "    }\n",
              "  </style>\n",
              "\n",
              "      <script>\n",
              "        const buttonEl =\n",
              "          document.querySelector('#df-09364d7a-d55e-4a0c-a295-a6f1d74a72fb button.colab-df-convert');\n",
              "        buttonEl.style.display =\n",
              "          google.colab.kernel.accessAllowed ? 'block' : 'none';\n",
              "\n",
              "        async function convertToInteractive(key) {\n",
              "          const element = document.querySelector('#df-09364d7a-d55e-4a0c-a295-a6f1d74a72fb');\n",
              "          const dataTable =\n",
              "            await google.colab.kernel.invokeFunction('convertToInteractive',\n",
              "                                                     [key], {});\n",
              "          if (!dataTable) return;\n",
              "\n",
              "          const docLinkHtml = 'Like what you see? Visit the ' +\n",
              "            '<a target=\"_blank\" href=https://colab.research.google.com/notebooks/data_table.ipynb>data table notebook</a>'\n",
              "            + ' to learn more about interactive tables.';\n",
              "          element.innerHTML = '';\n",
              "          dataTable['output_type'] = 'display_data';\n",
              "          await google.colab.output.renderOutput(dataTable, element);\n",
              "          const docLink = document.createElement('div');\n",
              "          docLink.innerHTML = docLinkHtml;\n",
              "          element.appendChild(docLink);\n",
              "        }\n",
              "      </script>\n",
              "    </div>\n",
              "  </div>\n",
              "  "
            ]
          },
          "metadata": {},
          "execution_count": 5
        }
      ]
    },
    {
      "cell_type": "code",
      "source": [
        "negatif = pd.read_csv('/content/drive/MyDrive/SKRIPSI/training/data_negatif_baru.csv')\n",
        "\n",
        "negatif"
      ],
      "metadata": {
        "colab": {
          "base_uri": "https://localhost:8080/",
          "height": 423
        },
        "id": "cjkBB1NZDYSb",
        "outputId": "e24331e2-dedf-48d5-cc1a-b555692e79ca"
      },
      "execution_count": null,
      "outputs": [
        {
          "output_type": "execute_result",
          "data": {
            "text/plain": [
              "                                            CleanTweets    label\n",
              "0     abah memang sicepat lambat sekali ya allah pak...  negatif\n",
              "1     abang abang anteraja hilang melulu ih pagi pag...  negatif\n",
              "2     abang abang jne lagi sih hari status proses as...  negatif\n",
              "3     abang jne sudah sampai gedor gedor pagar tidak...  negatif\n",
              "4     abang jne tunggu pagi tidak datang datang awas...  negatif\n",
              "...                                                 ...      ...\n",
              "1995        ya tuhan sebut kasar sicepat badut oh badut  negatif\n",
              "1996  ya tuhan tahu begitu kemarin tidak pilih ekspe...  negatif\n",
              "1997  yakin jual nya curang respons sudah beli saja ...  negatif\n",
              "1998                   yakin tidak gulung tikar merosot  negatif\n",
              "1999  yth kirim paket sudah estimasi maksimal belum ...  negatif\n",
              "\n",
              "[2000 rows x 2 columns]"
            ],
            "text/html": [
              "\n",
              "  <div id=\"df-cf8d065e-0614-4c34-bdbe-8b01344d1eec\">\n",
              "    <div class=\"colab-df-container\">\n",
              "      <div>\n",
              "<style scoped>\n",
              "    .dataframe tbody tr th:only-of-type {\n",
              "        vertical-align: middle;\n",
              "    }\n",
              "\n",
              "    .dataframe tbody tr th {\n",
              "        vertical-align: top;\n",
              "    }\n",
              "\n",
              "    .dataframe thead th {\n",
              "        text-align: right;\n",
              "    }\n",
              "</style>\n",
              "<table border=\"1\" class=\"dataframe\">\n",
              "  <thead>\n",
              "    <tr style=\"text-align: right;\">\n",
              "      <th></th>\n",
              "      <th>CleanTweets</th>\n",
              "      <th>label</th>\n",
              "    </tr>\n",
              "  </thead>\n",
              "  <tbody>\n",
              "    <tr>\n",
              "      <th>0</th>\n",
              "      <td>abah memang sicepat lambat sekali ya allah pak...</td>\n",
              "      <td>negatif</td>\n",
              "    </tr>\n",
              "    <tr>\n",
              "      <th>1</th>\n",
              "      <td>abang abang anteraja hilang melulu ih pagi pag...</td>\n",
              "      <td>negatif</td>\n",
              "    </tr>\n",
              "    <tr>\n",
              "      <th>2</th>\n",
              "      <td>abang abang jne lagi sih hari status proses as...</td>\n",
              "      <td>negatif</td>\n",
              "    </tr>\n",
              "    <tr>\n",
              "      <th>3</th>\n",
              "      <td>abang jne sudah sampai gedor gedor pagar tidak...</td>\n",
              "      <td>negatif</td>\n",
              "    </tr>\n",
              "    <tr>\n",
              "      <th>4</th>\n",
              "      <td>abang jne tunggu pagi tidak datang datang awas...</td>\n",
              "      <td>negatif</td>\n",
              "    </tr>\n",
              "    <tr>\n",
              "      <th>...</th>\n",
              "      <td>...</td>\n",
              "      <td>...</td>\n",
              "    </tr>\n",
              "    <tr>\n",
              "      <th>1995</th>\n",
              "      <td>ya tuhan sebut kasar sicepat badut oh badut</td>\n",
              "      <td>negatif</td>\n",
              "    </tr>\n",
              "    <tr>\n",
              "      <th>1996</th>\n",
              "      <td>ya tuhan tahu begitu kemarin tidak pilih ekspe...</td>\n",
              "      <td>negatif</td>\n",
              "    </tr>\n",
              "    <tr>\n",
              "      <th>1997</th>\n",
              "      <td>yakin jual nya curang respons sudah beli saja ...</td>\n",
              "      <td>negatif</td>\n",
              "    </tr>\n",
              "    <tr>\n",
              "      <th>1998</th>\n",
              "      <td>yakin tidak gulung tikar merosot</td>\n",
              "      <td>negatif</td>\n",
              "    </tr>\n",
              "    <tr>\n",
              "      <th>1999</th>\n",
              "      <td>yth kirim paket sudah estimasi maksimal belum ...</td>\n",
              "      <td>negatif</td>\n",
              "    </tr>\n",
              "  </tbody>\n",
              "</table>\n",
              "<p>2000 rows × 2 columns</p>\n",
              "</div>\n",
              "      <button class=\"colab-df-convert\" onclick=\"convertToInteractive('df-cf8d065e-0614-4c34-bdbe-8b01344d1eec')\"\n",
              "              title=\"Convert this dataframe to an interactive table.\"\n",
              "              style=\"display:none;\">\n",
              "        \n",
              "  <svg xmlns=\"http://www.w3.org/2000/svg\" height=\"24px\"viewBox=\"0 0 24 24\"\n",
              "       width=\"24px\">\n",
              "    <path d=\"M0 0h24v24H0V0z\" fill=\"none\"/>\n",
              "    <path d=\"M18.56 5.44l.94 2.06.94-2.06 2.06-.94-2.06-.94-.94-2.06-.94 2.06-2.06.94zm-11 1L8.5 8.5l.94-2.06 2.06-.94-2.06-.94L8.5 2.5l-.94 2.06-2.06.94zm10 10l.94 2.06.94-2.06 2.06-.94-2.06-.94-.94-2.06-.94 2.06-2.06.94z\"/><path d=\"M17.41 7.96l-1.37-1.37c-.4-.4-.92-.59-1.43-.59-.52 0-1.04.2-1.43.59L10.3 9.45l-7.72 7.72c-.78.78-.78 2.05 0 2.83L4 21.41c.39.39.9.59 1.41.59.51 0 1.02-.2 1.41-.59l7.78-7.78 2.81-2.81c.8-.78.8-2.07 0-2.86zM5.41 20L4 18.59l7.72-7.72 1.47 1.35L5.41 20z\"/>\n",
              "  </svg>\n",
              "      </button>\n",
              "      \n",
              "  <style>\n",
              "    .colab-df-container {\n",
              "      display:flex;\n",
              "      flex-wrap:wrap;\n",
              "      gap: 12px;\n",
              "    }\n",
              "\n",
              "    .colab-df-convert {\n",
              "      background-color: #E8F0FE;\n",
              "      border: none;\n",
              "      border-radius: 50%;\n",
              "      cursor: pointer;\n",
              "      display: none;\n",
              "      fill: #1967D2;\n",
              "      height: 32px;\n",
              "      padding: 0 0 0 0;\n",
              "      width: 32px;\n",
              "    }\n",
              "\n",
              "    .colab-df-convert:hover {\n",
              "      background-color: #E2EBFA;\n",
              "      box-shadow: 0px 1px 2px rgba(60, 64, 67, 0.3), 0px 1px 3px 1px rgba(60, 64, 67, 0.15);\n",
              "      fill: #174EA6;\n",
              "    }\n",
              "\n",
              "    [theme=dark] .colab-df-convert {\n",
              "      background-color: #3B4455;\n",
              "      fill: #D2E3FC;\n",
              "    }\n",
              "\n",
              "    [theme=dark] .colab-df-convert:hover {\n",
              "      background-color: #434B5C;\n",
              "      box-shadow: 0px 1px 3px 1px rgba(0, 0, 0, 0.15);\n",
              "      filter: drop-shadow(0px 1px 2px rgba(0, 0, 0, 0.3));\n",
              "      fill: #FFFFFF;\n",
              "    }\n",
              "  </style>\n",
              "\n",
              "      <script>\n",
              "        const buttonEl =\n",
              "          document.querySelector('#df-cf8d065e-0614-4c34-bdbe-8b01344d1eec button.colab-df-convert');\n",
              "        buttonEl.style.display =\n",
              "          google.colab.kernel.accessAllowed ? 'block' : 'none';\n",
              "\n",
              "        async function convertToInteractive(key) {\n",
              "          const element = document.querySelector('#df-cf8d065e-0614-4c34-bdbe-8b01344d1eec');\n",
              "          const dataTable =\n",
              "            await google.colab.kernel.invokeFunction('convertToInteractive',\n",
              "                                                     [key], {});\n",
              "          if (!dataTable) return;\n",
              "\n",
              "          const docLinkHtml = 'Like what you see? Visit the ' +\n",
              "            '<a target=\"_blank\" href=https://colab.research.google.com/notebooks/data_table.ipynb>data table notebook</a>'\n",
              "            + ' to learn more about interactive tables.';\n",
              "          element.innerHTML = '';\n",
              "          dataTable['output_type'] = 'display_data';\n",
              "          await google.colab.output.renderOutput(dataTable, element);\n",
              "          const docLink = document.createElement('div');\n",
              "          docLink.innerHTML = docLinkHtml;\n",
              "          element.appendChild(docLink);\n",
              "        }\n",
              "      </script>\n",
              "    </div>\n",
              "  </div>\n",
              "  "
            ]
          },
          "metadata": {},
          "execution_count": 6
        }
      ]
    },
    {
      "cell_type": "code",
      "source": [
        "netral = pd.read_csv('/content/drive/MyDrive/SKRIPSI/training/data_netral_baru.csv')\n",
        "\n",
        "netral"
      ],
      "metadata": {
        "colab": {
          "base_uri": "https://localhost:8080/",
          "height": 423
        },
        "id": "_AqviicpDean",
        "outputId": "6c466fad-db35-4f53-c5e3-2b9a2514fef5"
      },
      "execution_count": null,
      "outputs": [
        {
          "output_type": "execute_result",
          "data": {
            "text/plain": [
              "                                            CleanTweets   label\n",
              "0                   abad pemudi tidak bisa pesan gosend  netral\n",
              "1     abadi momen metal lagi jam an gosend tidak bis...  netral\n",
              "2      abang abang anteraja bosan tidak ya rumah melulu  netral\n",
              "3     abang abang anteraja mau ambil tanya minggu ac...  netral\n",
              "4     abang abang anteraja niat sekali sampai video ...  netral\n",
              "...                                                 ...     ...\n",
              "1995  zaman semester berapa ya lupa gosend diska lep...  netral\n",
              "1996  zen bawa juta negosiasi tipis atas boleh pesan...  netral\n",
              "1997                  zona merah akhir suruh gosend kak  netral\n",
              "1998       zona uang kode promo kupon gosend bisa cepat  netral\n",
              "1999  zoom an teman teman kantor lama sudah pencar n...  netral\n",
              "\n",
              "[2000 rows x 2 columns]"
            ],
            "text/html": [
              "\n",
              "  <div id=\"df-d95fad0c-53a0-4054-a9f7-0bcacdc2ee0a\">\n",
              "    <div class=\"colab-df-container\">\n",
              "      <div>\n",
              "<style scoped>\n",
              "    .dataframe tbody tr th:only-of-type {\n",
              "        vertical-align: middle;\n",
              "    }\n",
              "\n",
              "    .dataframe tbody tr th {\n",
              "        vertical-align: top;\n",
              "    }\n",
              "\n",
              "    .dataframe thead th {\n",
              "        text-align: right;\n",
              "    }\n",
              "</style>\n",
              "<table border=\"1\" class=\"dataframe\">\n",
              "  <thead>\n",
              "    <tr style=\"text-align: right;\">\n",
              "      <th></th>\n",
              "      <th>CleanTweets</th>\n",
              "      <th>label</th>\n",
              "    </tr>\n",
              "  </thead>\n",
              "  <tbody>\n",
              "    <tr>\n",
              "      <th>0</th>\n",
              "      <td>abad pemudi tidak bisa pesan gosend</td>\n",
              "      <td>netral</td>\n",
              "    </tr>\n",
              "    <tr>\n",
              "      <th>1</th>\n",
              "      <td>abadi momen metal lagi jam an gosend tidak bis...</td>\n",
              "      <td>netral</td>\n",
              "    </tr>\n",
              "    <tr>\n",
              "      <th>2</th>\n",
              "      <td>abang abang anteraja bosan tidak ya rumah melulu</td>\n",
              "      <td>netral</td>\n",
              "    </tr>\n",
              "    <tr>\n",
              "      <th>3</th>\n",
              "      <td>abang abang anteraja mau ambil tanya minggu ac...</td>\n",
              "      <td>netral</td>\n",
              "    </tr>\n",
              "    <tr>\n",
              "      <th>4</th>\n",
              "      <td>abang abang anteraja niat sekali sampai video ...</td>\n",
              "      <td>netral</td>\n",
              "    </tr>\n",
              "    <tr>\n",
              "      <th>...</th>\n",
              "      <td>...</td>\n",
              "      <td>...</td>\n",
              "    </tr>\n",
              "    <tr>\n",
              "      <th>1995</th>\n",
              "      <td>zaman semester berapa ya lupa gosend diska lep...</td>\n",
              "      <td>netral</td>\n",
              "    </tr>\n",
              "    <tr>\n",
              "      <th>1996</th>\n",
              "      <td>zen bawa juta negosiasi tipis atas boleh pesan...</td>\n",
              "      <td>netral</td>\n",
              "    </tr>\n",
              "    <tr>\n",
              "      <th>1997</th>\n",
              "      <td>zona merah akhir suruh gosend kak</td>\n",
              "      <td>netral</td>\n",
              "    </tr>\n",
              "    <tr>\n",
              "      <th>1998</th>\n",
              "      <td>zona uang kode promo kupon gosend bisa cepat</td>\n",
              "      <td>netral</td>\n",
              "    </tr>\n",
              "    <tr>\n",
              "      <th>1999</th>\n",
              "      <td>zoom an teman teman kantor lama sudah pencar n...</td>\n",
              "      <td>netral</td>\n",
              "    </tr>\n",
              "  </tbody>\n",
              "</table>\n",
              "<p>2000 rows × 2 columns</p>\n",
              "</div>\n",
              "      <button class=\"colab-df-convert\" onclick=\"convertToInteractive('df-d95fad0c-53a0-4054-a9f7-0bcacdc2ee0a')\"\n",
              "              title=\"Convert this dataframe to an interactive table.\"\n",
              "              style=\"display:none;\">\n",
              "        \n",
              "  <svg xmlns=\"http://www.w3.org/2000/svg\" height=\"24px\"viewBox=\"0 0 24 24\"\n",
              "       width=\"24px\">\n",
              "    <path d=\"M0 0h24v24H0V0z\" fill=\"none\"/>\n",
              "    <path d=\"M18.56 5.44l.94 2.06.94-2.06 2.06-.94-2.06-.94-.94-2.06-.94 2.06-2.06.94zm-11 1L8.5 8.5l.94-2.06 2.06-.94-2.06-.94L8.5 2.5l-.94 2.06-2.06.94zm10 10l.94 2.06.94-2.06 2.06-.94-2.06-.94-.94-2.06-.94 2.06-2.06.94z\"/><path d=\"M17.41 7.96l-1.37-1.37c-.4-.4-.92-.59-1.43-.59-.52 0-1.04.2-1.43.59L10.3 9.45l-7.72 7.72c-.78.78-.78 2.05 0 2.83L4 21.41c.39.39.9.59 1.41.59.51 0 1.02-.2 1.41-.59l7.78-7.78 2.81-2.81c.8-.78.8-2.07 0-2.86zM5.41 20L4 18.59l7.72-7.72 1.47 1.35L5.41 20z\"/>\n",
              "  </svg>\n",
              "      </button>\n",
              "      \n",
              "  <style>\n",
              "    .colab-df-container {\n",
              "      display:flex;\n",
              "      flex-wrap:wrap;\n",
              "      gap: 12px;\n",
              "    }\n",
              "\n",
              "    .colab-df-convert {\n",
              "      background-color: #E8F0FE;\n",
              "      border: none;\n",
              "      border-radius: 50%;\n",
              "      cursor: pointer;\n",
              "      display: none;\n",
              "      fill: #1967D2;\n",
              "      height: 32px;\n",
              "      padding: 0 0 0 0;\n",
              "      width: 32px;\n",
              "    }\n",
              "\n",
              "    .colab-df-convert:hover {\n",
              "      background-color: #E2EBFA;\n",
              "      box-shadow: 0px 1px 2px rgba(60, 64, 67, 0.3), 0px 1px 3px 1px rgba(60, 64, 67, 0.15);\n",
              "      fill: #174EA6;\n",
              "    }\n",
              "\n",
              "    [theme=dark] .colab-df-convert {\n",
              "      background-color: #3B4455;\n",
              "      fill: #D2E3FC;\n",
              "    }\n",
              "\n",
              "    [theme=dark] .colab-df-convert:hover {\n",
              "      background-color: #434B5C;\n",
              "      box-shadow: 0px 1px 3px 1px rgba(0, 0, 0, 0.15);\n",
              "      filter: drop-shadow(0px 1px 2px rgba(0, 0, 0, 0.3));\n",
              "      fill: #FFFFFF;\n",
              "    }\n",
              "  </style>\n",
              "\n",
              "      <script>\n",
              "        const buttonEl =\n",
              "          document.querySelector('#df-d95fad0c-53a0-4054-a9f7-0bcacdc2ee0a button.colab-df-convert');\n",
              "        buttonEl.style.display =\n",
              "          google.colab.kernel.accessAllowed ? 'block' : 'none';\n",
              "\n",
              "        async function convertToInteractive(key) {\n",
              "          const element = document.querySelector('#df-d95fad0c-53a0-4054-a9f7-0bcacdc2ee0a');\n",
              "          const dataTable =\n",
              "            await google.colab.kernel.invokeFunction('convertToInteractive',\n",
              "                                                     [key], {});\n",
              "          if (!dataTable) return;\n",
              "\n",
              "          const docLinkHtml = 'Like what you see? Visit the ' +\n",
              "            '<a target=\"_blank\" href=https://colab.research.google.com/notebooks/data_table.ipynb>data table notebook</a>'\n",
              "            + ' to learn more about interactive tables.';\n",
              "          element.innerHTML = '';\n",
              "          dataTable['output_type'] = 'display_data';\n",
              "          await google.colab.output.renderOutput(dataTable, element);\n",
              "          const docLink = document.createElement('div');\n",
              "          docLink.innerHTML = docLinkHtml;\n",
              "          element.appendChild(docLink);\n",
              "        }\n",
              "      </script>\n",
              "    </div>\n",
              "  </div>\n",
              "  "
            ]
          },
          "metadata": {},
          "execution_count": 7
        }
      ]
    },
    {
      "cell_type": "code",
      "source": [
        "# menggabungkan data ke dalam dataset\n",
        "\n",
        "data = pd.concat([positif, negatif, netral])\n",
        "data.reset_index(drop=True, inplace = True)\n",
        "\n",
        "data"
      ],
      "metadata": {
        "colab": {
          "base_uri": "https://localhost:8080/",
          "height": 423
        },
        "id": "qEmQU7p9DjCP",
        "outputId": "fcb77bc7-6293-423e-cddf-445d6b134b09"
      },
      "execution_count": null,
      "outputs": [
        {
          "output_type": "execute_result",
          "data": {
            "text/plain": [
              "                                            CleanTweets    label\n",
              "0      abang abang jne sicepat ninja baik baik benar si  positif\n",
              "1                          abang abang sicepat ramah ya  positif\n",
              "2      abang ambil ninja express baik sekali cepat lagi  positif\n",
              "3     abang jne barusan antar paket manis sekali bai...  positif\n",
              "4       abang jnt express mah memang cepat mantap betul  positif\n",
              "...                                                 ...      ...\n",
              "5995  zaman semester berapa ya lupa gosend diska lep...   netral\n",
              "5996  zen bawa juta negosiasi tipis atas boleh pesan...   netral\n",
              "5997                  zona merah akhir suruh gosend kak   netral\n",
              "5998       zona uang kode promo kupon gosend bisa cepat   netral\n",
              "5999  zoom an teman teman kantor lama sudah pencar n...   netral\n",
              "\n",
              "[6000 rows x 2 columns]"
            ],
            "text/html": [
              "\n",
              "  <div id=\"df-00712671-319e-4050-9012-3fb81020f7c6\">\n",
              "    <div class=\"colab-df-container\">\n",
              "      <div>\n",
              "<style scoped>\n",
              "    .dataframe tbody tr th:only-of-type {\n",
              "        vertical-align: middle;\n",
              "    }\n",
              "\n",
              "    .dataframe tbody tr th {\n",
              "        vertical-align: top;\n",
              "    }\n",
              "\n",
              "    .dataframe thead th {\n",
              "        text-align: right;\n",
              "    }\n",
              "</style>\n",
              "<table border=\"1\" class=\"dataframe\">\n",
              "  <thead>\n",
              "    <tr style=\"text-align: right;\">\n",
              "      <th></th>\n",
              "      <th>CleanTweets</th>\n",
              "      <th>label</th>\n",
              "    </tr>\n",
              "  </thead>\n",
              "  <tbody>\n",
              "    <tr>\n",
              "      <th>0</th>\n",
              "      <td>abang abang jne sicepat ninja baik baik benar si</td>\n",
              "      <td>positif</td>\n",
              "    </tr>\n",
              "    <tr>\n",
              "      <th>1</th>\n",
              "      <td>abang abang sicepat ramah ya</td>\n",
              "      <td>positif</td>\n",
              "    </tr>\n",
              "    <tr>\n",
              "      <th>2</th>\n",
              "      <td>abang ambil ninja express baik sekali cepat lagi</td>\n",
              "      <td>positif</td>\n",
              "    </tr>\n",
              "    <tr>\n",
              "      <th>3</th>\n",
              "      <td>abang jne barusan antar paket manis sekali bai...</td>\n",
              "      <td>positif</td>\n",
              "    </tr>\n",
              "    <tr>\n",
              "      <th>4</th>\n",
              "      <td>abang jnt express mah memang cepat mantap betul</td>\n",
              "      <td>positif</td>\n",
              "    </tr>\n",
              "    <tr>\n",
              "      <th>...</th>\n",
              "      <td>...</td>\n",
              "      <td>...</td>\n",
              "    </tr>\n",
              "    <tr>\n",
              "      <th>5995</th>\n",
              "      <td>zaman semester berapa ya lupa gosend diska lep...</td>\n",
              "      <td>netral</td>\n",
              "    </tr>\n",
              "    <tr>\n",
              "      <th>5996</th>\n",
              "      <td>zen bawa juta negosiasi tipis atas boleh pesan...</td>\n",
              "      <td>netral</td>\n",
              "    </tr>\n",
              "    <tr>\n",
              "      <th>5997</th>\n",
              "      <td>zona merah akhir suruh gosend kak</td>\n",
              "      <td>netral</td>\n",
              "    </tr>\n",
              "    <tr>\n",
              "      <th>5998</th>\n",
              "      <td>zona uang kode promo kupon gosend bisa cepat</td>\n",
              "      <td>netral</td>\n",
              "    </tr>\n",
              "    <tr>\n",
              "      <th>5999</th>\n",
              "      <td>zoom an teman teman kantor lama sudah pencar n...</td>\n",
              "      <td>netral</td>\n",
              "    </tr>\n",
              "  </tbody>\n",
              "</table>\n",
              "<p>6000 rows × 2 columns</p>\n",
              "</div>\n",
              "      <button class=\"colab-df-convert\" onclick=\"convertToInteractive('df-00712671-319e-4050-9012-3fb81020f7c6')\"\n",
              "              title=\"Convert this dataframe to an interactive table.\"\n",
              "              style=\"display:none;\">\n",
              "        \n",
              "  <svg xmlns=\"http://www.w3.org/2000/svg\" height=\"24px\"viewBox=\"0 0 24 24\"\n",
              "       width=\"24px\">\n",
              "    <path d=\"M0 0h24v24H0V0z\" fill=\"none\"/>\n",
              "    <path d=\"M18.56 5.44l.94 2.06.94-2.06 2.06-.94-2.06-.94-.94-2.06-.94 2.06-2.06.94zm-11 1L8.5 8.5l.94-2.06 2.06-.94-2.06-.94L8.5 2.5l-.94 2.06-2.06.94zm10 10l.94 2.06.94-2.06 2.06-.94-2.06-.94-.94-2.06-.94 2.06-2.06.94z\"/><path d=\"M17.41 7.96l-1.37-1.37c-.4-.4-.92-.59-1.43-.59-.52 0-1.04.2-1.43.59L10.3 9.45l-7.72 7.72c-.78.78-.78 2.05 0 2.83L4 21.41c.39.39.9.59 1.41.59.51 0 1.02-.2 1.41-.59l7.78-7.78 2.81-2.81c.8-.78.8-2.07 0-2.86zM5.41 20L4 18.59l7.72-7.72 1.47 1.35L5.41 20z\"/>\n",
              "  </svg>\n",
              "      </button>\n",
              "      \n",
              "  <style>\n",
              "    .colab-df-container {\n",
              "      display:flex;\n",
              "      flex-wrap:wrap;\n",
              "      gap: 12px;\n",
              "    }\n",
              "\n",
              "    .colab-df-convert {\n",
              "      background-color: #E8F0FE;\n",
              "      border: none;\n",
              "      border-radius: 50%;\n",
              "      cursor: pointer;\n",
              "      display: none;\n",
              "      fill: #1967D2;\n",
              "      height: 32px;\n",
              "      padding: 0 0 0 0;\n",
              "      width: 32px;\n",
              "    }\n",
              "\n",
              "    .colab-df-convert:hover {\n",
              "      background-color: #E2EBFA;\n",
              "      box-shadow: 0px 1px 2px rgba(60, 64, 67, 0.3), 0px 1px 3px 1px rgba(60, 64, 67, 0.15);\n",
              "      fill: #174EA6;\n",
              "    }\n",
              "\n",
              "    [theme=dark] .colab-df-convert {\n",
              "      background-color: #3B4455;\n",
              "      fill: #D2E3FC;\n",
              "    }\n",
              "\n",
              "    [theme=dark] .colab-df-convert:hover {\n",
              "      background-color: #434B5C;\n",
              "      box-shadow: 0px 1px 3px 1px rgba(0, 0, 0, 0.15);\n",
              "      filter: drop-shadow(0px 1px 2px rgba(0, 0, 0, 0.3));\n",
              "      fill: #FFFFFF;\n",
              "    }\n",
              "  </style>\n",
              "\n",
              "      <script>\n",
              "        const buttonEl =\n",
              "          document.querySelector('#df-00712671-319e-4050-9012-3fb81020f7c6 button.colab-df-convert');\n",
              "        buttonEl.style.display =\n",
              "          google.colab.kernel.accessAllowed ? 'block' : 'none';\n",
              "\n",
              "        async function convertToInteractive(key) {\n",
              "          const element = document.querySelector('#df-00712671-319e-4050-9012-3fb81020f7c6');\n",
              "          const dataTable =\n",
              "            await google.colab.kernel.invokeFunction('convertToInteractive',\n",
              "                                                     [key], {});\n",
              "          if (!dataTable) return;\n",
              "\n",
              "          const docLinkHtml = 'Like what you see? Visit the ' +\n",
              "            '<a target=\"_blank\" href=https://colab.research.google.com/notebooks/data_table.ipynb>data table notebook</a>'\n",
              "            + ' to learn more about interactive tables.';\n",
              "          element.innerHTML = '';\n",
              "          dataTable['output_type'] = 'display_data';\n",
              "          await google.colab.output.renderOutput(dataTable, element);\n",
              "          const docLink = document.createElement('div');\n",
              "          docLink.innerHTML = docLinkHtml;\n",
              "          element.appendChild(docLink);\n",
              "        }\n",
              "      </script>\n",
              "    </div>\n",
              "  </div>\n",
              "  "
            ]
          },
          "metadata": {},
          "execution_count": 8
        }
      ]
    },
    {
      "cell_type": "code",
      "source": [
        "# shuffle data\n",
        "\n",
        "data_shuffle = data.sample(frac=1.0, random_state=42)\n",
        "\n",
        "data_shuffle.head()"
      ],
      "metadata": {
        "colab": {
          "base_uri": "https://localhost:8080/",
          "height": 206
        },
        "outputId": "1cbddd49-1199-4b07-8e17-2648438a7f20",
        "id": "CbSTRQyO_NOk"
      },
      "execution_count": null,
      "outputs": [
        {
          "output_type": "execute_result",
          "data": {
            "text/plain": [
              "                                            CleanTweets    label\n",
              "1782  surabaya ongkos pesan kemarin pagi pagi sudah ...  positif\n",
              "3917  tumben tidak masalah pakai tik jne sudah dafta...  negatif\n",
              "221   beli toko pakai kurir sicepat halu pagi drop g...  positif\n",
              "2135                     amuk amuk jne tidak solusional  negatif\n",
              "5224  malam kak mohon maaf perihal administrator ban...   netral"
            ],
            "text/html": [
              "\n",
              "  <div id=\"df-7e2dec15-adfc-40c5-a0c7-40a6d4628403\">\n",
              "    <div class=\"colab-df-container\">\n",
              "      <div>\n",
              "<style scoped>\n",
              "    .dataframe tbody tr th:only-of-type {\n",
              "        vertical-align: middle;\n",
              "    }\n",
              "\n",
              "    .dataframe tbody tr th {\n",
              "        vertical-align: top;\n",
              "    }\n",
              "\n",
              "    .dataframe thead th {\n",
              "        text-align: right;\n",
              "    }\n",
              "</style>\n",
              "<table border=\"1\" class=\"dataframe\">\n",
              "  <thead>\n",
              "    <tr style=\"text-align: right;\">\n",
              "      <th></th>\n",
              "      <th>CleanTweets</th>\n",
              "      <th>label</th>\n",
              "    </tr>\n",
              "  </thead>\n",
              "  <tbody>\n",
              "    <tr>\n",
              "      <th>1782</th>\n",
              "      <td>surabaya ongkos pesan kemarin pagi pagi sudah ...</td>\n",
              "      <td>positif</td>\n",
              "    </tr>\n",
              "    <tr>\n",
              "      <th>3917</th>\n",
              "      <td>tumben tidak masalah pakai tik jne sudah dafta...</td>\n",
              "      <td>negatif</td>\n",
              "    </tr>\n",
              "    <tr>\n",
              "      <th>221</th>\n",
              "      <td>beli toko pakai kurir sicepat halu pagi drop g...</td>\n",
              "      <td>positif</td>\n",
              "    </tr>\n",
              "    <tr>\n",
              "      <th>2135</th>\n",
              "      <td>amuk amuk jne tidak solusional</td>\n",
              "      <td>negatif</td>\n",
              "    </tr>\n",
              "    <tr>\n",
              "      <th>5224</th>\n",
              "      <td>malam kak mohon maaf perihal administrator ban...</td>\n",
              "      <td>netral</td>\n",
              "    </tr>\n",
              "  </tbody>\n",
              "</table>\n",
              "</div>\n",
              "      <button class=\"colab-df-convert\" onclick=\"convertToInteractive('df-7e2dec15-adfc-40c5-a0c7-40a6d4628403')\"\n",
              "              title=\"Convert this dataframe to an interactive table.\"\n",
              "              style=\"display:none;\">\n",
              "        \n",
              "  <svg xmlns=\"http://www.w3.org/2000/svg\" height=\"24px\"viewBox=\"0 0 24 24\"\n",
              "       width=\"24px\">\n",
              "    <path d=\"M0 0h24v24H0V0z\" fill=\"none\"/>\n",
              "    <path d=\"M18.56 5.44l.94 2.06.94-2.06 2.06-.94-2.06-.94-.94-2.06-.94 2.06-2.06.94zm-11 1L8.5 8.5l.94-2.06 2.06-.94-2.06-.94L8.5 2.5l-.94 2.06-2.06.94zm10 10l.94 2.06.94-2.06 2.06-.94-2.06-.94-.94-2.06-.94 2.06-2.06.94z\"/><path d=\"M17.41 7.96l-1.37-1.37c-.4-.4-.92-.59-1.43-.59-.52 0-1.04.2-1.43.59L10.3 9.45l-7.72 7.72c-.78.78-.78 2.05 0 2.83L4 21.41c.39.39.9.59 1.41.59.51 0 1.02-.2 1.41-.59l7.78-7.78 2.81-2.81c.8-.78.8-2.07 0-2.86zM5.41 20L4 18.59l7.72-7.72 1.47 1.35L5.41 20z\"/>\n",
              "  </svg>\n",
              "      </button>\n",
              "      \n",
              "  <style>\n",
              "    .colab-df-container {\n",
              "      display:flex;\n",
              "      flex-wrap:wrap;\n",
              "      gap: 12px;\n",
              "    }\n",
              "\n",
              "    .colab-df-convert {\n",
              "      background-color: #E8F0FE;\n",
              "      border: none;\n",
              "      border-radius: 50%;\n",
              "      cursor: pointer;\n",
              "      display: none;\n",
              "      fill: #1967D2;\n",
              "      height: 32px;\n",
              "      padding: 0 0 0 0;\n",
              "      width: 32px;\n",
              "    }\n",
              "\n",
              "    .colab-df-convert:hover {\n",
              "      background-color: #E2EBFA;\n",
              "      box-shadow: 0px 1px 2px rgba(60, 64, 67, 0.3), 0px 1px 3px 1px rgba(60, 64, 67, 0.15);\n",
              "      fill: #174EA6;\n",
              "    }\n",
              "\n",
              "    [theme=dark] .colab-df-convert {\n",
              "      background-color: #3B4455;\n",
              "      fill: #D2E3FC;\n",
              "    }\n",
              "\n",
              "    [theme=dark] .colab-df-convert:hover {\n",
              "      background-color: #434B5C;\n",
              "      box-shadow: 0px 1px 3px 1px rgba(0, 0, 0, 0.15);\n",
              "      filter: drop-shadow(0px 1px 2px rgba(0, 0, 0, 0.3));\n",
              "      fill: #FFFFFF;\n",
              "    }\n",
              "  </style>\n",
              "\n",
              "      <script>\n",
              "        const buttonEl =\n",
              "          document.querySelector('#df-7e2dec15-adfc-40c5-a0c7-40a6d4628403 button.colab-df-convert');\n",
              "        buttonEl.style.display =\n",
              "          google.colab.kernel.accessAllowed ? 'block' : 'none';\n",
              "\n",
              "        async function convertToInteractive(key) {\n",
              "          const element = document.querySelector('#df-7e2dec15-adfc-40c5-a0c7-40a6d4628403');\n",
              "          const dataTable =\n",
              "            await google.colab.kernel.invokeFunction('convertToInteractive',\n",
              "                                                     [key], {});\n",
              "          if (!dataTable) return;\n",
              "\n",
              "          const docLinkHtml = 'Like what you see? Visit the ' +\n",
              "            '<a target=\"_blank\" href=https://colab.research.google.com/notebooks/data_table.ipynb>data table notebook</a>'\n",
              "            + ' to learn more about interactive tables.';\n",
              "          element.innerHTML = '';\n",
              "          dataTable['output_type'] = 'display_data';\n",
              "          await google.colab.output.renderOutput(dataTable, element);\n",
              "          const docLink = document.createElement('div');\n",
              "          docLink.innerHTML = docLinkHtml;\n",
              "          element.appendChild(docLink);\n",
              "        }\n",
              "      </script>\n",
              "    </div>\n",
              "  </div>\n",
              "  "
            ]
          },
          "metadata": {},
          "execution_count": 9
        }
      ]
    },
    {
      "cell_type": "code",
      "source": [
        "data_shuffle.dtypes"
      ],
      "metadata": {
        "colab": {
          "base_uri": "https://localhost:8080/"
        },
        "id": "xSUBfCZ3EwXY",
        "outputId": "ed2f8093-5e28-49ad-9a9b-0c4819a47d0e"
      },
      "execution_count": null,
      "outputs": [
        {
          "output_type": "execute_result",
          "data": {
            "text/plain": [
              "CleanTweets    object\n",
              "label          object\n",
              "dtype: object"
            ]
          },
          "metadata": {},
          "execution_count": 10
        }
      ]
    },
    {
      "cell_type": "code",
      "source": [
        "data_shuffle.isna().sum()"
      ],
      "metadata": {
        "colab": {
          "base_uri": "https://localhost:8080/"
        },
        "id": "iX0RKHQhFP5j",
        "outputId": "bd8b9ce0-16eb-491c-f7a8-c079ebf27f71"
      },
      "execution_count": null,
      "outputs": [
        {
          "output_type": "execute_result",
          "data": {
            "text/plain": [
              "CleanTweets    0\n",
              "label          0\n",
              "dtype: int64"
            ]
          },
          "metadata": {},
          "execution_count": 11
        }
      ]
    },
    {
      "cell_type": "markdown",
      "source": [
        "# Dataset Exploration"
      ],
      "metadata": {
        "id": "XmFU1yyI_H4I"
      }
    },
    {
      "cell_type": "code",
      "source": [
        "print(\"Jumlah data: %s\" % len(data_shuffle.index))"
      ],
      "metadata": {
        "colab": {
          "base_uri": "https://localhost:8080/"
        },
        "id": "0crnO3hh_g2G",
        "outputId": "63af752e-2818-4bee-be68-9afbed8fdd2d"
      },
      "execution_count": null,
      "outputs": [
        {
          "output_type": "stream",
          "name": "stdout",
          "text": [
            "Jumlah data: 6000\n"
          ]
        }
      ]
    },
    {
      "cell_type": "code",
      "source": [
        "data_shuffle.groupby('label').size()"
      ],
      "metadata": {
        "colab": {
          "base_uri": "https://localhost:8080/"
        },
        "id": "Mt5xjERAL9uD",
        "outputId": "554b27c1-3b97-48b5-db50-4feab35a1883"
      },
      "execution_count": null,
      "outputs": [
        {
          "output_type": "execute_result",
          "data": {
            "text/plain": [
              "label\n",
              "negatif    2000\n",
              "netral     2000\n",
              "positif    2000\n",
              "dtype: int64"
            ]
          },
          "metadata": {},
          "execution_count": 13
        }
      ]
    },
    {
      "cell_type": "code",
      "source": [
        "print(\"Kalimat terpanjang: %s kata\" % data_shuffle['CleanTweets'].str.split().str.len().max())\n",
        "print(\"Kalimat terpendek: %s kata\" % data_shuffle['CleanTweets'].str.split().str.len().min())\n",
        "print(\"Rata-rata panjang kalimat: %s kata\" % data_shuffle['CleanTweets'].str.split().str.len().mean())"
      ],
      "metadata": {
        "colab": {
          "base_uri": "https://localhost:8080/"
        },
        "id": "8X6JdxMVNuAE",
        "outputId": "959bce2b-ec68-4d85-8a8c-8186633ad017"
      },
      "execution_count": null,
      "outputs": [
        {
          "output_type": "stream",
          "name": "stdout",
          "text": [
            "Kalimat terpanjang: 39 kata\n",
            "Kalimat terpendek: 1 kata\n",
            "Rata-rata panjang kalimat: 11.951166666666667 kata\n"
          ]
        }
      ]
    },
    {
      "cell_type": "code",
      "source": [
        "data_shuffle.isna().sum()"
      ],
      "metadata": {
        "colab": {
          "base_uri": "https://localhost:8080/"
        },
        "id": "ib9nLhqUfdGF",
        "outputId": "51a30867-8eb4-4410-fde4-8c59f25fa42c"
      },
      "execution_count": null,
      "outputs": [
        {
          "output_type": "execute_result",
          "data": {
            "text/plain": [
              "CleanTweets    0\n",
              "label          0\n",
              "dtype: int64"
            ]
          },
          "metadata": {},
          "execution_count": 15
        }
      ]
    },
    {
      "cell_type": "code",
      "source": [
        "data_shuffle.dtypes"
      ],
      "metadata": {
        "colab": {
          "base_uri": "https://localhost:8080/"
        },
        "id": "r409TGyhfkbu",
        "outputId": "b0b92868-06bf-4a7d-a5b5-2838e750b3f9"
      },
      "execution_count": null,
      "outputs": [
        {
          "output_type": "execute_result",
          "data": {
            "text/plain": [
              "CleanTweets    object\n",
              "label          object\n",
              "dtype: object"
            ]
          },
          "metadata": {},
          "execution_count": 16
        }
      ]
    },
    {
      "cell_type": "code",
      "source": [
        "train_df = data_shuffle.sample(frac=0.8, random_state=9) #random state is a seed value\n",
        "dev_test_df = data_shuffle.drop(train_df.index)\n",
        "\n",
        "dev_df = dev_test_df.sample(frac=0.5, random_state=9)\n",
        "test_df = dev_test_df.drop(dev_df.index)"
      ],
      "metadata": {
        "id": "WwI9WROHACCT"
      },
      "execution_count": null,
      "outputs": []
    },
    {
      "cell_type": "code",
      "source": [
        "train_df.groupby('label').size()"
      ],
      "metadata": {
        "colab": {
          "base_uri": "https://localhost:8080/"
        },
        "id": "aG6xr9KsDXXy",
        "outputId": "6275e96d-04df-4856-bc11-735262fa189e"
      },
      "execution_count": null,
      "outputs": [
        {
          "output_type": "execute_result",
          "data": {
            "text/plain": [
              "label\n",
              "negatif    1589\n",
              "netral     1583\n",
              "positif    1628\n",
              "dtype: int64"
            ]
          },
          "metadata": {},
          "execution_count": 18
        }
      ]
    },
    {
      "cell_type": "code",
      "source": [
        "dev_df.groupby('label').size()"
      ],
      "metadata": {
        "colab": {
          "base_uri": "https://localhost:8080/"
        },
        "id": "VdqU1jr4DbIu",
        "outputId": "d2229b6c-e480-4d71-f3d9-7ea3fef7e393"
      },
      "execution_count": null,
      "outputs": [
        {
          "output_type": "execute_result",
          "data": {
            "text/plain": [
              "label\n",
              "negatif    205\n",
              "netral     212\n",
              "positif    183\n",
              "dtype: int64"
            ]
          },
          "metadata": {},
          "execution_count": 19
        }
      ]
    },
    {
      "cell_type": "code",
      "source": [
        "test_df.groupby('label').size()"
      ],
      "metadata": {
        "colab": {
          "base_uri": "https://localhost:8080/"
        },
        "id": "EHR8HOTDDdKU",
        "outputId": "b2d10b67-785c-4093-b403-c93ddc2bc9e3"
      },
      "execution_count": null,
      "outputs": [
        {
          "output_type": "execute_result",
          "data": {
            "text/plain": [
              "label\n",
              "negatif    206\n",
              "netral     205\n",
              "positif    189\n",
              "dtype: int64"
            ]
          },
          "metadata": {},
          "execution_count": 20
        }
      ]
    },
    {
      "cell_type": "code",
      "source": [
        "train_set = train_df['CleanTweets'].to_numpy()\n",
        "dev_set = dev_df['CleanTweets'].to_numpy()\n",
        "test_set = test_df['CleanTweets'].to_numpy()\n",
        "\n",
        "train_labels = train_df['label'].to_numpy()\n",
        "dev_labels = dev_df['label'].to_numpy()\n",
        "test_labels = test_df['label'].to_numpy()\n",
        "\n",
        "print(train_set[0])\n",
        "print(train_labels[0])"
      ],
      "metadata": {
        "colab": {
          "base_uri": "https://localhost:8080/"
        },
        "id": "RwqtBAuaEQXB",
        "outputId": "9083c5f0-fb99-4945-bf5d-e950f6e33269"
      },
      "execution_count": null,
      "outputs": [
        {
          "output_type": "stream",
          "name": "stdout",
          "text": [
            "resi status sudah terima terima bilang belum terima mohon\n",
            "negatif\n"
          ]
        }
      ]
    },
    {
      "cell_type": "code",
      "source": [
        "le = LabelEncoder()\n",
        "le.fit(train_labels)\n",
        "print(list(le.classes_))\n",
        "\n",
        "train_num_labels = le.fit_transform(train_labels).astype('float')\n",
        "dev_num_labels = le.fit_transform(dev_labels).astype('float')\n",
        "test_num_labels = le.fit_transform(test_labels).astype('float')\n",
        "print(train_num_labels[0:10])"
      ],
      "metadata": {
        "colab": {
          "base_uri": "https://localhost:8080/"
        },
        "id": "R2q5FXsbGHaF",
        "outputId": "1970c0e5-35e4-4053-dd03-42e03a7f517a"
      },
      "execution_count": null,
      "outputs": [
        {
          "output_type": "stream",
          "name": "stdout",
          "text": [
            "['negatif', 'netral', 'positif']\n",
            "[0. 1. 1. 2. 0. 2. 2. 0. 0. 0.]\n"
          ]
        }
      ]
    },
    {
      "cell_type": "markdown",
      "source": [
        "# Text to Sequence"
      ],
      "metadata": {
        "id": "7g2QQwY7_gNU"
      }
    },
    {
      "cell_type": "code",
      "source": [
        "def tokenize_text_to_sequence(train, dev, test, maxlen):\n",
        "    tokenizer = Tokenizer(\n",
        "        filters='', # '!\"#$%&()*+,./:;=?@[\\\\]^_`{|}~\\t\\n', # Excluding - and '\n",
        "        lower=True,\n",
        "        # oov_token=\"<UNK>\"\n",
        "    )\n",
        "\n",
        "    tokenizer.fit_on_texts(train)\n",
        "        \n",
        "    X_train = tokenizer.texts_to_sequences(train)\n",
        "    X_dev = tokenizer.texts_to_sequences(dev)\n",
        "    X_test = tokenizer.texts_to_sequences(test)\n",
        "    \n",
        "    X_train = pad_sequences(X_train, padding='post', truncating='post', maxlen=maxlen)\n",
        "    X_dev = pad_sequences(X_dev, padding='post', truncating='post', maxlen=maxlen)\n",
        "    X_test = pad_sequences(X_test, padding='post', truncating='post', maxlen=maxlen)\n",
        "\n",
        "    return X_train, X_dev, X_test, len(tokenizer.word_index) + 1, tokenizer.word_index, tokenizer"
      ],
      "metadata": {
        "id": "yaPxRMR42wUu"
      },
      "execution_count": null,
      "outputs": []
    },
    {
      "cell_type": "code",
      "source": [
        "maxlen = 100 # panjang sequence untuk RNN (jumlah timesteps)\n",
        "embedding_dim = 128 # jumlah dimensi dari embedding"
      ],
      "metadata": {
        "id": "kcSe5El5TpE6"
      },
      "execution_count": null,
      "outputs": []
    },
    {
      "cell_type": "code",
      "source": [
        "X_train_seq, X_dev_seq, X_test_seq, vocab_size, word_index, tokenizer_training = tokenize_text_to_sequence(train_set, dev_set, test_set, maxlen)\n",
        "print(\"Vocab size: %s\" % vocab_size)\n",
        "\n",
        "y_train = to_categorical(train_num_labels, 3)\n",
        "y_dev = to_categorical(dev_num_labels, 3)\n",
        "y_test = to_categorical(test_num_labels, 3)\n",
        "\n",
        "print(train_set[5])\n",
        "print(X_train_seq[5])\n",
        "print(y_train[5])"
      ],
      "metadata": {
        "colab": {
          "base_uri": "https://localhost:8080/"
        },
        "id": "QLUpGxp7_py5",
        "outputId": "b84b1d4e-626b-4a6c-c97d-d1e609057c42"
      },
      "execution_count": null,
      "outputs": [
        {
          "output_type": "stream",
          "name": "stdout",
          "text": [
            "Vocab size: 2412\n",
            "sumpah sih lebih bagus pakai kurir cepat jelas sekali barang bawa kurir nomor bisa hubung\n",
            "[166  33  29  81   4  21  10 107  18  16 155  21  42  13  79   0   0   0\n",
            "   0   0   0   0   0   0   0   0   0   0   0   0   0   0   0   0   0   0\n",
            "   0   0   0   0   0   0   0   0   0   0   0   0   0   0   0   0   0   0\n",
            "   0   0   0   0   0   0   0   0   0   0   0   0   0   0   0   0   0   0\n",
            "   0   0   0   0   0   0   0   0   0   0   0   0   0   0   0   0   0   0\n",
            "   0   0   0   0   0   0   0   0   0   0]\n",
            "[0. 0. 1.]\n"
          ]
        }
      ]
    },
    {
      "cell_type": "markdown",
      "source": [
        "# Building Model"
      ],
      "metadata": {
        "id": "6ZdH-Bwl_qEl"
      }
    },
    {
      "cell_type": "code",
      "source": [
        "def print_metric(y_test, y_pred):\n",
        "    acc_test = accuracy_score(y_test, y_pred)\n",
        "    precision_test_ma = precision_score(y_test, y_pred, average='macro')\n",
        "    precision_test_mi = precision_score(y_test, y_pred, average='micro')\n",
        "    recall_test_ma = recall_score(y_test, y_pred, average='macro')\n",
        "    recall_test_mi = recall_score(y_test, y_pred, average='micro')\n",
        "    f1_test_ma = f1_score(y_test, y_pred, average='macro')\n",
        "    f1_test_mi = f1_score(y_test, y_pred, average='micro')\n",
        "\n",
        "    print(\"Test score: Macro / Micro\")\n",
        "    print()\n",
        "    print(\"Accuracy: {:8.3f}\".format(acc_test))\n",
        "    print(\"F1: {:14.3f} / {:2.3f}\".format(f1_test_ma, f1_test_mi))\n",
        "    print(\"Precision: {:7.3f} / {:2.3f}\".format(precision_test_ma, precision_test_mi))\n",
        "    print(\"Recall: {:10.3f} / {:2.3f}\".format(recall_test_ma, recall_test_mi))\n",
        "    print(\"Confusion matrix: \")\n",
        "\n",
        "    cm = confusion_matrix(y_test, y_pred, labels=[0.0,1.0,2.0])\n",
        "    _, ax = plt.subplots(figsize=(6, 3))\n",
        "    sns.heatmap(cm, annot=True, ax=ax, fmt='d')\n",
        "    ax.set_xlabel('Predicted labels')\n",
        "    ax.xaxis.set_label_position('top') \n",
        "    ax.set_ylabel('True labels')\n",
        "    ax.xaxis.set_ticklabels(['negatif', 'netral', 'positif'])\n",
        "    ax.xaxis.tick_top()\n",
        "    ax.yaxis.set_ticklabels(['negatif', 'netral', 'positif'])\n",
        "\n",
        "    plt.show()\n",
        "    print()\n",
        "\n",
        "metrics = [\n",
        "    tf.keras.metrics.TruePositives(name='TruePositive'),\n",
        "    tf.keras.metrics.FalsePositives(name='FalsePositive'),\n",
        "    tf.keras.metrics.TrueNegatives(name='TrueNegative'),\n",
        "    tf.keras.metrics.FalseNegatives(name='FalseNegative'), \n",
        "    tf.keras.metrics.CategoricalAccuracy(name='accuracy'),\n",
        "    tf.keras.metrics.Precision(name='precision'),\n",
        "    tf.keras.metrics.Recall(name='recall')\n",
        "]"
      ],
      "metadata": {
        "id": "N_W_Uema58ar"
      },
      "execution_count": null,
      "outputs": []
    },
    {
      "cell_type": "markdown",
      "source": [
        "## CNN-LSTM - with recurrent dropout + dropout 1 (50 epochs)"
      ],
      "metadata": {
        "id": "d4b-0Boc0IEF"
      }
    },
    {
      "cell_type": "code",
      "source": [
        "# TODO: Model CNN-LSTM\n",
        "\n",
        "def cnn_lstm_model1():\n",
        "    model = Sequential()\n",
        "    model.add(Embedding(vocab_size,\n",
        "                    embedding_dim,\n",
        "                    input_length=maxlen,\n",
        "                    trainable=True))\n",
        "\n",
        "    model.add(Conv1D(filters = 100, kernel_size = 5, strides = 1, padding = 'same', activation = 'relu'))\n",
        "    model.add(Conv1D(filters = 64, kernel_size = 3, strides = 1, padding = 'same', activation = 'relu'))\n",
        "    model.add(LSTM(128, dropout=0.2, recurrent_dropout=0.2, return_sequences=True,))\n",
        "    model.add(GlobalMaxPooling1D())\n",
        "    model.add(Dropout(0.5))\n",
        "    model.add(Dense(3, activation='softmax'))\n",
        "\n",
        "    opt = Adam(learning_rate=0.001)\n",
        "\n",
        "    model.compile(\n",
        "        loss=\"categorical_crossentropy\", \n",
        "        optimizer=opt, \n",
        "        metrics=metrics\n",
        "    )\n",
        "\n",
        "    return model"
      ],
      "metadata": {
        "id": "T_hNcQ_d0IEF"
      },
      "execution_count": null,
      "outputs": []
    },
    {
      "cell_type": "code",
      "source": [
        "cnn_lstm_model1 = cnn_lstm_model1()\n",
        "cnn_lstm_model1.summary()"
      ],
      "metadata": {
        "colab": {
          "base_uri": "https://localhost:8080/"
        },
        "outputId": "0acd0e6c-8681-4805-e5fa-db2e21884ba5",
        "id": "Jw1Ok0nU0IEG"
      },
      "execution_count": null,
      "outputs": [
        {
          "output_type": "stream",
          "name": "stdout",
          "text": [
            "Model: \"sequential_1\"\n",
            "_________________________________________________________________\n",
            " Layer (type)                Output Shape              Param #   \n",
            "=================================================================\n",
            " embedding_1 (Embedding)     (None, 100, 128)          308736    \n",
            "                                                                 \n",
            " conv1d_2 (Conv1D)           (None, 100, 100)          64100     \n",
            "                                                                 \n",
            " conv1d_3 (Conv1D)           (None, 100, 64)           19264     \n",
            "                                                                 \n",
            " lstm_1 (LSTM)               (None, 100, 128)          98816     \n",
            "                                                                 \n",
            " global_max_pooling1d_1 (Glo  (None, 128)              0         \n",
            " balMaxPooling1D)                                                \n",
            "                                                                 \n",
            " dropout_1 (Dropout)         (None, 128)               0         \n",
            "                                                                 \n",
            " dense_1 (Dense)             (None, 3)                 387       \n",
            "                                                                 \n",
            "=================================================================\n",
            "Total params: 491,303\n",
            "Trainable params: 491,303\n",
            "Non-trainable params: 0\n",
            "_________________________________________________________________\n"
          ]
        }
      ]
    },
    {
      "cell_type": "code",
      "source": [
        "from keras.utils.vis_utils import plot_model\n",
        "plot_model(cnn_lstm_model1, to_file='model_plot_cnn_lstm_model1.png', show_shapes=True, show_layer_names=True)"
      ],
      "metadata": {
        "colab": {
          "base_uri": "https://localhost:8080/",
          "height": 865
        },
        "outputId": "e74016c9-8bf9-4d20-f0af-27436b6d5814",
        "id": "6gsPnDNs0IEG"
      },
      "execution_count": null,
      "outputs": [
        {
          "output_type": "execute_result",
          "data": {
            "image/png": "[encoded data removed]",
            "text/plain": [
              "<IPython.core.display.Image object>"
            ]
          },
          "metadata": {},
          "execution_count": 54
        }
      ]
    },
    {
      "cell_type": "code",
      "source": [
        "cnn_lstm_model_history1 = cnn_lstm_model1.fit(X_train_seq, y_train, \n",
        "                    epochs=50, \n",
        "                    verbose=True, \n",
        "                    validation_data=(X_dev_seq, y_dev), \n",
        "                    batch_size=128\n",
        "                    # callbacks=[EarlyStopping(monitor=\"val_loss\", patience=2)]\n",
        "                    )"
      ],
      "metadata": {
        "colab": {
          "base_uri": "https://localhost:8080/"
        },
        "outputId": "74b6f982-d784-47c7-ea1d-fd4475634a43",
        "id": "NYnYDX3G0IEG"
      },
      "execution_count": null,
      "outputs": [
        {
          "output_type": "stream",
          "name": "stdout",
          "text": [
            "Epoch 1/50\n",
            "38/38 [==============================] - 48s 1s/step - loss: 1.0218 - TruePositive: 466.0000 - FalsePositive: 112.0000 - TrueNegative: 11280.0000 - FalseNegative: 5230.0000 - accuracy: 0.4480 - precision: 0.8062 - recall: 0.0818 - val_loss: 0.6446 - val_TruePositive: 432.0000 - val_FalsePositive: 112.0000 - val_TrueNegative: 1088.0000 - val_FalseNegative: 168.0000 - val_accuracy: 0.7533 - val_precision: 0.7941 - val_recall: 0.7200\n",
            "Epoch 2/50\n",
            "38/38 [==============================] - 45s 1s/step - loss: 0.5503 - TruePositive: 3733.0000 - FalsePositive: 862.0000 - TrueNegative: 8738.0000 - FalseNegative: 1067.0000 - accuracy: 0.7979 - precision: 0.8124 - recall: 0.7777 - val_loss: 0.4672 - val_TruePositive: 486.0000 - val_FalsePositive: 93.0000 - val_TrueNegative: 1107.0000 - val_FalseNegative: 114.0000 - val_accuracy: 0.8217 - val_precision: 0.8394 - val_recall: 0.8100\n",
            "Epoch 3/50\n",
            "38/38 [==============================] - 48s 1s/step - loss: 0.3549 - TruePositive: 4176.0000 - FalsePositive: 526.0000 - TrueNegative: 9074.0000 - FalseNegative: 624.0000 - accuracy: 0.8794 - precision: 0.8881 - recall: 0.8700 - val_loss: 0.4939 - val_TruePositive: 491.0000 - val_FalsePositive: 100.0000 - val_TrueNegative: 1100.0000 - val_FalseNegative: 109.0000 - val_accuracy: 0.8267 - val_precision: 0.8308 - val_recall: 0.8183\n",
            "Epoch 4/50\n",
            "38/38 [==============================] - 43s 1s/step - loss: 0.2624 - TruePositive: 4360.0000 - FalsePositive: 375.0000 - TrueNegative: 9225.0000 - FalseNegative: 440.0000 - accuracy: 0.9144 - precision: 0.9208 - recall: 0.9083 - val_loss: 0.5200 - val_TruePositive: 487.0000 - val_FalsePositive: 100.0000 - val_TrueNegative: 1100.0000 - val_FalseNegative: 113.0000 - val_accuracy: 0.8150 - val_precision: 0.8296 - val_recall: 0.8117\n",
            "Epoch 5/50\n",
            "38/38 [==============================] - 43s 1s/step - loss: 0.2109 - TruePositive: 4475.0000 - FalsePositive: 273.0000 - TrueNegative: 9327.0000 - FalseNegative: 325.0000 - accuracy: 0.9360 - precision: 0.9425 - recall: 0.9323 - val_loss: 0.5063 - val_TruePositive: 494.0000 - val_FalsePositive: 95.0000 - val_TrueNegative: 1105.0000 - val_FalseNegative: 106.0000 - val_accuracy: 0.8300 - val_precision: 0.8387 - val_recall: 0.8233\n",
            "Epoch 6/50\n",
            "38/38 [==============================] - 43s 1s/step - loss: 0.1888 - TruePositive: 4490.0000 - FalsePositive: 266.0000 - TrueNegative: 9334.0000 - FalseNegative: 310.0000 - accuracy: 0.9413 - precision: 0.9441 - recall: 0.9354 - val_loss: 0.5720 - val_TruePositive: 494.0000 - val_FalsePositive: 98.0000 - val_TrueNegative: 1102.0000 - val_FalseNegative: 106.0000 - val_accuracy: 0.8300 - val_precision: 0.8345 - val_recall: 0.8233\n",
            "Epoch 7/50\n",
            "38/38 [==============================] - 43s 1s/step - loss: 0.1490 - TruePositive: 4566.0000 - FalsePositive: 203.0000 - TrueNegative: 9397.0000 - FalseNegative: 234.0000 - accuracy: 0.9550 - precision: 0.9574 - recall: 0.9513 - val_loss: 0.6264 - val_TruePositive: 489.0000 - val_FalsePositive: 105.0000 - val_TrueNegative: 1095.0000 - val_FalseNegative: 111.0000 - val_accuracy: 0.8167 - val_precision: 0.8232 - val_recall: 0.8150\n",
            "Epoch 8/50\n",
            "38/38 [==============================] - 44s 1s/step - loss: 0.1328 - TruePositive: 4605.0000 - FalsePositive: 174.0000 - TrueNegative: 9426.0000 - FalseNegative: 195.0000 - accuracy: 0.9617 - precision: 0.9636 - recall: 0.9594 - val_loss: 0.6065 - val_TruePositive: 493.0000 - val_FalsePositive: 99.0000 - val_TrueNegative: 1101.0000 - val_FalseNegative: 107.0000 - val_accuracy: 0.8233 - val_precision: 0.8328 - val_recall: 0.8217\n",
            "Epoch 9/50\n",
            "38/38 [==============================] - 47s 1s/step - loss: 0.1068 - TruePositive: 4624.0000 - FalsePositive: 146.0000 - TrueNegative: 9454.0000 - FalseNegative: 176.0000 - accuracy: 0.9665 - precision: 0.9694 - recall: 0.9633 - val_loss: 0.6305 - val_TruePositive: 500.0000 - val_FalsePositive: 93.0000 - val_TrueNegative: 1107.0000 - val_FalseNegative: 100.0000 - val_accuracy: 0.8367 - val_precision: 0.8432 - val_recall: 0.8333\n",
            "Epoch 10/50\n",
            "38/38 [==============================] - 45s 1s/step - loss: 0.1091 - TruePositive: 4635.0000 - FalsePositive: 145.0000 - TrueNegative: 9455.0000 - FalseNegative: 165.0000 - accuracy: 0.9673 - precision: 0.9697 - recall: 0.9656 - val_loss: 0.6204 - val_TruePositive: 497.0000 - val_FalsePositive: 97.0000 - val_TrueNegative: 1103.0000 - val_FalseNegative: 103.0000 - val_accuracy: 0.8333 - val_precision: 0.8367 - val_recall: 0.8283\n",
            "Epoch 11/50\n",
            "38/38 [==============================] - 43s 1s/step - loss: 0.0921 - TruePositive: 4666.0000 - FalsePositive: 116.0000 - TrueNegative: 9484.0000 - FalseNegative: 134.0000 - accuracy: 0.9742 - precision: 0.9757 - recall: 0.9721 - val_loss: 0.7364 - val_TruePositive: 492.0000 - val_FalsePositive: 105.0000 - val_TrueNegative: 1095.0000 - val_FalseNegative: 108.0000 - val_accuracy: 0.8200 - val_precision: 0.8241 - val_recall: 0.8200\n",
            "Epoch 12/50\n",
            "38/38 [==============================] - 40s 1s/step - loss: 0.0859 - TruePositive: 4675.0000 - FalsePositive: 107.0000 - TrueNegative: 9493.0000 - FalseNegative: 125.0000 - accuracy: 0.9760 - precision: 0.9776 - recall: 0.9740 - val_loss: 0.6656 - val_TruePositive: 498.0000 - val_FalsePositive: 97.0000 - val_TrueNegative: 1103.0000 - val_FalseNegative: 102.0000 - val_accuracy: 0.8333 - val_precision: 0.8370 - val_recall: 0.8300\n",
            "Epoch 13/50\n",
            "38/38 [==============================] - 43s 1s/step - loss: 0.0843 - TruePositive: 4649.0000 - FalsePositive: 123.0000 - TrueNegative: 9477.0000 - FalseNegative: 151.0000 - accuracy: 0.9710 - precision: 0.9742 - recall: 0.9685 - val_loss: 0.7358 - val_TruePositive: 499.0000 - val_FalsePositive: 97.0000 - val_TrueNegative: 1103.0000 - val_FalseNegative: 101.0000 - val_accuracy: 0.8333 - val_precision: 0.8372 - val_recall: 0.8317\n",
            "Epoch 14/50\n",
            "38/38 [==============================] - 48s 1s/step - loss: 0.0598 - TruePositive: 4709.0000 - FalsePositive: 78.0000 - TrueNegative: 9522.0000 - FalseNegative: 91.0000 - accuracy: 0.9825 - precision: 0.9837 - recall: 0.9810 - val_loss: 0.7913 - val_TruePositive: 499.0000 - val_FalsePositive: 97.0000 - val_TrueNegative: 1103.0000 - val_FalseNegative: 101.0000 - val_accuracy: 0.8317 - val_precision: 0.8372 - val_recall: 0.8317\n",
            "Epoch 15/50\n",
            "38/38 [==============================] - 46s 1s/step - loss: 0.0427 - TruePositive: 4748.0000 - FalsePositive: 42.0000 - TrueNegative: 9558.0000 - FalseNegative: 52.0000 - accuracy: 0.9904 - precision: 0.9912 - recall: 0.9892 - val_loss: 0.8733 - val_TruePositive: 500.0000 - val_FalsePositive: 99.0000 - val_TrueNegative: 1101.0000 - val_FalseNegative: 100.0000 - val_accuracy: 0.8333 - val_precision: 0.8347 - val_recall: 0.8333\n",
            "Epoch 16/50\n",
            "38/38 [==============================] - 41s 1s/step - loss: 0.0532 - TruePositive: 4714.0000 - FalsePositive: 71.0000 - TrueNegative: 9529.0000 - FalseNegative: 86.0000 - accuracy: 0.9829 - precision: 0.9852 - recall: 0.9821 - val_loss: 0.8957 - val_TruePositive: 496.0000 - val_FalsePositive: 101.0000 - val_TrueNegative: 1099.0000 - val_FalseNegative: 104.0000 - val_accuracy: 0.8283 - val_precision: 0.8308 - val_recall: 0.8267\n",
            "Epoch 17/50\n",
            "38/38 [==============================] - 44s 1s/step - loss: 0.0745 - TruePositive: 4683.0000 - FalsePositive: 107.0000 - TrueNegative: 9493.0000 - FalseNegative: 117.0000 - accuracy: 0.9767 - precision: 0.9777 - recall: 0.9756 - val_loss: 0.8035 - val_TruePositive: 492.0000 - val_FalsePositive: 104.0000 - val_TrueNegative: 1096.0000 - val_FalseNegative: 108.0000 - val_accuracy: 0.8233 - val_precision: 0.8255 - val_recall: 0.8200\n",
            "Epoch 18/50\n",
            "38/38 [==============================] - 43s 1s/step - loss: 0.0412 - TruePositive: 4742.0000 - FalsePositive: 51.0000 - TrueNegative: 9549.0000 - FalseNegative: 58.0000 - accuracy: 0.9890 - precision: 0.9894 - recall: 0.9879 - val_loss: 0.9737 - val_TruePositive: 480.0000 - val_FalsePositive: 115.0000 - val_TrueNegative: 1085.0000 - val_FalseNegative: 120.0000 - val_accuracy: 0.8017 - val_precision: 0.8067 - val_recall: 0.8000\n",
            "Epoch 19/50\n",
            "38/38 [==============================] - 47s 1s/step - loss: 0.0386 - TruePositive: 4744.0000 - FalsePositive: 51.0000 - TrueNegative: 9549.0000 - FalseNegative: 56.0000 - accuracy: 0.9894 - precision: 0.9894 - recall: 0.9883 - val_loss: 0.9868 - val_TruePositive: 493.0000 - val_FalsePositive: 104.0000 - val_TrueNegative: 1096.0000 - val_FalseNegative: 107.0000 - val_accuracy: 0.8217 - val_precision: 0.8258 - val_recall: 0.8217\n",
            "Epoch 20/50\n",
            "38/38 [==============================] - 43s 1s/step - loss: 0.0332 - TruePositive: 4752.0000 - FalsePositive: 45.0000 - TrueNegative: 9555.0000 - FalseNegative: 48.0000 - accuracy: 0.9904 - precision: 0.9906 - recall: 0.9900 - val_loss: 0.9247 - val_TruePositive: 496.0000 - val_FalsePositive: 101.0000 - val_TrueNegative: 1099.0000 - val_FalseNegative: 104.0000 - val_accuracy: 0.8300 - val_precision: 0.8308 - val_recall: 0.8267\n",
            "Epoch 21/50\n",
            "38/38 [==============================] - 43s 1s/step - loss: 0.0297 - TruePositive: 4758.0000 - FalsePositive: 34.0000 - TrueNegative: 9566.0000 - FalseNegative: 42.0000 - accuracy: 0.9921 - precision: 0.9929 - recall: 0.9912 - val_loss: 0.9750 - val_TruePositive: 498.0000 - val_FalsePositive: 102.0000 - val_TrueNegative: 1098.0000 - val_FalseNegative: 102.0000 - val_accuracy: 0.8300 - val_precision: 0.8300 - val_recall: 0.8300\n",
            "Epoch 22/50\n",
            "38/38 [==============================] - 43s 1s/step - loss: 0.0377 - TruePositive: 4740.0000 - FalsePositive: 52.0000 - TrueNegative: 9548.0000 - FalseNegative: 60.0000 - accuracy: 0.9883 - precision: 0.9891 - recall: 0.9875 - val_loss: 0.9554 - val_TruePositive: 486.0000 - val_FalsePositive: 113.0000 - val_TrueNegative: 1087.0000 - val_FalseNegative: 114.0000 - val_accuracy: 0.8100 - val_precision: 0.8114 - val_recall: 0.8100\n",
            "Epoch 23/50\n",
            "38/38 [==============================] - 42s 1s/step - loss: 0.0283 - TruePositive: 4762.0000 - FalsePositive: 32.0000 - TrueNegative: 9568.0000 - FalseNegative: 38.0000 - accuracy: 0.9925 - precision: 0.9933 - recall: 0.9921 - val_loss: 1.0348 - val_TruePositive: 492.0000 - val_FalsePositive: 107.0000 - val_TrueNegative: 1093.0000 - val_FalseNegative: 108.0000 - val_accuracy: 0.8200 - val_precision: 0.8214 - val_recall: 0.8200\n",
            "Epoch 24/50\n",
            "38/38 [==============================] - 44s 1s/step - loss: 0.0229 - TruePositive: 4765.0000 - FalsePositive: 25.0000 - TrueNegative: 9575.0000 - FalseNegative: 35.0000 - accuracy: 0.9937 - precision: 0.9948 - recall: 0.9927 - val_loss: 1.0985 - val_TruePositive: 490.0000 - val_FalsePositive: 109.0000 - val_TrueNegative: 1091.0000 - val_FalseNegative: 110.0000 - val_accuracy: 0.8183 - val_precision: 0.8180 - val_recall: 0.8167\n",
            "Epoch 25/50\n",
            "38/38 [==============================] - 50s 1s/step - loss: 0.0194 - TruePositive: 4772.0000 - FalsePositive: 24.0000 - TrueNegative: 9576.0000 - FalseNegative: 28.0000 - accuracy: 0.9942 - precision: 0.9950 - recall: 0.9942 - val_loss: 1.0801 - val_TruePositive: 483.0000 - val_FalsePositive: 115.0000 - val_TrueNegative: 1085.0000 - val_FalseNegative: 117.0000 - val_accuracy: 0.8050 - val_precision: 0.8077 - val_recall: 0.8050\n",
            "Epoch 26/50\n",
            "38/38 [==============================] - 44s 1s/step - loss: 0.0163 - TruePositive: 4776.0000 - FalsePositive: 21.0000 - TrueNegative: 9579.0000 - FalseNegative: 24.0000 - accuracy: 0.9950 - precision: 0.9956 - recall: 0.9950 - val_loss: 1.1904 - val_TruePositive: 490.0000 - val_FalsePositive: 109.0000 - val_TrueNegative: 1091.0000 - val_FalseNegative: 110.0000 - val_accuracy: 0.8167 - val_precision: 0.8180 - val_recall: 0.8167\n",
            "Epoch 27/50\n",
            "38/38 [==============================] - 40s 1s/step - loss: 0.0138 - TruePositive: 4783.0000 - FalsePositive: 14.0000 - TrueNegative: 9586.0000 - FalseNegative: 17.0000 - accuracy: 0.9967 - precision: 0.9971 - recall: 0.9965 - val_loss: 1.2303 - val_TruePositive: 490.0000 - val_FalsePositive: 109.0000 - val_TrueNegative: 1091.0000 - val_FalseNegative: 110.0000 - val_accuracy: 0.8167 - val_precision: 0.8180 - val_recall: 0.8167\n",
            "Epoch 28/50\n",
            "38/38 [==============================] - 43s 1s/step - loss: 0.0478 - TruePositive: 4733.0000 - FalsePositive: 58.0000 - TrueNegative: 9542.0000 - FalseNegative: 67.0000 - accuracy: 0.9869 - precision: 0.9879 - recall: 0.9860 - val_loss: 0.9667 - val_TruePositive: 497.0000 - val_FalsePositive: 103.0000 - val_TrueNegative: 1097.0000 - val_FalseNegative: 103.0000 - val_accuracy: 0.8283 - val_precision: 0.8283 - val_recall: 0.8283\n",
            "Epoch 29/50\n",
            "38/38 [==============================] - 45s 1s/step - loss: 0.0236 - TruePositive: 4767.0000 - FalsePositive: 27.0000 - TrueNegative: 9573.0000 - FalseNegative: 33.0000 - accuracy: 0.9940 - precision: 0.9944 - recall: 0.9931 - val_loss: 1.0212 - val_TruePositive: 494.0000 - val_FalsePositive: 106.0000 - val_TrueNegative: 1094.0000 - val_FalseNegative: 106.0000 - val_accuracy: 0.8233 - val_precision: 0.8233 - val_recall: 0.8233\n",
            "Epoch 30/50\n",
            "38/38 [==============================] - 44s 1s/step - loss: 0.0154 - TruePositive: 4782.0000 - FalsePositive: 16.0000 - TrueNegative: 9584.0000 - FalseNegative: 18.0000 - accuracy: 0.9967 - precision: 0.9967 - recall: 0.9962 - val_loss: 1.0741 - val_TruePositive: 499.0000 - val_FalsePositive: 100.0000 - val_TrueNegative: 1100.0000 - val_FalseNegative: 101.0000 - val_accuracy: 0.8317 - val_precision: 0.8331 - val_recall: 0.8317\n",
            "Epoch 31/50\n",
            "38/38 [==============================] - 45s 1s/step - loss: 0.0127 - TruePositive: 4783.0000 - FalsePositive: 15.0000 - TrueNegative: 9585.0000 - FalseNegative: 17.0000 - accuracy: 0.9967 - precision: 0.9969 - recall: 0.9965 - val_loss: 1.1097 - val_TruePositive: 495.0000 - val_FalsePositive: 103.0000 - val_TrueNegative: 1097.0000 - val_FalseNegative: 105.0000 - val_accuracy: 0.8283 - val_precision: 0.8278 - val_recall: 0.8250\n",
            "Epoch 32/50\n",
            "38/38 [==============================] - 47s 1s/step - loss: 0.0109 - TruePositive: 4788.0000 - FalsePositive: 9.0000 - TrueNegative: 9591.0000 - FalseNegative: 12.0000 - accuracy: 0.9977 - precision: 0.9981 - recall: 0.9975 - val_loss: 1.2028 - val_TruePositive: 493.0000 - val_FalsePositive: 107.0000 - val_TrueNegative: 1093.0000 - val_FalseNegative: 107.0000 - val_accuracy: 0.8217 - val_precision: 0.8217 - val_recall: 0.8217\n",
            "Epoch 33/50\n",
            "38/38 [==============================] - 44s 1s/step - loss: 0.0214 - TruePositive: 4769.0000 - FalsePositive: 27.0000 - TrueNegative: 9573.0000 - FalseNegative: 31.0000 - accuracy: 0.9937 - precision: 0.9944 - recall: 0.9935 - val_loss: 1.1584 - val_TruePositive: 494.0000 - val_FalsePositive: 104.0000 - val_TrueNegative: 1096.0000 - val_FalseNegative: 106.0000 - val_accuracy: 0.8233 - val_precision: 0.8261 - val_recall: 0.8233\n",
            "Epoch 34/50\n",
            "38/38 [==============================] - 40s 1s/step - loss: 0.0346 - TruePositive: 4747.0000 - FalsePositive: 49.0000 - TrueNegative: 9551.0000 - FalseNegative: 53.0000 - accuracy: 0.9892 - precision: 0.9898 - recall: 0.9890 - val_loss: 1.0162 - val_TruePositive: 490.0000 - val_FalsePositive: 107.0000 - val_TrueNegative: 1093.0000 - val_FalseNegative: 110.0000 - val_accuracy: 0.8200 - val_precision: 0.8208 - val_recall: 0.8167\n",
            "Epoch 35/50\n",
            "38/38 [==============================] - 43s 1s/step - loss: 0.0236 - TruePositive: 4768.0000 - FalsePositive: 28.0000 - TrueNegative: 9572.0000 - FalseNegative: 32.0000 - accuracy: 0.9935 - precision: 0.9942 - recall: 0.9933 - val_loss: 0.9744 - val_TruePositive: 499.0000 - val_FalsePositive: 100.0000 - val_TrueNegative: 1100.0000 - val_FalseNegative: 101.0000 - val_accuracy: 0.8317 - val_precision: 0.8331 - val_recall: 0.8317\n",
            "Epoch 36/50\n",
            "38/38 [==============================] - 51s 1s/step - loss: 0.0117 - TruePositive: 4784.0000 - FalsePositive: 13.0000 - TrueNegative: 9587.0000 - FalseNegative: 16.0000 - accuracy: 0.9967 - precision: 0.9973 - recall: 0.9967 - val_loss: 1.0898 - val_TruePositive: 497.0000 - val_FalsePositive: 102.0000 - val_TrueNegative: 1098.0000 - val_FalseNegative: 103.0000 - val_accuracy: 0.8283 - val_precision: 0.8297 - val_recall: 0.8283\n",
            "Epoch 37/50\n",
            "38/38 [==============================] - 44s 1s/step - loss: 0.0067 - TruePositive: 4792.0000 - FalsePositive: 6.0000 - TrueNegative: 9594.0000 - FalseNegative: 8.0000 - accuracy: 0.9987 - precision: 0.9987 - recall: 0.9983 - val_loss: 1.1636 - val_TruePositive: 501.0000 - val_FalsePositive: 99.0000 - val_TrueNegative: 1101.0000 - val_FalseNegative: 99.0000 - val_accuracy: 0.8350 - val_precision: 0.8350 - val_recall: 0.8350\n",
            "Epoch 38/50\n",
            "38/38 [==============================] - 39s 1s/step - loss: 0.0047 - TruePositive: 4796.0000 - FalsePositive: 4.0000 - TrueNegative: 9596.0000 - FalseNegative: 4.0000 - accuracy: 0.9992 - precision: 0.9992 - recall: 0.9992 - val_loss: 1.2016 - val_TruePositive: 502.0000 - val_FalsePositive: 98.0000 - val_TrueNegative: 1102.0000 - val_FalseNegative: 98.0000 - val_accuracy: 0.8367 - val_precision: 0.8367 - val_recall: 0.8367\n",
            "Epoch 39/50\n",
            "38/38 [==============================] - 47s 1s/step - loss: 0.0069 - TruePositive: 4791.0000 - FalsePositive: 8.0000 - TrueNegative: 9592.0000 - FalseNegative: 9.0000 - accuracy: 0.9981 - precision: 0.9983 - recall: 0.9981 - val_loss: 1.1883 - val_TruePositive: 497.0000 - val_FalsePositive: 102.0000 - val_TrueNegative: 1098.0000 - val_FalseNegative: 103.0000 - val_accuracy: 0.8283 - val_precision: 0.8297 - val_recall: 0.8283\n",
            "Epoch 40/50\n",
            "38/38 [==============================] - 43s 1s/step - loss: 0.0076 - TruePositive: 4790.0000 - FalsePositive: 9.0000 - TrueNegative: 9591.0000 - FalseNegative: 10.0000 - accuracy: 0.9979 - precision: 0.9981 - recall: 0.9979 - val_loss: 1.1898 - val_TruePositive: 500.0000 - val_FalsePositive: 100.0000 - val_TrueNegative: 1100.0000 - val_FalseNegative: 100.0000 - val_accuracy: 0.8333 - val_precision: 0.8333 - val_recall: 0.8333\n",
            "Epoch 41/50\n",
            "38/38 [==============================] - 39s 1s/step - loss: 0.0072 - TruePositive: 4791.0000 - FalsePositive: 8.0000 - TrueNegative: 9592.0000 - FalseNegative: 9.0000 - accuracy: 0.9981 - precision: 0.9983 - recall: 0.9981 - val_loss: 1.1789 - val_TruePositive: 502.0000 - val_FalsePositive: 98.0000 - val_TrueNegative: 1102.0000 - val_FalseNegative: 98.0000 - val_accuracy: 0.8367 - val_precision: 0.8367 - val_recall: 0.8367\n",
            "Epoch 42/50\n",
            "38/38 [==============================] - 48s 1s/step - loss: 0.0103 - TruePositive: 4792.0000 - FalsePositive: 8.0000 - TrueNegative: 9592.0000 - FalseNegative: 8.0000 - accuracy: 0.9983 - precision: 0.9983 - recall: 0.9983 - val_loss: 1.2641 - val_TruePositive: 495.0000 - val_FalsePositive: 105.0000 - val_TrueNegative: 1095.0000 - val_FalseNegative: 105.0000 - val_accuracy: 0.8250 - val_precision: 0.8250 - val_recall: 0.8250\n",
            "Epoch 43/50\n",
            "38/38 [==============================] - 46s 1s/step - loss: 0.0078 - TruePositive: 4789.0000 - FalsePositive: 9.0000 - TrueNegative: 9591.0000 - FalseNegative: 11.0000 - accuracy: 0.9981 - precision: 0.9981 - recall: 0.9977 - val_loss: 1.1867 - val_TruePositive: 504.0000 - val_FalsePositive: 94.0000 - val_TrueNegative: 1106.0000 - val_FalseNegative: 96.0000 - val_accuracy: 0.8400 - val_precision: 0.8428 - val_recall: 0.8400\n",
            "Epoch 44/50\n",
            "38/38 [==============================] - 45s 1s/step - loss: 0.0086 - TruePositive: 4788.0000 - FalsePositive: 11.0000 - TrueNegative: 9589.0000 - FalseNegative: 12.0000 - accuracy: 0.9977 - precision: 0.9977 - recall: 0.9975 - val_loss: 1.2527 - val_TruePositive: 505.0000 - val_FalsePositive: 94.0000 - val_TrueNegative: 1106.0000 - val_FalseNegative: 95.0000 - val_accuracy: 0.8417 - val_precision: 0.8431 - val_recall: 0.8417\n",
            "Epoch 45/50\n",
            "38/38 [==============================] - 40s 1s/step - loss: 0.0070 - TruePositive: 4792.0000 - FalsePositive: 8.0000 - TrueNegative: 9592.0000 - FalseNegative: 8.0000 - accuracy: 0.9983 - precision: 0.9983 - recall: 0.9983 - val_loss: 1.2357 - val_TruePositive: 503.0000 - val_FalsePositive: 97.0000 - val_TrueNegative: 1103.0000 - val_FalseNegative: 97.0000 - val_accuracy: 0.8383 - val_precision: 0.8383 - val_recall: 0.8383\n",
            "Epoch 46/50\n",
            "38/38 [==============================] - 44s 1s/step - loss: 0.0090 - TruePositive: 4791.0000 - FalsePositive: 9.0000 - TrueNegative: 9591.0000 - FalseNegative: 9.0000 - accuracy: 0.9981 - precision: 0.9981 - recall: 0.9981 - val_loss: 1.2392 - val_TruePositive: 497.0000 - val_FalsePositive: 103.0000 - val_TrueNegative: 1097.0000 - val_FalseNegative: 103.0000 - val_accuracy: 0.8283 - val_precision: 0.8283 - val_recall: 0.8283\n",
            "Epoch 47/50\n",
            "38/38 [==============================] - 50s 1s/step - loss: 0.0082 - TruePositive: 4789.0000 - FalsePositive: 10.0000 - TrueNegative: 9590.0000 - FalseNegative: 11.0000 - accuracy: 0.9977 - precision: 0.9979 - recall: 0.9977 - val_loss: 1.2701 - val_TruePositive: 499.0000 - val_FalsePositive: 101.0000 - val_TrueNegative: 1099.0000 - val_FalseNegative: 101.0000 - val_accuracy: 0.8317 - val_precision: 0.8317 - val_recall: 0.8317\n",
            "Epoch 48/50\n",
            "38/38 [==============================] - 46s 1s/step - loss: 0.0094 - TruePositive: 4790.0000 - FalsePositive: 9.0000 - TrueNegative: 9591.0000 - FalseNegative: 10.0000 - accuracy: 0.9979 - precision: 0.9981 - recall: 0.9979 - val_loss: 1.1942 - val_TruePositive: 494.0000 - val_FalsePositive: 105.0000 - val_TrueNegative: 1095.0000 - val_FalseNegative: 106.0000 - val_accuracy: 0.8233 - val_precision: 0.8247 - val_recall: 0.8233\n",
            "Epoch 49/50\n",
            "38/38 [==============================] - 40s 1s/step - loss: 0.0222 - TruePositive: 4769.0000 - FalsePositive: 28.0000 - TrueNegative: 9572.0000 - FalseNegative: 31.0000 - accuracy: 0.9940 - precision: 0.9942 - recall: 0.9935 - val_loss: 1.0644 - val_TruePositive: 499.0000 - val_FalsePositive: 99.0000 - val_TrueNegative: 1101.0000 - val_FalseNegative: 101.0000 - val_accuracy: 0.8333 - val_precision: 0.8344 - val_recall: 0.8317\n",
            "Epoch 50/50\n",
            "38/38 [==============================] - 48s 1s/step - loss: 0.0195 - TruePositive: 4771.0000 - FalsePositive: 27.0000 - TrueNegative: 9573.0000 - FalseNegative: 29.0000 - accuracy: 0.9942 - precision: 0.9944 - recall: 0.9940 - val_loss: 1.2104 - val_TruePositive: 494.0000 - val_FalsePositive: 105.0000 - val_TrueNegative: 1095.0000 - val_FalseNegative: 106.0000 - val_accuracy: 0.8250 - val_precision: 0.8247 - val_recall: 0.8233\n"
          ]
        }
      ]
    },
    {
      "cell_type": "code",
      "source": [
        "cnn_lstm_test_soft1 = cnn_lstm_model1.predict(X_test_seq)\n",
        "cnn_lstm_test1 = np.argmax(cnn_lstm_test_soft1, axis=1)"
      ],
      "metadata": {
        "colab": {
          "base_uri": "https://localhost:8080/"
        },
        "outputId": "02f05f2f-0afc-449c-b885-bac75e347755",
        "id": "zUPQyEGG0IEG"
      },
      "execution_count": null,
      "outputs": [
        {
          "output_type": "stream",
          "name": "stdout",
          "text": [
            "19/19 [==============================] - 3s 88ms/step\n"
          ]
        }
      ]
    },
    {
      "cell_type": "code",
      "source": [
        "print_metric(test_num_labels, cnn_lstm_test1)"
      ],
      "metadata": {
        "colab": {
          "base_uri": "https://localhost:8080/",
          "height": 368
        },
        "outputId": "eee450e4-6e4c-4cf7-858b-71bfdfe742a2",
        "id": "WofSmlST0IEG"
      },
      "execution_count": null,
      "outputs": [
        {
          "output_type": "stream",
          "name": "stdout",
          "text": [
            "Test score: Macro / Micro\n",
            "\n",
            "Accuracy:    0.812\n",
            "F1:          0.811 / 0.812\n",
            "Precision:   0.811 / 0.812\n",
            "Recall:      0.812 / 0.812\n",
            "Confusion matrix: \n"
          ]
        },
        {
          "output_type": "display_data",
          "data": {
            "text/plain": [
              "<Figure size 432x216 with 2 Axes>"
            ],
            "image/png": "[encoded data removed]"
          },
          "metadata": {
            "needs_background": "light"
          }
        },
        {
          "output_type": "stream",
          "name": "stdout",
          "text": [
            "\n"
          ]
        }
      ]
    },
    {
      "cell_type": "code",
      "source": [
        "# Plot the training and validation accuracies for each epoch\n",
        "\n",
        "acc = cnn_lstm_model_history1.history['accuracy']\n",
        "val_acc = cnn_lstm_model_history1.history['val_accuracy']\n",
        "loss = cnn_lstm_model_history1.history['loss']\n",
        "val_loss = cnn_lstm_model_history1.history['val_loss']\n",
        "\n",
        "epochs = range(len(acc))\n",
        "\n",
        "plt.plot(epochs, acc, 'r', label='Training accuracy')\n",
        "plt.plot(epochs, val_acc, 'b', label='Validation accuracy')\n",
        "plt.title('Training and validation accuracy')\n",
        "plt.legend(loc=0)\n",
        "plt.figure()\n",
        "\n",
        "plt.plot(epochs, loss, 'r', label='Training loss')\n",
        "plt.plot(epochs, val_loss, 'b', label='Validation loss')\n",
        "plt.title('Training and validation loss')\n",
        "plt.legend(loc=0)\n",
        "plt.figure()\n",
        "\n",
        "plt.show()"
      ],
      "metadata": {
        "colab": {
          "base_uri": "https://localhost:8080/",
          "height": 563
        },
        "outputId": "9c755c66-406f-459f-9916-192e17cfc322",
        "id": "i2dR0g-I0IEG"
      },
      "execution_count": null,
      "outputs": [
        {
          "output_type": "display_data",
          "data": {
            "text/plain": [
              "<Figure size 432x288 with 1 Axes>"
            ],
            "image/png": "[encoded data removed]"
          },
          "metadata": {
            "needs_background": "light"
          }
        },
        {
          "output_type": "display_data",
          "data": {
            "text/plain": [
              "<Figure size 432x288 with 1 Axes>"
            ],
            "image/png": "[encoded data removed]"
          },
          "metadata": {
            "needs_background": "light"
          }
        },
        {
          "output_type": "display_data",
          "data": {
            "text/plain": [
              "<Figure size 432x288 with 0 Axes>"
            ]
          },
          "metadata": {}
        }
      ]
    },
    {
      "cell_type": "code",
      "source": [
        "cnn_lstm_model1.save('/content/drive/MyDrive/SKRIPSI/Model/cnn_lstm_model1_99-82.h5')"
      ],
      "metadata": {
        "id": "teA28Y0_0IEG"
      },
      "execution_count": null,
      "outputs": []
    },
    {
      "cell_type": "markdown",
      "source": [
        "## CNN-LSTM - with recurrent dropout + dropout 2 (20 epochs)"
      ],
      "metadata": {
        "id": "QIRhCl3EwD_b"
      }
    },
    {
      "cell_type": "code",
      "source": [
        "# TODO: Model CNN-LSTM\n",
        "\n",
        "def cnn_lstm_model2():\n",
        "    model = Sequential()\n",
        "    model.add(Embedding(vocab_size,\n",
        "                    embedding_dim,\n",
        "                    input_length=maxlen,\n",
        "                    trainable=True))\n",
        "\n",
        "    model.add(Conv1D(filters = 100, kernel_size = 5, strides = 1, padding = 'same', activation = 'relu'))\n",
        "    model.add(Conv1D(filters = 64, kernel_size = 3, strides = 1, padding = 'same', activation = 'relu'))\n",
        "    model.add(LSTM(128, dropout=0.2, recurrent_dropout=0.2, return_sequences=True,))\n",
        "    model.add(GlobalMaxPooling1D())\n",
        "    model.add(Dropout(0.5))\n",
        "    model.add(Dense(3, activation='softmax'))\n",
        "\n",
        "    opt = Adam(learning_rate=0.001)\n",
        "\n",
        "    model.compile(\n",
        "        loss=\"categorical_crossentropy\", \n",
        "        optimizer=opt, \n",
        "        metrics=metrics\n",
        "    )\n",
        "\n",
        "    return model"
      ],
      "metadata": {
        "id": "5oQxDhUSwD_c"
      },
      "execution_count": null,
      "outputs": []
    },
    {
      "cell_type": "code",
      "source": [
        "cnn_lstm_model2 = cnn_lstm_model2()\n",
        "cnn_lstm_model2.summary()"
      ],
      "metadata": {
        "colab": {
          "base_uri": "https://localhost:8080/"
        },
        "outputId": "40d90995-567b-4cdf-d346-5a53d523ea19",
        "id": "JQCJCHYFwD_c"
      },
      "execution_count": null,
      "outputs": [
        {
          "output_type": "stream",
          "name": "stdout",
          "text": [
            "Model: \"sequential_2\"\n",
            "_________________________________________________________________\n",
            " Layer (type)                Output Shape              Param #   \n",
            "=================================================================\n",
            " embedding_2 (Embedding)     (None, 100, 128)          308736    \n",
            "                                                                 \n",
            " conv1d_4 (Conv1D)           (None, 100, 100)          64100     \n",
            "                                                                 \n",
            " conv1d_5 (Conv1D)           (None, 100, 64)           19264     \n",
            "                                                                 \n",
            " lstm_2 (LSTM)               (None, 100, 128)          98816     \n",
            "                                                                 \n",
            " global_max_pooling1d_2 (Glo  (None, 128)              0         \n",
            " balMaxPooling1D)                                                \n",
            "                                                                 \n",
            " dropout_2 (Dropout)         (None, 128)               0         \n",
            "                                                                 \n",
            " dense_2 (Dense)             (None, 3)                 387       \n",
            "                                                                 \n",
            "=================================================================\n",
            "Total params: 491,303\n",
            "Trainable params: 491,303\n",
            "Non-trainable params: 0\n",
            "_________________________________________________________________\n"
          ]
        }
      ]
    },
    {
      "cell_type": "code",
      "source": [
        "from keras.utils.vis_utils import plot_model\n",
        "plot_model(cnn_lstm_model2, to_file='model_plot_cnn_lstm_model2.png', show_shapes=True, show_layer_names=True)"
      ],
      "metadata": {
        "colab": {
          "base_uri": "https://localhost:8080/",
          "height": 865
        },
        "outputId": "a9891924-f6d4-4d9a-a1b5-a14f78672282",
        "id": "dLIroc_RwD_d"
      },
      "execution_count": null,
      "outputs": [
        {
          "output_type": "execute_result",
          "data": {
            "image/png": "[encoded data removed]",
            "text/plain": [
              "<IPython.core.display.Image object>"
            ]
          },
          "metadata": {},
          "execution_count": 63
        }
      ]
    },
    {
      "cell_type": "code",
      "source": [
        "cnn_lstm_model_history2 = cnn_lstm_model2.fit(X_train_seq, y_train, \n",
        "                    epochs=20, \n",
        "                    verbose=True, \n",
        "                    validation_data=(X_dev_seq, y_dev), \n",
        "                    batch_size=128\n",
        "                    # callbacks=[EarlyStopping(monitor=\"val_loss\", patience=2)]\n",
        "                    )"
      ],
      "metadata": {
        "colab": {
          "base_uri": "https://localhost:8080/"
        },
        "outputId": "78500955-20a4-45b8-fd2b-4717e39f4654",
        "id": "uGA7b-jUwD_d"
      },
      "execution_count": null,
      "outputs": [
        {
          "output_type": "stream",
          "name": "stdout",
          "text": [
            "Epoch 1/20\n",
            "38/38 [==============================] - 52s 1s/step - loss: 1.0206 - TruePositive: 1036.0000 - FalsePositive: 295.0000 - TrueNegative: 10505.0000 - FalseNegative: 4364.0000 - accuracy: 0.4970 - precision: 0.7784 - recall: 0.1919 - val_loss: 0.7640 - val_TruePositive: 308.0000 - val_FalsePositive: 67.0000 - val_TrueNegative: 1133.0000 - val_FalseNegative: 292.0000 - val_accuracy: 0.7117 - val_precision: 0.8213 - val_recall: 0.5133\n",
            "Epoch 2/20\n",
            "38/38 [==============================] - 45s 1s/step - loss: 0.5509 - TruePositive: 3671.0000 - FalsePositive: 748.0000 - TrueNegative: 8852.0000 - FalseNegative: 1129.0000 - accuracy: 0.8069 - precision: 0.8307 - recall: 0.7648 - val_loss: 0.4914 - val_TruePositive: 490.0000 - val_FalsePositive: 92.0000 - val_TrueNegative: 1108.0000 - val_FalseNegative: 110.0000 - val_accuracy: 0.8283 - val_precision: 0.8419 - val_recall: 0.8167\n",
            "Epoch 3/20\n",
            "38/38 [==============================] - 43s 1s/step - loss: 0.3428 - TruePositive: 4212.0000 - FalsePositive: 500.0000 - TrueNegative: 9100.0000 - FalseNegative: 588.0000 - accuracy: 0.8852 - precision: 0.8939 - recall: 0.8775 - val_loss: 0.4492 - val_TruePositive: 502.0000 - val_FalsePositive: 84.0000 - val_TrueNegative: 1116.0000 - val_FalseNegative: 98.0000 - val_accuracy: 0.8433 - val_precision: 0.8567 - val_recall: 0.8367\n",
            "Epoch 4/20\n",
            "38/38 [==============================] - 43s 1s/step - loss: 0.2631 - TruePositive: 4362.0000 - FalsePositive: 380.0000 - TrueNegative: 9220.0000 - FalseNegative: 438.0000 - accuracy: 0.9165 - precision: 0.9199 - recall: 0.9087 - val_loss: 0.4455 - val_TruePositive: 502.0000 - val_FalsePositive: 88.0000 - val_TrueNegative: 1112.0000 - val_FalseNegative: 98.0000 - val_accuracy: 0.8417 - val_precision: 0.8508 - val_recall: 0.8367\n",
            "Epoch 5/20\n",
            "38/38 [==============================] - 44s 1s/step - loss: 0.2227 - TruePositive: 4446.0000 - FalsePositive: 317.0000 - TrueNegative: 9283.0000 - FalseNegative: 354.0000 - accuracy: 0.9304 - precision: 0.9334 - recall: 0.9262 - val_loss: 0.5228 - val_TruePositive: 497.0000 - val_FalsePositive: 95.0000 - val_TrueNegative: 1105.0000 - val_FalseNegative: 103.0000 - val_accuracy: 0.8317 - val_precision: 0.8395 - val_recall: 0.8283\n",
            "Epoch 6/20\n",
            "38/38 [==============================] - 43s 1s/step - loss: 0.1823 - TruePositive: 4520.0000 - FalsePositive: 254.0000 - TrueNegative: 9346.0000 - FalseNegative: 280.0000 - accuracy: 0.9446 - precision: 0.9468 - recall: 0.9417 - val_loss: 0.4897 - val_TruePositive: 499.0000 - val_FalsePositive: 95.0000 - val_TrueNegative: 1105.0000 - val_FalseNegative: 101.0000 - val_accuracy: 0.8333 - val_precision: 0.8401 - val_recall: 0.8317\n",
            "Epoch 7/20\n",
            "38/38 [==============================] - 44s 1s/step - loss: 0.1549 - TruePositive: 4573.0000 - FalsePositive: 197.0000 - TrueNegative: 9403.0000 - FalseNegative: 227.0000 - accuracy: 0.9565 - precision: 0.9587 - recall: 0.9527 - val_loss: 0.5345 - val_TruePositive: 507.0000 - val_FalsePositive: 88.0000 - val_TrueNegative: 1112.0000 - val_FalseNegative: 93.0000 - val_accuracy: 0.8483 - val_precision: 0.8521 - val_recall: 0.8450\n",
            "Epoch 8/20\n",
            "38/38 [==============================] - 45s 1s/step - loss: 0.1407 - TruePositive: 4588.0000 - FalsePositive: 187.0000 - TrueNegative: 9413.0000 - FalseNegative: 212.0000 - accuracy: 0.9577 - precision: 0.9608 - recall: 0.9558 - val_loss: 0.6331 - val_TruePositive: 491.0000 - val_FalsePositive: 103.0000 - val_TrueNegative: 1097.0000 - val_FalseNegative: 109.0000 - val_accuracy: 0.8200 - val_precision: 0.8266 - val_recall: 0.8183\n",
            "Epoch 9/20\n",
            "38/38 [==============================] - 44s 1s/step - loss: 0.1289 - TruePositive: 4616.0000 - FalsePositive: 165.0000 - TrueNegative: 9435.0000 - FalseNegative: 184.0000 - accuracy: 0.9629 - precision: 0.9655 - recall: 0.9617 - val_loss: 0.5532 - val_TruePositive: 499.0000 - val_FalsePositive: 92.0000 - val_TrueNegative: 1108.0000 - val_FalseNegative: 101.0000 - val_accuracy: 0.8367 - val_precision: 0.8443 - val_recall: 0.8317\n",
            "Epoch 10/20\n",
            "38/38 [==============================] - 41s 1s/step - loss: 0.1028 - TruePositive: 4663.0000 - FalsePositive: 126.0000 - TrueNegative: 9474.0000 - FalseNegative: 137.0000 - accuracy: 0.9723 - precision: 0.9737 - recall: 0.9715 - val_loss: 0.6609 - val_TruePositive: 493.0000 - val_FalsePositive: 101.0000 - val_TrueNegative: 1099.0000 - val_FalseNegative: 107.0000 - val_accuracy: 0.8283 - val_precision: 0.8300 - val_recall: 0.8217\n",
            "Epoch 11/20\n",
            "38/38 [==============================] - 48s 1s/step - loss: 0.0898 - TruePositive: 4672.0000 - FalsePositive: 116.0000 - TrueNegative: 9484.0000 - FalseNegative: 128.0000 - accuracy: 0.9748 - precision: 0.9758 - recall: 0.9733 - val_loss: 0.6353 - val_TruePositive: 498.0000 - val_FalsePositive: 99.0000 - val_TrueNegative: 1101.0000 - val_FalseNegative: 102.0000 - val_accuracy: 0.8317 - val_precision: 0.8342 - val_recall: 0.8300\n",
            "Epoch 12/20\n",
            "38/38 [==============================] - 47s 1s/step - loss: 0.0778 - TruePositive: 4684.0000 - FalsePositive: 99.0000 - TrueNegative: 9501.0000 - FalseNegative: 116.0000 - accuracy: 0.9775 - precision: 0.9793 - recall: 0.9758 - val_loss: 0.5820 - val_TruePositive: 509.0000 - val_FalsePositive: 91.0000 - val_TrueNegative: 1109.0000 - val_FalseNegative: 91.0000 - val_accuracy: 0.8483 - val_precision: 0.8483 - val_recall: 0.8483\n",
            "Epoch 13/20\n",
            "38/38 [==============================] - 41s 1s/step - loss: 0.0737 - TruePositive: 4694.0000 - FalsePositive: 94.0000 - TrueNegative: 9506.0000 - FalseNegative: 106.0000 - accuracy: 0.9794 - precision: 0.9804 - recall: 0.9779 - val_loss: 0.6807 - val_TruePositive: 492.0000 - val_FalsePositive: 103.0000 - val_TrueNegative: 1097.0000 - val_FalseNegative: 108.0000 - val_accuracy: 0.8250 - val_precision: 0.8269 - val_recall: 0.8200\n",
            "Epoch 14/20\n",
            "38/38 [==============================] - 44s 1s/step - loss: 0.0505 - TruePositive: 4732.0000 - FalsePositive: 62.0000 - TrueNegative: 9538.0000 - FalseNegative: 68.0000 - accuracy: 0.9867 - precision: 0.9871 - recall: 0.9858 - val_loss: 0.7846 - val_TruePositive: 503.0000 - val_FalsePositive: 95.0000 - val_TrueNegative: 1105.0000 - val_FalseNegative: 97.0000 - val_accuracy: 0.8400 - val_precision: 0.8411 - val_recall: 0.8383\n",
            "Epoch 15/20\n",
            "38/38 [==============================] - 46s 1s/step - loss: 0.0473 - TruePositive: 4734.0000 - FalsePositive: 60.0000 - TrueNegative: 9540.0000 - FalseNegative: 66.0000 - accuracy: 0.9869 - precision: 0.9875 - recall: 0.9862 - val_loss: 0.8033 - val_TruePositive: 499.0000 - val_FalsePositive: 99.0000 - val_TrueNegative: 1101.0000 - val_FalseNegative: 101.0000 - val_accuracy: 0.8317 - val_precision: 0.8344 - val_recall: 0.8317\n",
            "Epoch 16/20\n",
            "38/38 [==============================] - 44s 1s/step - loss: 0.0525 - TruePositive: 4728.0000 - FalsePositive: 66.0000 - TrueNegative: 9534.0000 - FalseNegative: 72.0000 - accuracy: 0.9854 - precision: 0.9862 - recall: 0.9850 - val_loss: 0.7927 - val_TruePositive: 495.0000 - val_FalsePositive: 99.0000 - val_TrueNegative: 1101.0000 - val_FalseNegative: 105.0000 - val_accuracy: 0.8267 - val_precision: 0.8333 - val_recall: 0.8250\n",
            "Epoch 17/20\n",
            "38/38 [==============================] - 44s 1s/step - loss: 0.0659 - TruePositive: 4699.0000 - FalsePositive: 91.0000 - TrueNegative: 9509.0000 - FalseNegative: 101.0000 - accuracy: 0.9796 - precision: 0.9810 - recall: 0.9790 - val_loss: 0.7795 - val_TruePositive: 493.0000 - val_FalsePositive: 105.0000 - val_TrueNegative: 1095.0000 - val_FalseNegative: 107.0000 - val_accuracy: 0.8233 - val_precision: 0.8244 - val_recall: 0.8217\n",
            "Epoch 18/20\n",
            "38/38 [==============================] - 48s 1s/step - loss: 0.0475 - TruePositive: 4729.0000 - FalsePositive: 65.0000 - TrueNegative: 9535.0000 - FalseNegative: 71.0000 - accuracy: 0.9858 - precision: 0.9864 - recall: 0.9852 - val_loss: 0.7743 - val_TruePositive: 502.0000 - val_FalsePositive: 95.0000 - val_TrueNegative: 1105.0000 - val_FalseNegative: 98.0000 - val_accuracy: 0.8400 - val_precision: 0.8409 - val_recall: 0.8367\n",
            "Epoch 19/20\n",
            "38/38 [==============================] - 44s 1s/step - loss: 0.0267 - TruePositive: 4772.0000 - FalsePositive: 24.0000 - TrueNegative: 9576.0000 - FalseNegative: 28.0000 - accuracy: 0.9948 - precision: 0.9950 - recall: 0.9942 - val_loss: 0.8672 - val_TruePositive: 494.0000 - val_FalsePositive: 100.0000 - val_TrueNegative: 1100.0000 - val_FalseNegative: 106.0000 - val_accuracy: 0.8250 - val_precision: 0.8316 - val_recall: 0.8233\n",
            "Epoch 20/20\n",
            "38/38 [==============================] - 42s 1s/step - loss: 0.0367 - TruePositive: 4752.0000 - FalsePositive: 43.0000 - TrueNegative: 9557.0000 - FalseNegative: 48.0000 - accuracy: 0.9904 - precision: 0.9910 - recall: 0.9900 - val_loss: 0.8249 - val_TruePositive: 502.0000 - val_FalsePositive: 97.0000 - val_TrueNegative: 1103.0000 - val_FalseNegative: 98.0000 - val_accuracy: 0.8367 - val_precision: 0.8381 - val_recall: 0.8367\n"
          ]
        }
      ]
    },
    {
      "cell_type": "code",
      "source": [
        "cnn_lstm_test_soft2 = cnn_lstm_model2.predict(X_test_seq)\n",
        "cnn_lstm_test2 = np.argmax(cnn_lstm_test_soft2, axis=1)"
      ],
      "metadata": {
        "colab": {
          "base_uri": "https://localhost:8080/"
        },
        "outputId": "e6c54baa-893a-4419-91ed-6b22a40af1ef",
        "id": "_FkwM7cEwD_e"
      },
      "execution_count": null,
      "outputs": [
        {
          "output_type": "stream",
          "name": "stdout",
          "text": [
            "19/19 [==============================] - 2s 54ms/step\n"
          ]
        }
      ]
    },
    {
      "cell_type": "code",
      "source": [
        "print_metric(test_num_labels, cnn_lstm_test2)"
      ],
      "metadata": {
        "colab": {
          "base_uri": "https://localhost:8080/",
          "height": 368
        },
        "outputId": "d134bea7-d00b-4658-d8ac-7f4a16972040",
        "id": "a8aTFUVBwD_e"
      },
      "execution_count": null,
      "outputs": [
        {
          "output_type": "stream",
          "name": "stdout",
          "text": [
            "Test score: Macro / Micro\n",
            "\n",
            "Accuracy:    0.815\n",
            "F1:          0.815 / 0.815\n",
            "Precision:   0.821 / 0.815\n",
            "Recall:      0.817 / 0.815\n",
            "Confusion matrix: \n"
          ]
        },
        {
          "output_type": "display_data",
          "data": {
            "text/plain": [
              "<Figure size 432x216 with 2 Axes>"
            ],
            "image/png": "[encoded data removed]"
          },
          "metadata": {
            "needs_background": "light"
          }
        },
        {
          "output_type": "stream",
          "name": "stdout",
          "text": [
            "\n"
          ]
        }
      ]
    },
    {
      "cell_type": "code",
      "source": [
        "# Plot the training and validation accuracies for each epoch\n",
        "\n",
        "acc = cnn_lstm_model_history2.history['accuracy']\n",
        "val_acc = cnn_lstm_model_history2.history['val_accuracy']\n",
        "loss = cnn_lstm_model_history2.history['loss']\n",
        "val_loss = cnn_lstm_model_history2.history['val_loss']\n",
        "\n",
        "epochs = range(len(acc))\n",
        "\n",
        "plt.plot(epochs, acc, 'r', label='Training accuracy')\n",
        "plt.plot(epochs, val_acc, 'b', label='Validation accuracy')\n",
        "plt.title('Training and validation accuracy')\n",
        "plt.legend(loc=0)\n",
        "plt.figure()\n",
        "\n",
        "plt.plot(epochs, loss, 'r', label='Training loss')\n",
        "plt.plot(epochs, val_loss, 'b', label='Validation loss')\n",
        "plt.title('Training and validation loss')\n",
        "plt.legend(loc=0)\n",
        "plt.figure()\n",
        "\n",
        "plt.show()"
      ],
      "metadata": {
        "colab": {
          "base_uri": "https://localhost:8080/",
          "height": 563
        },
        "outputId": "c18f11ac-58b6-416a-d40a-68ca8de17faf",
        "id": "iZsfrg-swD_f"
      },
      "execution_count": null,
      "outputs": [
        {
          "output_type": "display_data",
          "data": {
            "text/plain": [
              "<Figure size 432x288 with 1 Axes>"
            ],
            "image/png": "[encoded data removed]"
          },
          "metadata": {
            "needs_background": "light"
          }
        },
        {
          "output_type": "display_data",
          "data": {
            "text/plain": [
              "<Figure size 432x288 with 1 Axes>"
            ],
            "image/png": "[encoded data removed]"
          },
          "metadata": {
            "needs_background": "light"
          }
        },
        {
          "output_type": "display_data",
          "data": {
            "text/plain": [
              "<Figure size 432x288 with 0 Axes>"
            ]
          },
          "metadata": {}
        }
      ]
    },
    {
      "cell_type": "code",
      "source": [
        "cnn_lstm_model2.save('/content/drive/MyDrive/SKRIPSI/Model/cnn_lstm_model2_99-83_20epochs.h5')"
      ],
      "metadata": {
        "id": "hkGj0bStwD_f"
      },
      "execution_count": null,
      "outputs": []
    },
    {
      "cell_type": "markdown",
      "source": [
        "## CNN-LSTM - with recurrent dropout + dropout 3 (with early stopping) - Best Fit"
      ],
      "metadata": {
        "id": "c4oh4q_G1n10"
      }
    },
    {
      "cell_type": "code",
      "source": [
        "# TODO: Model CNN-LSTM\n",
        "\n",
        "def cnn_lstm_model3():\n",
        "    model = Sequential()\n",
        "    model.add(Embedding(vocab_size,\n",
        "                    embedding_dim,\n",
        "                    input_length=maxlen,\n",
        "                    trainable=True))\n",
        "\n",
        "    model.add(Conv1D(filters = 100, kernel_size = 5, strides = 1, padding = 'same', activation = 'relu'))\n",
        "    model.add(Conv1D(filters = 64, kernel_size = 3, strides = 1, padding = 'same', activation = 'relu'))\n",
        "    model.add(LSTM(128, dropout=0.2, recurrent_dropout=0.2, return_sequences=True,))\n",
        "    model.add(GlobalMaxPooling1D())\n",
        "    model.add(Dropout(0.5))\n",
        "    model.add(Dense(3, activation='softmax'))\n",
        "\n",
        "    opt = Adam(learning_rate=0.001)\n",
        "\n",
        "    model.compile(\n",
        "        loss=\"categorical_crossentropy\", \n",
        "        optimizer=opt, \n",
        "        metrics=metrics\n",
        "    )\n",
        "\n",
        "    return model"
      ],
      "metadata": {
        "id": "VZOtw7a61n10"
      },
      "execution_count": null,
      "outputs": []
    },
    {
      "cell_type": "code",
      "source": [
        "cnn_lstm_model3 = cnn_lstm_model3()\n",
        "cnn_lstm_model3.summary()"
      ],
      "metadata": {
        "colab": {
          "base_uri": "https://localhost:8080/"
        },
        "outputId": "b83ae0c9-f5f9-40d0-be56-bc381b38c7c7",
        "id": "Y0ZZFV881n11"
      },
      "execution_count": null,
      "outputs": [
        {
          "output_type": "stream",
          "name": "stdout",
          "text": [
            "Model: \"sequential_3\"\n",
            "_________________________________________________________________\n",
            " Layer (type)                Output Shape              Param #   \n",
            "=================================================================\n",
            " embedding_3 (Embedding)     (None, 100, 128)          308736    \n",
            "                                                                 \n",
            " conv1d_6 (Conv1D)           (None, 100, 100)          64100     \n",
            "                                                                 \n",
            " conv1d_7 (Conv1D)           (None, 100, 64)           19264     \n",
            "                                                                 \n",
            " lstm_3 (LSTM)               (None, 100, 128)          98816     \n",
            "                                                                 \n",
            " global_max_pooling1d_3 (Glo  (None, 128)              0         \n",
            " balMaxPooling1D)                                                \n",
            "                                                                 \n",
            " dropout_3 (Dropout)         (None, 128)               0         \n",
            "                                                                 \n",
            " dense_3 (Dense)             (None, 3)                 387       \n",
            "                                                                 \n",
            "=================================================================\n",
            "Total params: 491,303\n",
            "Trainable params: 491,303\n",
            "Non-trainable params: 0\n",
            "_________________________________________________________________\n"
          ]
        }
      ]
    },
    {
      "cell_type": "code",
      "source": [
        "from keras.utils.vis_utils import plot_model\n",
        "plot_model(cnn_lstm_model3, to_file='model_plot_cnn_lstm_model3.png', show_shapes=True, show_layer_names=True)"
      ],
      "metadata": {
        "colab": {
          "base_uri": "https://localhost:8080/",
          "height": 865
        },
        "outputId": "b09e53a0-7f9a-4cc9-a173-e017e4cdb99d",
        "id": "I6eTIci51n11"
      },
      "execution_count": null,
      "outputs": [
        {
          "output_type": "execute_result",
          "data": {
            "image/png": "[encoded data removed]",
            "text/plain": [
              "<IPython.core.display.Image object>"
            ]
          },
          "metadata": {},
          "execution_count": 73
        }
      ]
    },
    {
      "cell_type": "code",
      "source": [
        "cnn_lstm_model_history3 = cnn_lstm_model3.fit(X_train_seq, y_train, \n",
        "                    epochs=20, \n",
        "                    verbose=True, \n",
        "                    validation_data=(X_dev_seq, y_dev), \n",
        "                    batch_size=128,\n",
        "                    callbacks=[EarlyStopping(monitor=\"val_loss\", patience=2)]\n",
        "                    )"
      ],
      "metadata": {
        "colab": {
          "base_uri": "https://localhost:8080/"
        },
        "outputId": "fe118d95-1243-4fc0-ee7c-41c3495615b6",
        "id": "ZQ_-veZe1n12"
      },
      "execution_count": null,
      "outputs": [
        {
          "output_type": "stream",
          "name": "stdout",
          "text": [
            "Epoch 1/20\n",
            "38/38 [==============================] - 49s 1s/step - loss: 1.0463 - TruePositive: 793.0000 - FalsePositive: 208.0000 - TrueNegative: 10592.0000 - FalseNegative: 4607.0000 - accuracy: 0.4741 - precision: 0.7922 - recall: 0.1469 - val_loss: 0.8396 - val_TruePositive: 204.0000 - val_FalsePositive: 69.0000 - val_TrueNegative: 1131.0000 - val_FalseNegative: 396.0000 - val_accuracy: 0.6900 - val_precision: 0.7473 - val_recall: 0.3400\n",
            "Epoch 2/20\n",
            "38/38 [==============================] - 46s 1s/step - loss: 0.5588 - TruePositive: 3611.0000 - FalsePositive: 723.0000 - TrueNegative: 8877.0000 - FalseNegative: 1189.0000 - accuracy: 0.8010 - precision: 0.8332 - recall: 0.7523 - val_loss: 0.5268 - val_TruePositive: 484.0000 - val_FalsePositive: 97.0000 - val_TrueNegative: 1103.0000 - val_FalseNegative: 116.0000 - val_accuracy: 0.8233 - val_precision: 0.8330 - val_recall: 0.8067\n",
            "Epoch 3/20\n",
            "38/38 [==============================] - 45s 1s/step - loss: 0.3467 - TruePositive: 4204.0000 - FalsePositive: 495.0000 - TrueNegative: 9105.0000 - FalseNegative: 596.0000 - accuracy: 0.8858 - precision: 0.8947 - recall: 0.8758 - val_loss: 0.4429 - val_TruePositive: 498.0000 - val_FalsePositive: 87.0000 - val_TrueNegative: 1113.0000 - val_FalseNegative: 102.0000 - val_accuracy: 0.8383 - val_precision: 0.8513 - val_recall: 0.8300\n",
            "Epoch 4/20\n",
            "38/38 [==============================] - 48s 1s/step - loss: 0.2648 - TruePositive: 4356.0000 - FalsePositive: 380.0000 - TrueNegative: 9220.0000 - FalseNegative: 444.0000 - accuracy: 0.9135 - precision: 0.9198 - recall: 0.9075 - val_loss: 0.4363 - val_TruePositive: 504.0000 - val_FalsePositive: 78.0000 - val_TrueNegative: 1122.0000 - val_FalseNegative: 96.0000 - val_accuracy: 0.8483 - val_precision: 0.8660 - val_recall: 0.8400\n",
            "Epoch 5/20\n",
            "38/38 [==============================] - 44s 1s/step - loss: 0.2170 - TruePositive: 4431.0000 - FalsePositive: 325.0000 - TrueNegative: 9275.0000 - FalseNegative: 369.0000 - accuracy: 0.9271 - precision: 0.9317 - recall: 0.9231 - val_loss: 0.4619 - val_TruePositive: 495.0000 - val_FalsePositive: 88.0000 - val_TrueNegative: 1112.0000 - val_FalseNegative: 105.0000 - val_accuracy: 0.8367 - val_precision: 0.8491 - val_recall: 0.8250\n",
            "Epoch 6/20\n",
            "38/38 [==============================] - 44s 1s/step - loss: 0.1928 - TruePositive: 4490.0000 - FalsePositive: 283.0000 - TrueNegative: 9317.0000 - FalseNegative: 310.0000 - accuracy: 0.9383 - precision: 0.9407 - recall: 0.9354 - val_loss: 0.5230 - val_TruePositive: 500.0000 - val_FalsePositive: 92.0000 - val_TrueNegative: 1108.0000 - val_FalseNegative: 100.0000 - val_accuracy: 0.8367 - val_precision: 0.8446 - val_recall: 0.8333\n"
          ]
        }
      ]
    },
    {
      "cell_type": "code",
      "source": [
        "cnn_lstm_test_soft3 = cnn_lstm_model3.predict(X_test_seq)\n",
        "cnn_lstm_test3 = np.argmax(cnn_lstm_test_soft3, axis=1)"
      ],
      "metadata": {
        "colab": {
          "base_uri": "https://localhost:8080/"
        },
        "outputId": "d101160a-64c3-4615-be23-23ed542175ce",
        "id": "IfbrTj0U1n12"
      },
      "execution_count": null,
      "outputs": [
        {
          "output_type": "stream",
          "name": "stdout",
          "text": [
            "19/19 [==============================] - 4s 123ms/step\n"
          ]
        }
      ]
    },
    {
      "cell_type": "code",
      "source": [
        "print_metric(test_num_labels, cnn_lstm_test3)"
      ],
      "metadata": {
        "colab": {
          "base_uri": "https://localhost:8080/",
          "height": 368
        },
        "outputId": "1b356d0f-77d7-434d-f470-2f49efa2efac",
        "id": "sh57jYON1n12"
      },
      "execution_count": null,
      "outputs": [
        {
          "output_type": "stream",
          "name": "stdout",
          "text": [
            "Test score: Macro / Micro\n",
            "\n",
            "Accuracy:    0.838\n",
            "F1:          0.838 / 0.838\n",
            "Precision:   0.840 / 0.838\n",
            "Recall:      0.840 / 0.838\n",
            "Confusion matrix: \n"
          ]
        },
        {
          "output_type": "display_data",
          "data": {
            "text/plain": [
              "<Figure size 432x216 with 2 Axes>"
            ],
            "image/png": "[encoded data removed]"
          },
          "metadata": {
            "needs_background": "light"
          }
        },
        {
          "output_type": "stream",
          "name": "stdout",
          "text": [
            "\n"
          ]
        }
      ]
    },
    {
      "cell_type": "code",
      "source": [
        "# Plot the training and validation accuracies for each epoch\n",
        "\n",
        "acc = cnn_lstm_model_history3.history['accuracy']\n",
        "val_acc = cnn_lstm_model_history3.history['val_accuracy']\n",
        "loss = cnn_lstm_model_history3.history['loss']\n",
        "val_loss = cnn_lstm_model_history3.history['val_loss']\n",
        "\n",
        "epochs = range(len(acc))\n",
        "\n",
        "plt.plot(epochs, acc, 'r', label='Training accuracy')\n",
        "plt.plot(epochs, val_acc, 'b', label='Validation accuracy')\n",
        "plt.title('Training and validation accuracy')\n",
        "plt.legend(loc=0)\n",
        "plt.figure()\n",
        "\n",
        "plt.plot(epochs, loss, 'r', label='Training loss')\n",
        "plt.plot(epochs, val_loss, 'b', label='Validation loss')\n",
        "plt.title('Training and validation loss')\n",
        "plt.legend(loc=0)\n",
        "plt.figure()\n",
        "\n",
        "plt.show()"
      ],
      "metadata": {
        "colab": {
          "base_uri": "https://localhost:8080/",
          "height": 563
        },
        "outputId": "32d7b6d1-73d2-40aa-e25c-6cbe89851f61",
        "id": "0YzinKze1n12"
      },
      "execution_count": null,
      "outputs": [
        {
          "output_type": "display_data",
          "data": {
            "text/plain": [
              "<Figure size 432x288 with 1 Axes>"
            ],
            "image/png": "[encoded data removed]"
          },
          "metadata": {
            "needs_background": "light"
          }
        },
        {
          "output_type": "display_data",
          "data": {
            "text/plain": [
              "<Figure size 432x288 with 1 Axes>"
            ],
            "image/png": "[encoded data removed]"
          },
          "metadata": {
            "needs_background": "light"
          }
        },
        {
          "output_type": "display_data",
          "data": {
            "text/plain": [
              "<Figure size 432x288 with 0 Axes>"
            ]
          },
          "metadata": {}
        }
      ]
    },
    {
      "cell_type": "code",
      "source": [
        "cnn_lstm_model3.save('/content/drive/MyDrive/SKRIPSI/Model/cnn_lstm_model3_93-83_earlystopping.h5')"
      ],
      "metadata": {
        "id": "APMOlGNK1n13"
      },
      "execution_count": null,
      "outputs": []
    },
    {
      "cell_type": "markdown",
      "source": [
        "## CNN-LSTM - with recurrent dropout + dropout 4 (dropout 0.2)"
      ],
      "metadata": {
        "id": "p8o7SG0o3u69"
      }
    },
    {
      "cell_type": "code",
      "source": [
        "# TODO: Model CNN-LSTM\n",
        "\n",
        "def cnn_lstm_model4():\n",
        "    model = Sequential()\n",
        "    model.add(Embedding(vocab_size,\n",
        "                    embedding_dim,\n",
        "                    input_length=maxlen,\n",
        "                    trainable=True))\n",
        "\n",
        "    model.add(Conv1D(filters = 100, kernel_size = 5, strides = 1, padding = 'same', activation = 'relu'))\n",
        "    model.add(Conv1D(filters = 64, kernel_size = 3, strides = 1, padding = 'same', activation = 'relu'))\n",
        "    model.add(LSTM(128, dropout=0.2, recurrent_dropout=0.2, return_sequences=True,))\n",
        "    model.add(GlobalMaxPooling1D())\n",
        "    model.add(Dropout(0.2))\n",
        "    model.add(Dense(3, activation='softmax'))\n",
        "\n",
        "    opt = Adam(learning_rate=0.001)\n",
        "\n",
        "    model.compile(\n",
        "        loss=\"categorical_crossentropy\", \n",
        "        optimizer=opt, \n",
        "        metrics=metrics\n",
        "    )\n",
        "\n",
        "    return model"
      ],
      "metadata": {
        "id": "s2j-lxx13u6-"
      },
      "execution_count": null,
      "outputs": []
    },
    {
      "cell_type": "code",
      "source": [
        "cnn_lstm_model4 = cnn_lstm_model4()\n",
        "cnn_lstm_model4.summary()"
      ],
      "metadata": {
        "colab": {
          "base_uri": "https://localhost:8080/"
        },
        "outputId": "f792831a-df95-45a6-b0c6-dee8d4bb62b4",
        "id": "3lNFNiF83u6_"
      },
      "execution_count": null,
      "outputs": [
        {
          "output_type": "stream",
          "name": "stdout",
          "text": [
            "Model: \"sequential_4\"\n",
            "_________________________________________________________________\n",
            " Layer (type)                Output Shape              Param #   \n",
            "=================================================================\n",
            " embedding_4 (Embedding)     (None, 100, 128)          308736    \n",
            "                                                                 \n",
            " conv1d_8 (Conv1D)           (None, 100, 100)          64100     \n",
            "                                                                 \n",
            " conv1d_9 (Conv1D)           (None, 100, 64)           19264     \n",
            "                                                                 \n",
            " lstm_4 (LSTM)               (None, 100, 128)          98816     \n",
            "                                                                 \n",
            " global_max_pooling1d_4 (Glo  (None, 128)              0         \n",
            " balMaxPooling1D)                                                \n",
            "                                                                 \n",
            " dropout_4 (Dropout)         (None, 128)               0         \n",
            "                                                                 \n",
            " dense_4 (Dense)             (None, 3)                 387       \n",
            "                                                                 \n",
            "=================================================================\n",
            "Total params: 491,303\n",
            "Trainable params: 491,303\n",
            "Non-trainable params: 0\n",
            "_________________________________________________________________\n"
          ]
        }
      ]
    },
    {
      "cell_type": "code",
      "source": [
        "from keras.utils.vis_utils import plot_model\n",
        "plot_model(cnn_lstm_model4, to_file='model_plot_cnn_lstm_model4.png', show_shapes=True, show_layer_names=True)"
      ],
      "metadata": {
        "colab": {
          "base_uri": "https://localhost:8080/",
          "height": 865
        },
        "outputId": "adc26aec-12e2-4d26-c89f-a036088cc427",
        "id": "C359yiZZ3u7A"
      },
      "execution_count": null,
      "outputs": [
        {
          "output_type": "execute_result",
          "data": {
            "image/png": "[encoded data removed]",
            "text/plain": [
              "<IPython.core.display.Image object>"
            ]
          },
          "metadata": {},
          "execution_count": 82
        }
      ]
    },
    {
      "cell_type": "code",
      "source": [
        "cnn_lstm_model_history4 = cnn_lstm_model4.fit(X_train_seq, y_train, \n",
        "                    epochs=20, \n",
        "                    verbose=True, \n",
        "                    validation_data=(X_dev_seq, y_dev), \n",
        "                    batch_size=128,\n",
        "                    callbacks=[EarlyStopping(monitor=\"val_loss\", patience=2)]\n",
        "                    )"
      ],
      "metadata": {
        "colab": {
          "base_uri": "https://localhost:8080/"
        },
        "outputId": "09c1e75d-06c9-4fbd-bd39-832135340d44",
        "id": "Irh1ZpGC3u7A"
      },
      "execution_count": null,
      "outputs": [
        {
          "output_type": "stream",
          "name": "stdout",
          "text": [
            "Epoch 1/20\n",
            "38/38 [==============================] - 52s 1s/step - loss: 0.9872 - TruePositive: 1318.0000 - FalsePositive: 420.0000 - TrueNegative: 10380.0000 - FalseNegative: 4082.0000 - accuracy: 0.5252 - precision: 0.7583 - recall: 0.2441 - val_loss: 0.6865 - val_TruePositive: 416.0000 - val_FalsePositive: 112.0000 - val_TrueNegative: 1088.0000 - val_FalseNegative: 184.0000 - val_accuracy: 0.7500 - val_precision: 0.7879 - val_recall: 0.6933\n",
            "Epoch 2/20\n",
            "38/38 [==============================] - 43s 1s/step - loss: 0.4447 - TruePositive: 3924.0000 - FalsePositive: 662.0000 - TrueNegative: 8938.0000 - FalseNegative: 876.0000 - accuracy: 0.8381 - precision: 0.8556 - recall: 0.8175 - val_loss: 0.4264 - val_TruePositive: 488.0000 - val_FalsePositive: 91.0000 - val_TrueNegative: 1109.0000 - val_FalseNegative: 112.0000 - val_accuracy: 0.8300 - val_precision: 0.8428 - val_recall: 0.8133\n",
            "Epoch 3/20\n",
            "38/38 [==============================] - 40s 1s/step - loss: 0.2929 - TruePositive: 4249.0000 - FalsePositive: 470.0000 - TrueNegative: 9130.0000 - FalseNegative: 551.0000 - accuracy: 0.8915 - precision: 0.9004 - recall: 0.8852 - val_loss: 0.4230 - val_TruePositive: 502.0000 - val_FalsePositive: 86.0000 - val_TrueNegative: 1114.0000 - val_FalseNegative: 98.0000 - val_accuracy: 0.8433 - val_precision: 0.8537 - val_recall: 0.8367\n",
            "Epoch 4/20\n",
            "38/38 [==============================] - 44s 1s/step - loss: 0.2233 - TruePositive: 4419.0000 - FalsePositive: 335.0000 - TrueNegative: 9265.0000 - FalseNegative: 381.0000 - accuracy: 0.9242 - precision: 0.9295 - recall: 0.9206 - val_loss: 0.4290 - val_TruePositive: 504.0000 - val_FalsePositive: 90.0000 - val_TrueNegative: 1110.0000 - val_FalseNegative: 96.0000 - val_accuracy: 0.8450 - val_precision: 0.8485 - val_recall: 0.8400\n",
            "Epoch 5/20\n",
            "38/38 [==============================] - 42s 1s/step - loss: 0.1785 - TruePositive: 4508.0000 - FalsePositive: 259.0000 - TrueNegative: 9341.0000 - FalseNegative: 292.0000 - accuracy: 0.9429 - precision: 0.9457 - recall: 0.9392 - val_loss: 0.5248 - val_TruePositive: 491.0000 - val_FalsePositive: 100.0000 - val_TrueNegative: 1100.0000 - val_FalseNegative: 109.0000 - val_accuracy: 0.8217 - val_precision: 0.8308 - val_recall: 0.8183\n"
          ]
        }
      ]
    },
    {
      "cell_type": "code",
      "source": [
        "cnn_lstm_test_soft4 = cnn_lstm_model4.predict(X_test_seq)\n",
        "cnn_lstm_test4 = np.argmax(cnn_lstm_test_soft4, axis=1)"
      ],
      "metadata": {
        "colab": {
          "base_uri": "https://localhost:8080/"
        },
        "outputId": "c20df561-cef5-43ac-8cee-3af9a31f2fef",
        "id": "47CbmFnP3u7D"
      },
      "execution_count": null,
      "outputs": [
        {
          "output_type": "stream",
          "name": "stdout",
          "text": [
            "19/19 [==============================] - 1s 55ms/step\n"
          ]
        }
      ]
    },
    {
      "cell_type": "code",
      "source": [
        "print_metric(test_num_labels, cnn_lstm_test4)"
      ],
      "metadata": {
        "colab": {
          "base_uri": "https://localhost:8080/",
          "height": 368
        },
        "outputId": "af8ed789-8b42-428d-b008-695f0b9f53e1",
        "id": "jABlPtg43u7E"
      },
      "execution_count": null,
      "outputs": [
        {
          "output_type": "stream",
          "name": "stdout",
          "text": [
            "Test score: Macro / Micro\n",
            "\n",
            "Accuracy:    0.847\n",
            "F1:          0.846 / 0.847\n",
            "Precision:   0.849 / 0.847\n",
            "Recall:      0.848 / 0.847\n",
            "Confusion matrix: \n"
          ]
        },
        {
          "output_type": "display_data",
          "data": {
            "text/plain": [
              "<Figure size 432x216 with 2 Axes>"
            ],
            "image/png": "[encoded data removed]"
          },
          "metadata": {
            "needs_background": "light"
          }
        },
        {
          "output_type": "stream",
          "name": "stdout",
          "text": [
            "\n"
          ]
        }
      ]
    },
    {
      "cell_type": "code",
      "source": [
        "# Plot the training and validation accuracies for each epoch\n",
        "\n",
        "acc = cnn_lstm_model_history4.history['accuracy']\n",
        "val_acc = cnn_lstm_model_history4.history['val_accuracy']\n",
        "loss = cnn_lstm_model_history4.history['loss']\n",
        "val_loss = cnn_lstm_model_history4.history['val_loss']\n",
        "\n",
        "epochs = range(len(acc))\n",
        "\n",
        "plt.plot(epochs, acc, 'r', label='Training accuracy')\n",
        "plt.plot(epochs, val_acc, 'b', label='Validation accuracy')\n",
        "plt.title('Training and validation accuracy')\n",
        "plt.legend(loc=0)\n",
        "plt.figure()\n",
        "\n",
        "plt.plot(epochs, loss, 'r', label='Training loss')\n",
        "plt.plot(epochs, val_loss, 'b', label='Validation loss')\n",
        "plt.title('Training and validation loss')\n",
        "plt.legend(loc=0)\n",
        "plt.figure()\n",
        "\n",
        "plt.show()"
      ],
      "metadata": {
        "colab": {
          "base_uri": "https://localhost:8080/",
          "height": 563
        },
        "outputId": "f83121b3-c725-449a-85e4-4f9652ecb31a",
        "id": "Xq1w6LAA3u7E"
      },
      "execution_count": null,
      "outputs": [
        {
          "output_type": "display_data",
          "data": {
            "text/plain": [
              "<Figure size 432x288 with 1 Axes>"
            ],
            "image/png": "[encoded data removed]"
          },
          "metadata": {
            "needs_background": "light"
          }
        },
        {
          "output_type": "display_data",
          "data": {
            "text/plain": [
              "<Figure size 432x288 with 1 Axes>"
            ],
            "image/png": "[encoded data removed]"
          },
          "metadata": {
            "needs_background": "light"
          }
        },
        {
          "output_type": "display_data",
          "data": {
            "text/plain": [
              "<Figure size 432x288 with 0 Axes>"
            ]
          },
          "metadata": {}
        }
      ]
    },
    {
      "cell_type": "code",
      "source": [
        "cnn_lstm_model4.save('/content/drive/MyDrive/SKRIPSI/Model/cnn_lstm_model4_94-82_dropout02.h5')"
      ],
      "metadata": {
        "id": "b71P_m043u7F"
      },
      "execution_count": null,
      "outputs": []
    },
    {
      "cell_type": "markdown",
      "source": [
        "## CNN-LSTM - no dropout layer 5"
      ],
      "metadata": {
        "id": "0xt1h6zS77yW"
      }
    },
    {
      "cell_type": "code",
      "source": [
        "# TODO: Model CNN-LSTM\n",
        "\n",
        "def cnn_lstm_model5():\n",
        "    model = Sequential()\n",
        "    model.add(Embedding(vocab_size,\n",
        "                    embedding_dim,\n",
        "                    input_length=maxlen,\n",
        "                    trainable=True))\n",
        "\n",
        "    model.add(Conv1D(filters = 100, kernel_size = 5, strides = 1, padding = 'same', activation = 'relu'))\n",
        "    model.add(Conv1D(filters = 64, kernel_size = 3, strides = 1, padding = 'same', activation = 'relu'))\n",
        "    model.add(LSTM(128, dropout=0.2, recurrent_dropout=0.2, return_sequences=True,))\n",
        "    model.add(GlobalMaxPooling1D())\n",
        "    model.add(Dense(3, activation='softmax'))\n",
        "\n",
        "    opt = Adam(learning_rate=0.001)\n",
        "\n",
        "    model.compile(\n",
        "        loss=\"categorical_crossentropy\", \n",
        "        optimizer=opt, \n",
        "        metrics=metrics\n",
        "    )\n",
        "\n",
        "    return model"
      ],
      "metadata": {
        "id": "IGvChbQG77yX"
      },
      "execution_count": null,
      "outputs": []
    },
    {
      "cell_type": "code",
      "source": [
        "cnn_lstm_model5 = cnn_lstm_model5()\n",
        "cnn_lstm_model5.summary()"
      ],
      "metadata": {
        "colab": {
          "base_uri": "https://localhost:8080/"
        },
        "outputId": "8ea88ae7-aef4-4129-b47d-196cf809202d",
        "id": "Xw9gJox977yY"
      },
      "execution_count": null,
      "outputs": [
        {
          "output_type": "stream",
          "name": "stdout",
          "text": [
            "Model: \"sequential_5\"\n",
            "_________________________________________________________________\n",
            " Layer (type)                Output Shape              Param #   \n",
            "=================================================================\n",
            " embedding_5 (Embedding)     (None, 100, 128)          308736    \n",
            "                                                                 \n",
            " conv1d_10 (Conv1D)          (None, 100, 100)          64100     \n",
            "                                                                 \n",
            " conv1d_11 (Conv1D)          (None, 100, 64)           19264     \n",
            "                                                                 \n",
            " lstm_5 (LSTM)               (None, 100, 128)          98816     \n",
            "                                                                 \n",
            " global_max_pooling1d_5 (Glo  (None, 128)              0         \n",
            " balMaxPooling1D)                                                \n",
            "                                                                 \n",
            " dense_5 (Dense)             (None, 3)                 387       \n",
            "                                                                 \n",
            "=================================================================\n",
            "Total params: 491,303\n",
            "Trainable params: 491,303\n",
            "Non-trainable params: 0\n",
            "_________________________________________________________________\n"
          ]
        }
      ]
    },
    {
      "cell_type": "code",
      "source": [
        "from keras.utils.vis_utils import plot_model\n",
        "plot_model(cnn_lstm_model5, to_file='model_plot_cnn_lstm_model5.png', show_shapes=True, show_layer_names=True)"
      ],
      "metadata": {
        "colab": {
          "base_uri": "https://localhost:8080/",
          "height": 754
        },
        "outputId": "f529878b-daa9-48ff-d17d-964f7fa77dd1",
        "id": "Iet3o4r_77yY"
      },
      "execution_count": null,
      "outputs": [
        {
          "output_type": "execute_result",
          "data": {
            "image/png": "[encoded data removed]",
            "text/plain": [
              "<IPython.core.display.Image object>"
            ]
          },
          "metadata": {},
          "execution_count": 90
        }
      ]
    },
    {
      "cell_type": "code",
      "source": [
        "cnn_lstm_model_history5 = cnn_lstm_model5.fit(X_train_seq, y_train, \n",
        "                    epochs=20, \n",
        "                    verbose=True, \n",
        "                    validation_data=(X_dev_seq, y_dev), \n",
        "                    batch_size=128,\n",
        "                    callbacks=[EarlyStopping(monitor=\"val_loss\", patience=2)]\n",
        "                    )"
      ],
      "metadata": {
        "colab": {
          "base_uri": "https://localhost:8080/"
        },
        "outputId": "6e814ede-4c4c-4608-cf7b-10be96074d7f",
        "id": "PDP_3ZId77yY"
      },
      "execution_count": null,
      "outputs": [
        {
          "output_type": "stream",
          "name": "stdout",
          "text": [
            "Epoch 1/20\n",
            "38/38 [==============================] - 54s 1s/step - loss: 0.9880 - TruePositive: 1196.0000 - FalsePositive: 330.0000 - TrueNegative: 10470.0000 - FalseNegative: 4204.0000 - accuracy: 0.5306 - precision: 0.7837 - recall: 0.2215 - val_loss: 0.6853 - val_TruePositive: 401.0000 - val_FalsePositive: 145.0000 - val_TrueNegative: 1055.0000 - val_FalseNegative: 199.0000 - val_accuracy: 0.7017 - val_precision: 0.7344 - val_recall: 0.6683\n",
            "Epoch 2/20\n",
            "38/38 [==============================] - 42s 1s/step - loss: 0.4638 - TruePositive: 3828.0000 - FalsePositive: 730.0000 - TrueNegative: 8870.0000 - FalseNegative: 972.0000 - accuracy: 0.8179 - precision: 0.8398 - recall: 0.7975 - val_loss: 0.4732 - val_TruePositive: 487.0000 - val_FalsePositive: 92.0000 - val_TrueNegative: 1108.0000 - val_FalseNegative: 113.0000 - val_accuracy: 0.8250 - val_precision: 0.8411 - val_recall: 0.8117\n",
            "Epoch 3/20\n",
            "38/38 [==============================] - 44s 1s/step - loss: 0.2866 - TruePositive: 4270.0000 - FalsePositive: 447.0000 - TrueNegative: 9153.0000 - FalseNegative: 530.0000 - accuracy: 0.8990 - precision: 0.9052 - recall: 0.8896 - val_loss: 0.4419 - val_TruePositive: 502.0000 - val_FalsePositive: 84.0000 - val_TrueNegative: 1116.0000 - val_FalseNegative: 98.0000 - val_accuracy: 0.8517 - val_precision: 0.8567 - val_recall: 0.8367\n",
            "Epoch 4/20\n",
            "38/38 [==============================] - 49s 1s/step - loss: 0.2168 - TruePositive: 4433.0000 - FalsePositive: 317.0000 - TrueNegative: 9283.0000 - FalseNegative: 367.0000 - accuracy: 0.9296 - precision: 0.9333 - recall: 0.9235 - val_loss: 0.4732 - val_TruePositive: 491.0000 - val_FalsePositive: 101.0000 - val_TrueNegative: 1099.0000 - val_FalseNegative: 109.0000 - val_accuracy: 0.8250 - val_precision: 0.8294 - val_recall: 0.8183\n",
            "Epoch 5/20\n",
            "38/38 [==============================] - 40s 1s/step - loss: 0.1720 - TruePositive: 4520.0000 - FalsePositive: 251.0000 - TrueNegative: 9349.0000 - FalseNegative: 280.0000 - accuracy: 0.9452 - precision: 0.9474 - recall: 0.9417 - val_loss: 0.5062 - val_TruePositive: 494.0000 - val_FalsePositive: 98.0000 - val_TrueNegative: 1102.0000 - val_FalseNegative: 106.0000 - val_accuracy: 0.8250 - val_precision: 0.8345 - val_recall: 0.8233\n"
          ]
        }
      ]
    },
    {
      "cell_type": "code",
      "source": [
        "cnn_lstm_test_soft5 = cnn_lstm_model5.predict(X_test_seq)\n",
        "cnn_lstm_test5 = np.argmax(cnn_lstm_test_soft5, axis=1)"
      ],
      "metadata": {
        "colab": {
          "base_uri": "https://localhost:8080/"
        },
        "outputId": "1b991d88-563b-4613-81cf-b6f15951f154",
        "id": "c6pP5ddZ77yZ"
      },
      "execution_count": null,
      "outputs": [
        {
          "output_type": "stream",
          "name": "stdout",
          "text": [
            "19/19 [==============================] - 1s 54ms/step\n"
          ]
        }
      ]
    },
    {
      "cell_type": "code",
      "source": [
        "print_metric(test_num_labels, cnn_lstm_test5)"
      ],
      "metadata": {
        "colab": {
          "base_uri": "https://localhost:8080/",
          "height": 368
        },
        "outputId": "cfafab75-a761-4fda-e9cf-2a036f0ad8a9",
        "id": "iD9HJIg677yZ"
      },
      "execution_count": null,
      "outputs": [
        {
          "output_type": "stream",
          "name": "stdout",
          "text": [
            "Test score: Macro / Micro\n",
            "\n",
            "Accuracy:    0.835\n",
            "F1:          0.834 / 0.835\n",
            "Precision:   0.835 / 0.835\n",
            "Recall:      0.835 / 0.835\n",
            "Confusion matrix: \n"
          ]
        },
        {
          "output_type": "display_data",
          "data": {
            "text/plain": [
              "<Figure size 432x216 with 2 Axes>"
            ],
            "image/png": "[encoded data removed]"
          },
          "metadata": {
            "needs_background": "light"
          }
        },
        {
          "output_type": "stream",
          "name": "stdout",
          "text": [
            "\n"
          ]
        }
      ]
    },
    {
      "cell_type": "code",
      "source": [
        "# Plot the training and validation accuracies for each epoch\n",
        "\n",
        "acc = cnn_lstm_model_history5.history['accuracy']\n",
        "val_acc = cnn_lstm_model_history5.history['val_accuracy']\n",
        "loss = cnn_lstm_model_history5.history['loss']\n",
        "val_loss = cnn_lstm_model_history5.history['val_loss']\n",
        "\n",
        "epochs = range(len(acc))\n",
        "\n",
        "plt.plot(epochs, acc, 'r', label='Training accuracy')\n",
        "plt.plot(epochs, val_acc, 'b', label='Validation accuracy')\n",
        "plt.title('Training and validation accuracy')\n",
        "plt.legend(loc=0)\n",
        "plt.figure()\n",
        "\n",
        "plt.plot(epochs, loss, 'r', label='Training loss')\n",
        "plt.plot(epochs, val_loss, 'b', label='Validation loss')\n",
        "plt.title('Training and validation loss')\n",
        "plt.legend(loc=0)\n",
        "plt.figure()\n",
        "\n",
        "plt.show()"
      ],
      "metadata": {
        "colab": {
          "base_uri": "https://localhost:8080/",
          "height": 563
        },
        "outputId": "82dd9c72-fa4a-4786-b08b-69b56272fe8b",
        "id": "1l3YfUV177yZ"
      },
      "execution_count": null,
      "outputs": [
        {
          "output_type": "display_data",
          "data": {
            "text/plain": [
              "<Figure size 432x288 with 1 Axes>"
            ],
            "image/png": "[encoded data removed]"
          },
          "metadata": {
            "needs_background": "light"
          }
        },
        {
          "output_type": "display_data",
          "data": {
            "text/plain": [
              "<Figure size 432x288 with 1 Axes>"
            ],
            "image/png": "[encoded data removed]"
          },
          "metadata": {
            "needs_background": "light"
          }
        },
        {
          "output_type": "display_data",
          "data": {
            "text/plain": [
              "<Figure size 432x288 with 0 Axes>"
            ]
          },
          "metadata": {}
        }
      ]
    },
    {
      "cell_type": "code",
      "source": [
        "cnn_lstm_model5.save('/content/drive/MyDrive/SKRIPSI/Model/cnn_lstm_model5_94-82_nodropout.h5')"
      ],
      "metadata": {
        "id": "6yKmJfz377ya"
      },
      "execution_count": null,
      "outputs": []
    },
    {
      "cell_type": "markdown",
      "source": [
        "# Prediction"
      ],
      "metadata": {
        "id": "B4VLAIPLfWIu"
      }
    },
    {
      "cell_type": "code",
      "source": [
        "dataset_predict = \"/content/drive/MyDrive/SKRIPSI/DATA BERSIH PALING FIX/data_shopee_baru2.csv\""
      ],
      "metadata": {
        "id": "Iew7lRhTfbZk"
      },
      "execution_count": null,
      "outputs": []
    },
    {
      "cell_type": "code",
      "source": [
        "predict = pd.read_csv(dataset_predict)\n",
        "\n",
        "predict"
      ],
      "metadata": {
        "colab": {
          "base_uri": "https://localhost:8080/",
          "height": 814
        },
        "id": "-gzvgM-nKMjy",
        "outputId": "c46196f9-4613-4265-eb2e-526a23d7a7bb"
      },
      "execution_count": null,
      "outputs": [
        {
          "output_type": "execute_result",
          "data": {
            "text/plain": [
              "                         time  \\\n",
              "0   2020-12-01 10:25:03+00:00   \n",
              "1   2021-02-28 04:55:18+00:00   \n",
              "2   2022-05-27 13:02:10+00:00   \n",
              "3   2022-04-27 21:19:38+00:00   \n",
              "4   2021-04-09 21:54:06+00:00   \n",
              "..                        ...   \n",
              "82  2021-05-23 03:05:50+00:00   \n",
              "83  2022-04-23 13:52:59+00:00   \n",
              "84  2021-02-02 05:42:20+00:00   \n",
              "85  2021-02-17 01:30:40+00:00   \n",
              "86  2021-06-30 07:57:18+00:00   \n",
              "\n",
              "                                                tweet  \\\n",
              "0   @ShopeeID Min, udah nunggu 8 hari barang pesan...   \n",
              "1   wtb album only resonance pt 2 departure vers y...   \n",
              "2   @sbtcon Kalo pickup di aku sicepat sama jnt ta...   \n",
              "3   @areinug Asli, pernah di tanyain juga ke csnya...   \n",
              "4   @txtdarionlshop Padahal bagus tuh, j&amp;t exp...   \n",
              "..                                                ...   \n",
              "82  Tolong @ShopeeID shopee express id dibenahi la...   \n",
              "83  @noodelzip iyaa emang aku selalu dpt kurir yan...   \n",
              "84  @piockyjr iyaa emang, shopee express/id expres...   \n",
              "85  @yhaankyu_ Iya, dm ajasih kalo gue biasanya di...   \n",
              "86  @yoonca3993 Iya sihh... Aku soalnya masuk perk...   \n",
              "\n",
              "                                          tweet_lower  \\\n",
              "0   @shopeeid min, udah nunggu 8 hari barang pesan...   \n",
              "1   wtb album only resonance pt 2 departure vers y...   \n",
              "2   @sbtcon kalo pickup di aku sicepat sama jnt ta...   \n",
              "3   @areinug asli, pernah di tanyain juga ke csnya...   \n",
              "4   @txtdarionlshop padahal bagus tuh, j&amp;t exp...   \n",
              "..                                                ...   \n",
              "82  tolong @shopeeid shopee express id dibenahi la...   \n",
              "83  @noodelzip iyaa emang aku selalu dpt kurir yan...   \n",
              "84  @piockyjr iyaa emang, shopee express/id expres...   \n",
              "85  @yhaankyu_ iya, dm ajasih kalo gue biasanya di...   \n",
              "86  @yoonca3993 iya sihh... aku soalnya masuk perk...   \n",
              "\n",
              "                                     remove_character  \\\n",
              "0    administrator sudah menunggu hari barang pesa...   \n",
              "1   wtb album only resonance pt departure vers yan...   \n",
              "2    kalau ambil di saya sicepat sama jnt tetapi k...   \n",
              "3    asli pernah di tanyakan juga ke csnya antar s...   \n",
              "4    padahal bagus itu juta express id express sho...   \n",
              "..                                                ...   \n",
              "82  tolong shopee express id dibenahi lagi  ini ha...   \n",
              "83   ya memang saya selalu dapat kurir yang sama k...   \n",
              "84   ya memang shopee express id express begitu it...   \n",
              "85   ya pesan langsung ajasih kalau saya biasanya ...   \n",
              "86   ya sih    saya soalnya masuk perkotaan sekali...   \n",
              "\n",
              "                                        kbbi_sentence  \\\n",
              "0   administrator sudah menunggu hari barang pesan...   \n",
              "1   album pt yang bisa yang bisa pengiriman shopee...   \n",
              "2   kalau ambil di saya sicepat sama jnt tetapi ka...   \n",
              "3   asli pernah di juga ke antar saja shopee expre...   \n",
              "4   padahal bagus itu juta express id express shop...   \n",
              "..                                                ...   \n",
              "82  tolong shopee express id lagi ini hari berputa...   \n",
              "83  ya memang saya selalu dapat kurir yang sama ka...   \n",
              "84  ya memang shopee express id express begitu itu...   \n",
              "85  ya pesan langsung kalau saya biasanya di jnt s...   \n",
              "86  ya sih saya soalnya masuk perkotaan sekali jnt...   \n",
              "\n",
              "                                          cleanTweets  \\\n",
              "0   ['administrator', 'sudah', 'tunggu', 'hari', '...   \n",
              "1   ['album', 'pt', 'bisa', 'bisa', 'kirim', 'shop...   \n",
              "2   ['ambil', 'sicepat', 'jnt', 'antar', 'barang',...   \n",
              "3   ['asli', 'antar', 'saja', 'shopee', 'express',...   \n",
              "4   ['bagus', 'juta', 'express', 'id', 'express', ...   \n",
              "..                                                ...   \n",
              "82  ['tolong', 'shopee', 'express', 'id', 'lagi', ...   \n",
              "83  ['ya', 'memang', 'kurir', 'shopee', 'express',...   \n",
              "84  ['ya', 'memang', 'shopee', 'express', 'id', 'e...   \n",
              "85  ['ya', 'pesan', 'langsung', 'jnt', 'shopee', '...   \n",
              "86  ['ya', 'sih', 'masuk', 'kota', 'sekali', 'jnt'...   \n",
              "\n",
              "                                          CleanTweets  \n",
              "0   administrator sudah tunggu hari barang pesan s...  \n",
              "1   album pt bisa bisa kirim shopee express id exp...  \n",
              "2   ambil sicepat jnt antar barang shopee express ...  \n",
              "3   asli antar saja shopee express id express tema...  \n",
              "4   bagus juta express id express shopee express t...  \n",
              "..                                                ...  \n",
              "82  tolong shopee express id lagi hari putar jakar...  \n",
              "83  ya memang kurir shopee express id express ante...  \n",
              "84  ya memang shopee express id express begitu bel...  \n",
              "85    ya pesan langsung jnt shopee express id express  \n",
              "86  ya sih masuk kota sekali jnt jne shopee expres...  \n",
              "\n",
              "[87 rows x 7 columns]"
            ],
            "text/html": [
              "\n",
              "  <div id=\"df-25037aca-a974-4f09-b492-024743e40182\">\n",
              "    <div class=\"colab-df-container\">\n",
              "      <div>\n",
              "<style scoped>\n",
              "    .dataframe tbody tr th:only-of-type {\n",
              "        vertical-align: middle;\n",
              "    }\n",
              "\n",
              "    .dataframe tbody tr th {\n",
              "        vertical-align: top;\n",
              "    }\n",
              "\n",
              "    .dataframe thead th {\n",
              "        text-align: right;\n",
              "    }\n",
              "</style>\n",
              "<table border=\"1\" class=\"dataframe\">\n",
              "  <thead>\n",
              "    <tr style=\"text-align: right;\">\n",
              "      <th></th>\n",
              "      <th>time</th>\n",
              "      <th>tweet</th>\n",
              "      <th>tweet_lower</th>\n",
              "      <th>remove_character</th>\n",
              "      <th>kbbi_sentence</th>\n",
              "      <th>cleanTweets</th>\n",
              "      <th>CleanTweets</th>\n",
              "    </tr>\n",
              "  </thead>\n",
              "  <tbody>\n",
              "    <tr>\n",
              "      <th>0</th>\n",
              "      <td>2020-12-01 10:25:03+00:00</td>\n",
              "      <td>@ShopeeID Min, udah nunggu 8 hari barang pesan...</td>\n",
              "      <td>@shopeeid min, udah nunggu 8 hari barang pesan...</td>\n",
              "      <td>administrator sudah menunggu hari barang pesa...</td>\n",
              "      <td>administrator sudah menunggu hari barang pesan...</td>\n",
              "      <td>['administrator', 'sudah', 'tunggu', 'hari', '...</td>\n",
              "      <td>administrator sudah tunggu hari barang pesan s...</td>\n",
              "    </tr>\n",
              "    <tr>\n",
              "      <th>1</th>\n",
              "      <td>2021-02-28 04:55:18+00:00</td>\n",
              "      <td>wtb album only resonance pt 2 departure vers y...</td>\n",
              "      <td>wtb album only resonance pt 2 departure vers y...</td>\n",
              "      <td>wtb album only resonance pt departure vers yan...</td>\n",
              "      <td>album pt yang bisa yang bisa pengiriman shopee...</td>\n",
              "      <td>['album', 'pt', 'bisa', 'bisa', 'kirim', 'shop...</td>\n",
              "      <td>album pt bisa bisa kirim shopee express id exp...</td>\n",
              "    </tr>\n",
              "    <tr>\n",
              "      <th>2</th>\n",
              "      <td>2022-05-27 13:02:10+00:00</td>\n",
              "      <td>@sbtcon Kalo pickup di aku sicepat sama jnt ta...</td>\n",
              "      <td>@sbtcon kalo pickup di aku sicepat sama jnt ta...</td>\n",
              "      <td>kalau ambil di saya sicepat sama jnt tetapi k...</td>\n",
              "      <td>kalau ambil di saya sicepat sama jnt tetapi ka...</td>\n",
              "      <td>['ambil', 'sicepat', 'jnt', 'antar', 'barang',...</td>\n",
              "      <td>ambil sicepat jnt antar barang shopee express ...</td>\n",
              "    </tr>\n",
              "    <tr>\n",
              "      <th>3</th>\n",
              "      <td>2022-04-27 21:19:38+00:00</td>\n",
              "      <td>@areinug Asli, pernah di tanyain juga ke csnya...</td>\n",
              "      <td>@areinug asli, pernah di tanyain juga ke csnya...</td>\n",
              "      <td>asli pernah di tanyakan juga ke csnya antar s...</td>\n",
              "      <td>asli pernah di juga ke antar saja shopee expre...</td>\n",
              "      <td>['asli', 'antar', 'saja', 'shopee', 'express',...</td>\n",
              "      <td>asli antar saja shopee express id express tema...</td>\n",
              "    </tr>\n",
              "    <tr>\n",
              "      <th>4</th>\n",
              "      <td>2021-04-09 21:54:06+00:00</td>\n",
              "      <td>@txtdarionlshop Padahal bagus tuh, j&amp;amp;t exp...</td>\n",
              "      <td>@txtdarionlshop padahal bagus tuh, j&amp;amp;t exp...</td>\n",
              "      <td>padahal bagus itu juta express id express sho...</td>\n",
              "      <td>padahal bagus itu juta express id express shop...</td>\n",
              "      <td>['bagus', 'juta', 'express', 'id', 'express', ...</td>\n",
              "      <td>bagus juta express id express shopee express t...</td>\n",
              "    </tr>\n",
              "    <tr>\n",
              "      <th>...</th>\n",
              "      <td>...</td>\n",
              "      <td>...</td>\n",
              "      <td>...</td>\n",
              "      <td>...</td>\n",
              "      <td>...</td>\n",
              "      <td>...</td>\n",
              "      <td>...</td>\n",
              "    </tr>\n",
              "    <tr>\n",
              "      <th>82</th>\n",
              "      <td>2021-05-23 03:05:50+00:00</td>\n",
              "      <td>Tolong @ShopeeID shopee express id dibenahi la...</td>\n",
              "      <td>tolong @shopeeid shopee express id dibenahi la...</td>\n",
              "      <td>tolong shopee express id dibenahi lagi  ini ha...</td>\n",
              "      <td>tolong shopee express id lagi ini hari berputa...</td>\n",
              "      <td>['tolong', 'shopee', 'express', 'id', 'lagi', ...</td>\n",
              "      <td>tolong shopee express id lagi hari putar jakar...</td>\n",
              "    </tr>\n",
              "    <tr>\n",
              "      <th>83</th>\n",
              "      <td>2022-04-23 13:52:59+00:00</td>\n",
              "      <td>@noodelzip iyaa emang aku selalu dpt kurir yan...</td>\n",
              "      <td>@noodelzip iyaa emang aku selalu dpt kurir yan...</td>\n",
              "      <td>ya memang saya selalu dapat kurir yang sama k...</td>\n",
              "      <td>ya memang saya selalu dapat kurir yang sama ka...</td>\n",
              "      <td>['ya', 'memang', 'kurir', 'shopee', 'express',...</td>\n",
              "      <td>ya memang kurir shopee express id express ante...</td>\n",
              "    </tr>\n",
              "    <tr>\n",
              "      <th>84</th>\n",
              "      <td>2021-02-02 05:42:20+00:00</td>\n",
              "      <td>@piockyjr iyaa emang, shopee express/id expres...</td>\n",
              "      <td>@piockyjr iyaa emang, shopee express/id expres...</td>\n",
              "      <td>ya memang shopee express id express begitu it...</td>\n",
              "      <td>ya memang shopee express id express begitu itu...</td>\n",
              "      <td>['ya', 'memang', 'shopee', 'express', 'id', 'e...</td>\n",
              "      <td>ya memang shopee express id express begitu bel...</td>\n",
              "    </tr>\n",
              "    <tr>\n",
              "      <th>85</th>\n",
              "      <td>2021-02-17 01:30:40+00:00</td>\n",
              "      <td>@yhaankyu_ Iya, dm ajasih kalo gue biasanya di...</td>\n",
              "      <td>@yhaankyu_ iya, dm ajasih kalo gue biasanya di...</td>\n",
              "      <td>ya pesan langsung ajasih kalau saya biasanya ...</td>\n",
              "      <td>ya pesan langsung kalau saya biasanya di jnt s...</td>\n",
              "      <td>['ya', 'pesan', 'langsung', 'jnt', 'shopee', '...</td>\n",
              "      <td>ya pesan langsung jnt shopee express id express</td>\n",
              "    </tr>\n",
              "    <tr>\n",
              "      <th>86</th>\n",
              "      <td>2021-06-30 07:57:18+00:00</td>\n",
              "      <td>@yoonca3993 Iya sihh... Aku soalnya masuk perk...</td>\n",
              "      <td>@yoonca3993 iya sihh... aku soalnya masuk perk...</td>\n",
              "      <td>ya sih    saya soalnya masuk perkotaan sekali...</td>\n",
              "      <td>ya sih saya soalnya masuk perkotaan sekali jnt...</td>\n",
              "      <td>['ya', 'sih', 'masuk', 'kota', 'sekali', 'jnt'...</td>\n",
              "      <td>ya sih masuk kota sekali jnt jne shopee expres...</td>\n",
              "    </tr>\n",
              "  </tbody>\n",
              "</table>\n",
              "<p>87 rows × 7 columns</p>\n",
              "</div>\n",
              "      <button class=\"colab-df-convert\" onclick=\"convertToInteractive('df-25037aca-a974-4f09-b492-024743e40182')\"\n",
              "              title=\"Convert this dataframe to an interactive table.\"\n",
              "              style=\"display:none;\">\n",
              "        \n",
              "  <svg xmlns=\"http://www.w3.org/2000/svg\" height=\"24px\"viewBox=\"0 0 24 24\"\n",
              "       width=\"24px\">\n",
              "    <path d=\"M0 0h24v24H0V0z\" fill=\"none\"/>\n",
              "    <path d=\"M18.56 5.44l.94 2.06.94-2.06 2.06-.94-2.06-.94-.94-2.06-.94 2.06-2.06.94zm-11 1L8.5 8.5l.94-2.06 2.06-.94-2.06-.94L8.5 2.5l-.94 2.06-2.06.94zm10 10l.94 2.06.94-2.06 2.06-.94-2.06-.94-.94-2.06-.94 2.06-2.06.94z\"/><path d=\"M17.41 7.96l-1.37-1.37c-.4-.4-.92-.59-1.43-.59-.52 0-1.04.2-1.43.59L10.3 9.45l-7.72 7.72c-.78.78-.78 2.05 0 2.83L4 21.41c.39.39.9.59 1.41.59.51 0 1.02-.2 1.41-.59l7.78-7.78 2.81-2.81c.8-.78.8-2.07 0-2.86zM5.41 20L4 18.59l7.72-7.72 1.47 1.35L5.41 20z\"/>\n",
              "  </svg>\n",
              "      </button>\n",
              "      \n",
              "  <style>\n",
              "    .colab-df-container {\n",
              "      display:flex;\n",
              "      flex-wrap:wrap;\n",
              "      gap: 12px;\n",
              "    }\n",
              "\n",
              "    .colab-df-convert {\n",
              "      background-color: #E8F0FE;\n",
              "      border: none;\n",
              "      border-radius: 50%;\n",
              "      cursor: pointer;\n",
              "      display: none;\n",
              "      fill: #1967D2;\n",
              "      height: 32px;\n",
              "      padding: 0 0 0 0;\n",
              "      width: 32px;\n",
              "    }\n",
              "\n",
              "    .colab-df-convert:hover {\n",
              "      background-color: #E2EBFA;\n",
              "      box-shadow: 0px 1px 2px rgba(60, 64, 67, 0.3), 0px 1px 3px 1px rgba(60, 64, 67, 0.15);\n",
              "      fill: #174EA6;\n",
              "    }\n",
              "\n",
              "    [theme=dark] .colab-df-convert {\n",
              "      background-color: #3B4455;\n",
              "      fill: #D2E3FC;\n",
              "    }\n",
              "\n",
              "    [theme=dark] .colab-df-convert:hover {\n",
              "      background-color: #434B5C;\n",
              "      box-shadow: 0px 1px 3px 1px rgba(0, 0, 0, 0.15);\n",
              "      filter: drop-shadow(0px 1px 2px rgba(0, 0, 0, 0.3));\n",
              "      fill: #FFFFFF;\n",
              "    }\n",
              "  </style>\n",
              "\n",
              "      <script>\n",
              "        const buttonEl =\n",
              "          document.querySelector('#df-25037aca-a974-4f09-b492-024743e40182 button.colab-df-convert');\n",
              "        buttonEl.style.display =\n",
              "          google.colab.kernel.accessAllowed ? 'block' : 'none';\n",
              "\n",
              "        async function convertToInteractive(key) {\n",
              "          const element = document.querySelector('#df-25037aca-a974-4f09-b492-024743e40182');\n",
              "          const dataTable =\n",
              "            await google.colab.kernel.invokeFunction('convertToInteractive',\n",
              "                                                     [key], {});\n",
              "          if (!dataTable) return;\n",
              "\n",
              "          const docLinkHtml = 'Like what you see? Visit the ' +\n",
              "            '<a target=\"_blank\" href=https://colab.research.google.com/notebooks/data_table.ipynb>data table notebook</a>'\n",
              "            + ' to learn more about interactive tables.';\n",
              "          element.innerHTML = '';\n",
              "          dataTable['output_type'] = 'display_data';\n",
              "          await google.colab.output.renderOutput(dataTable, element);\n",
              "          const docLink = document.createElement('div');\n",
              "          docLink.innerHTML = docLinkHtml;\n",
              "          element.appendChild(docLink);\n",
              "        }\n",
              "      </script>\n",
              "    </div>\n",
              "  </div>\n",
              "  "
            ]
          },
          "metadata": {},
          "execution_count": 28
        }
      ]
    },
    {
      "cell_type": "code",
      "source": [
        "#membuat dataframe sementara untuk memilih fitur yang akan digunakan\n",
        "\n",
        "df_predict = pd.DataFrame()\n",
        "\n",
        "#append tweet dan waktu dari dataframe lama ke dataframe baru\n",
        "df_predict['time'] = predict['time']\n",
        "df_predict['clean_tweets'] = predict['CleanTweets']\n",
        "\n",
        "df_predict"
      ],
      "metadata": {
        "colab": {
          "base_uri": "https://localhost:8080/",
          "height": 423
        },
        "id": "KPYNY7-Rd6Cz",
        "outputId": "8258aa68-4dc6-4811-8b8e-b726a9507d31"
      },
      "execution_count": null,
      "outputs": [
        {
          "output_type": "execute_result",
          "data": {
            "text/plain": [
              "                         time  \\\n",
              "0   2020-12-01 10:25:03+00:00   \n",
              "1   2021-02-28 04:55:18+00:00   \n",
              "2   2022-05-27 13:02:10+00:00   \n",
              "3   2022-04-27 21:19:38+00:00   \n",
              "4   2021-04-09 21:54:06+00:00   \n",
              "..                        ...   \n",
              "82  2021-05-23 03:05:50+00:00   \n",
              "83  2022-04-23 13:52:59+00:00   \n",
              "84  2021-02-02 05:42:20+00:00   \n",
              "85  2021-02-17 01:30:40+00:00   \n",
              "86  2021-06-30 07:57:18+00:00   \n",
              "\n",
              "                                         clean_tweets  \n",
              "0   administrator sudah tunggu hari barang pesan s...  \n",
              "1   album pt bisa bisa kirim shopee express id exp...  \n",
              "2   ambil sicepat jnt antar barang shopee express ...  \n",
              "3   asli antar saja shopee express id express tema...  \n",
              "4   bagus juta express id express shopee express t...  \n",
              "..                                                ...  \n",
              "82  tolong shopee express id lagi hari putar jakar...  \n",
              "83  ya memang kurir shopee express id express ante...  \n",
              "84  ya memang shopee express id express begitu bel...  \n",
              "85    ya pesan langsung jnt shopee express id express  \n",
              "86  ya sih masuk kota sekali jnt jne shopee expres...  \n",
              "\n",
              "[87 rows x 2 columns]"
            ],
            "text/html": [
              "\n",
              "  <div id=\"df-ef29e927-f4d0-49be-b3db-55c966d75870\">\n",
              "    <div class=\"colab-df-container\">\n",
              "      <div>\n",
              "<style scoped>\n",
              "    .dataframe tbody tr th:only-of-type {\n",
              "        vertical-align: middle;\n",
              "    }\n",
              "\n",
              "    .dataframe tbody tr th {\n",
              "        vertical-align: top;\n",
              "    }\n",
              "\n",
              "    .dataframe thead th {\n",
              "        text-align: right;\n",
              "    }\n",
              "</style>\n",
              "<table border=\"1\" class=\"dataframe\">\n",
              "  <thead>\n",
              "    <tr style=\"text-align: right;\">\n",
              "      <th></th>\n",
              "      <th>time</th>\n",
              "      <th>clean_tweets</th>\n",
              "    </tr>\n",
              "  </thead>\n",
              "  <tbody>\n",
              "    <tr>\n",
              "      <th>0</th>\n",
              "      <td>2020-12-01 10:25:03+00:00</td>\n",
              "      <td>administrator sudah tunggu hari barang pesan s...</td>\n",
              "    </tr>\n",
              "    <tr>\n",
              "      <th>1</th>\n",
              "      <td>2021-02-28 04:55:18+00:00</td>\n",
              "      <td>album pt bisa bisa kirim shopee express id exp...</td>\n",
              "    </tr>\n",
              "    <tr>\n",
              "      <th>2</th>\n",
              "      <td>2022-05-27 13:02:10+00:00</td>\n",
              "      <td>ambil sicepat jnt antar barang shopee express ...</td>\n",
              "    </tr>\n",
              "    <tr>\n",
              "      <th>3</th>\n",
              "      <td>2022-04-27 21:19:38+00:00</td>\n",
              "      <td>asli antar saja shopee express id express tema...</td>\n",
              "    </tr>\n",
              "    <tr>\n",
              "      <th>4</th>\n",
              "      <td>2021-04-09 21:54:06+00:00</td>\n",
              "      <td>bagus juta express id express shopee express t...</td>\n",
              "    </tr>\n",
              "    <tr>\n",
              "      <th>...</th>\n",
              "      <td>...</td>\n",
              "      <td>...</td>\n",
              "    </tr>\n",
              "    <tr>\n",
              "      <th>82</th>\n",
              "      <td>2021-05-23 03:05:50+00:00</td>\n",
              "      <td>tolong shopee express id lagi hari putar jakar...</td>\n",
              "    </tr>\n",
              "    <tr>\n",
              "      <th>83</th>\n",
              "      <td>2022-04-23 13:52:59+00:00</td>\n",
              "      <td>ya memang kurir shopee express id express ante...</td>\n",
              "    </tr>\n",
              "    <tr>\n",
              "      <th>84</th>\n",
              "      <td>2021-02-02 05:42:20+00:00</td>\n",
              "      <td>ya memang shopee express id express begitu bel...</td>\n",
              "    </tr>\n",
              "    <tr>\n",
              "      <th>85</th>\n",
              "      <td>2021-02-17 01:30:40+00:00</td>\n",
              "      <td>ya pesan langsung jnt shopee express id express</td>\n",
              "    </tr>\n",
              "    <tr>\n",
              "      <th>86</th>\n",
              "      <td>2021-06-30 07:57:18+00:00</td>\n",
              "      <td>ya sih masuk kota sekali jnt jne shopee expres...</td>\n",
              "    </tr>\n",
              "  </tbody>\n",
              "</table>\n",
              "<p>87 rows × 2 columns</p>\n",
              "</div>\n",
              "      <button class=\"colab-df-convert\" onclick=\"convertToInteractive('df-ef29e927-f4d0-49be-b3db-55c966d75870')\"\n",
              "              title=\"Convert this dataframe to an interactive table.\"\n",
              "              style=\"display:none;\">\n",
              "        \n",
              "  <svg xmlns=\"http://www.w3.org/2000/svg\" height=\"24px\"viewBox=\"0 0 24 24\"\n",
              "       width=\"24px\">\n",
              "    <path d=\"M0 0h24v24H0V0z\" fill=\"none\"/>\n",
              "    <path d=\"M18.56 5.44l.94 2.06.94-2.06 2.06-.94-2.06-.94-.94-2.06-.94 2.06-2.06.94zm-11 1L8.5 8.5l.94-2.06 2.06-.94-2.06-.94L8.5 2.5l-.94 2.06-2.06.94zm10 10l.94 2.06.94-2.06 2.06-.94-2.06-.94-.94-2.06-.94 2.06-2.06.94z\"/><path d=\"M17.41 7.96l-1.37-1.37c-.4-.4-.92-.59-1.43-.59-.52 0-1.04.2-1.43.59L10.3 9.45l-7.72 7.72c-.78.78-.78 2.05 0 2.83L4 21.41c.39.39.9.59 1.41.59.51 0 1.02-.2 1.41-.59l7.78-7.78 2.81-2.81c.8-.78.8-2.07 0-2.86zM5.41 20L4 18.59l7.72-7.72 1.47 1.35L5.41 20z\"/>\n",
              "  </svg>\n",
              "      </button>\n",
              "      \n",
              "  <style>\n",
              "    .colab-df-container {\n",
              "      display:flex;\n",
              "      flex-wrap:wrap;\n",
              "      gap: 12px;\n",
              "    }\n",
              "\n",
              "    .colab-df-convert {\n",
              "      background-color: #E8F0FE;\n",
              "      border: none;\n",
              "      border-radius: 50%;\n",
              "      cursor: pointer;\n",
              "      display: none;\n",
              "      fill: #1967D2;\n",
              "      height: 32px;\n",
              "      padding: 0 0 0 0;\n",
              "      width: 32px;\n",
              "    }\n",
              "\n",
              "    .colab-df-convert:hover {\n",
              "      background-color: #E2EBFA;\n",
              "      box-shadow: 0px 1px 2px rgba(60, 64, 67, 0.3), 0px 1px 3px 1px rgba(60, 64, 67, 0.15);\n",
              "      fill: #174EA6;\n",
              "    }\n",
              "\n",
              "    [theme=dark] .colab-df-convert {\n",
              "      background-color: #3B4455;\n",
              "      fill: #D2E3FC;\n",
              "    }\n",
              "\n",
              "    [theme=dark] .colab-df-convert:hover {\n",
              "      background-color: #434B5C;\n",
              "      box-shadow: 0px 1px 3px 1px rgba(0, 0, 0, 0.15);\n",
              "      filter: drop-shadow(0px 1px 2px rgba(0, 0, 0, 0.3));\n",
              "      fill: #FFFFFF;\n",
              "    }\n",
              "  </style>\n",
              "\n",
              "      <script>\n",
              "        const buttonEl =\n",
              "          document.querySelector('#df-ef29e927-f4d0-49be-b3db-55c966d75870 button.colab-df-convert');\n",
              "        buttonEl.style.display =\n",
              "          google.colab.kernel.accessAllowed ? 'block' : 'none';\n",
              "\n",
              "        async function convertToInteractive(key) {\n",
              "          const element = document.querySelector('#df-ef29e927-f4d0-49be-b3db-55c966d75870');\n",
              "          const dataTable =\n",
              "            await google.colab.kernel.invokeFunction('convertToInteractive',\n",
              "                                                     [key], {});\n",
              "          if (!dataTable) return;\n",
              "\n",
              "          const docLinkHtml = 'Like what you see? Visit the ' +\n",
              "            '<a target=\"_blank\" href=https://colab.research.google.com/notebooks/data_table.ipynb>data table notebook</a>'\n",
              "            + ' to learn more about interactive tables.';\n",
              "          element.innerHTML = '';\n",
              "          dataTable['output_type'] = 'display_data';\n",
              "          await google.colab.output.renderOutput(dataTable, element);\n",
              "          const docLink = document.createElement('div');\n",
              "          docLink.innerHTML = docLinkHtml;\n",
              "          element.appendChild(docLink);\n",
              "        }\n",
              "      </script>\n",
              "    </div>\n",
              "  </div>\n",
              "  "
            ]
          },
          "metadata": {},
          "execution_count": 29
        }
      ]
    },
    {
      "cell_type": "code",
      "source": [
        "df_predict.isna().sum()"
      ],
      "metadata": {
        "colab": {
          "base_uri": "https://localhost:8080/"
        },
        "id": "th5ftlKN3Yqu",
        "outputId": "9d9134fe-1db8-46ca-fdc5-cb95609c9e87"
      },
      "execution_count": null,
      "outputs": [
        {
          "output_type": "execute_result",
          "data": {
            "text/plain": [
              "time            0\n",
              "clean_tweets    0\n",
              "dtype: int64"
            ]
          },
          "metadata": {},
          "execution_count": 30
        }
      ]
    },
    {
      "cell_type": "code",
      "source": [
        "df_predict.dtypes"
      ],
      "metadata": {
        "colab": {
          "base_uri": "https://localhost:8080/"
        },
        "id": "MJbjR1_PqH4M",
        "outputId": "bd0913ce-f81b-4842-8fba-6507753d6d29"
      },
      "execution_count": null,
      "outputs": [
        {
          "output_type": "execute_result",
          "data": {
            "text/plain": [
              "time            object\n",
              "clean_tweets    object\n",
              "dtype: object"
            ]
          },
          "metadata": {},
          "execution_count": 31
        }
      ]
    },
    {
      "cell_type": "code",
      "source": [
        "X = df_predict['clean_tweets'].to_numpy()\n",
        "\n",
        "print(X[0])"
      ],
      "metadata": {
        "colab": {
          "base_uri": "https://localhost:8080/"
        },
        "id": "XG7eijf7y8Ix",
        "outputId": "9a6fb882-40a8-43b6-a314-51194848b341"
      },
      "execution_count": null,
      "outputs": [
        {
          "output_type": "stream",
          "name": "stdout",
          "text": [
            "administrator sudah tunggu hari barang pesan shopee pas pesan mobil eh telepon shopee express id jakarta buat konfirmasi barang besok notifikasi barang hilang kembali uang sih administrator tidak iphone\n"
          ]
        }
      ]
    },
    {
      "cell_type": "code",
      "source": [
        "maxlen = 100 # panjang sequence"
      ],
      "metadata": {
        "id": "FAqsjMbFzQz0"
      },
      "execution_count": null,
      "outputs": []
    },
    {
      "cell_type": "code",
      "source": [
        "def tokenize_text_to_sequence(tweet, maxlen):\n",
        "    tokenizer = tokenizer_training\n",
        "        \n",
        "    X = tokenizer.texts_to_sequences(tweet)\n",
        "    \n",
        "    X = pad_sequences(X, padding='post', truncating='post', maxlen=maxlen)\n",
        "\n",
        "    return X, len(tokenizer.word_index) + 1, tokenizer.word_index"
      ],
      "metadata": {
        "id": "HMzHb-H6y0r3"
      },
      "execution_count": null,
      "outputs": []
    },
    {
      "cell_type": "code",
      "source": [
        "X_seq, vocab_size, word_index = tokenize_text_to_sequence(X, maxlen)\n",
        "print(\"Vocab size: %s\" % vocab_size)\n",
        "\n",
        "print(X[0])\n",
        "print(X_seq[0])"
      ],
      "metadata": {
        "colab": {
          "base_uri": "https://localhost:8080/"
        },
        "id": "gM0W7md3z_ie",
        "outputId": "0a86bf79-47a3-4965-c3a0-8720398f8f29"
      },
      "execution_count": null,
      "outputs": [
        {
          "output_type": "stream",
          "name": "stdout",
          "text": [
            "Vocab size: 2412\n",
            "administrator sudah tunggu hari barang pesan shopee pas pesan mobil eh telepon shopee express id jakarta buat konfirmasi barang besok notifikasi barang hilang kembali uang sih administrator tidak iphone\n",
            "[ 35   6  55  11  16  25  69  93  25 975 149  95  69  38 156  53  30 296\n",
            "  16 125 597  16  84 168 268  33  35   1 687   0   0   0   0   0   0   0\n",
            "   0   0   0   0   0   0   0   0   0   0   0   0   0   0   0   0   0   0\n",
            "   0   0   0   0   0   0   0   0   0   0   0   0   0   0   0   0   0   0\n",
            "   0   0   0   0   0   0   0   0   0   0   0   0   0   0   0   0   0   0\n",
            "   0   0   0   0   0   0   0   0   0   0]\n"
          ]
        }
      ]
    },
    {
      "cell_type": "markdown",
      "source": [
        "## Prediction - CNN-LSTM Model 3 (93-83, w/early stopping)"
      ],
      "metadata": {
        "id": "TXTSaTEwXCSp"
      }
    },
    {
      "cell_type": "code",
      "source": [
        "from keras.models import load_model\n",
        "model = load_model('/content/drive/MyDrive/SKRIPSI/Model/cnn_lstm_model3_93-83_earlystopping.h5')"
      ],
      "metadata": {
        "id": "reawBvTNXCSp"
      },
      "execution_count": null,
      "outputs": []
    },
    {
      "cell_type": "code",
      "source": [
        "y_pred = model.predict(X_seq)\n",
        "\n",
        "y_pred"
      ],
      "metadata": {
        "colab": {
          "base_uri": "https://localhost:8080/"
        },
        "outputId": "7554a56b-33bb-4bdf-a9db-8a0165c91272",
        "id": "nj0l_l09XCSp"
      },
      "execution_count": null,
      "outputs": [
        {
          "output_type": "stream",
          "name": "stdout",
          "text": [
            "3/3 [==============================] - 1s 85ms/step\n"
          ]
        },
        {
          "output_type": "execute_result",
          "data": {
            "text/plain": [
              "array([[1.7195709e-01, 3.1495776e-02, 7.9654706e-01],\n",
              "       [6.3135833e-03, 9.8128986e-01, 1.2396505e-02],\n",
              "       [3.9071687e-03, 3.1264608e-03, 9.9296629e-01],\n",
              "       [8.0729229e-03, 9.8436069e-01, 7.5662909e-03],\n",
              "       [4.6482142e-03, 1.8311470e-03, 9.9352068e-01],\n",
              "       [1.5532511e-02, 9.5080954e-01, 3.3657935e-02],\n",
              "       [8.0075359e-01, 2.3857243e-03, 1.9686066e-01],\n",
              "       [9.4641161e-01, 4.2686354e-02, 1.0902057e-02],\n",
              "       [5.0160855e-01, 4.8225462e-01, 1.6136788e-02],\n",
              "       [3.1332102e-02, 1.3063955e-02, 9.5560402e-01],\n",
              "       [9.8967439e-01, 1.8200631e-03, 8.5054887e-03],\n",
              "       [2.0366916e-02, 4.9641362e-01, 4.8321939e-01],\n",
              "       [9.9060261e-01, 1.0295907e-03, 8.3678328e-03],\n",
              "       [1.6788435e-03, 7.7511382e-04, 9.9754608e-01],\n",
              "       [2.0024377e-01, 2.8075048e-01, 5.1900566e-01],\n",
              "       [3.3716444e-02, 3.4379131e-01, 6.2249219e-01],\n",
              "       [1.4394685e-02, 2.6295313e-01, 7.2265220e-01],\n",
              "       [1.6365691e-01, 3.5427979e-03, 8.3280021e-01],\n",
              "       [3.5130855e-02, 6.8962872e-01, 2.7524051e-01],\n",
              "       [3.6099066e-03, 2.3393009e-03, 9.9405074e-01],\n",
              "       [5.7175616e-03, 9.8306268e-01, 1.1219704e-02],\n",
              "       [3.8979317e-03, 9.9041188e-01, 5.6900987e-03],\n",
              "       [6.7973123e-03, 9.7019231e-01, 2.3010317e-02],\n",
              "       [3.7315323e-03, 9.8326236e-01, 1.3006155e-02],\n",
              "       [1.1350970e-02, 7.8208876e-01, 2.0656034e-01],\n",
              "       [4.1441126e-03, 9.8977977e-01, 6.0762032e-03],\n",
              "       [1.2606187e-01, 8.1910163e-02, 7.9202795e-01],\n",
              "       [3.9337361e-03, 2.9040081e-03, 9.9316221e-01],\n",
              "       [9.8576766e-01, 6.0136742e-03, 8.2185930e-03],\n",
              "       [2.4518039e-02, 1.8782729e-01, 7.8765476e-01],\n",
              "       [6.6459320e-02, 5.1872671e-01, 4.1481388e-01],\n",
              "       [7.4872327e-01, 2.1897957e-01, 3.2297127e-02],\n",
              "       [3.1104701e-02, 7.1007115e-01, 2.5882414e-01],\n",
              "       [4.5661431e-02, 6.1435413e-02, 8.9290315e-01],\n",
              "       [9.6253250e-03, 9.2102587e-01, 6.9348834e-02],\n",
              "       [6.3064583e-03, 7.1791667e-03, 9.8651439e-01],\n",
              "       [2.8306181e-02, 8.4040946e-01, 1.3128440e-01],\n",
              "       [9.5739180e-01, 1.4462500e-02, 2.8145669e-02],\n",
              "       [2.5366385e-02, 8.4409872e-03, 9.6619260e-01],\n",
              "       [1.9108269e-02, 2.6492134e-02, 9.5439947e-01],\n",
              "       [1.4383357e-02, 9.6737891e-01, 1.8237554e-02],\n",
              "       [4.7674580e-03, 9.9000239e-01, 5.2302117e-03],\n",
              "       [1.0543128e-02, 9.2659187e-01, 6.2864989e-02],\n",
              "       [4.6604618e-01, 1.1917855e-02, 5.2203596e-01],\n",
              "       [1.2381872e-02, 9.6383870e-01, 2.3779338e-02],\n",
              "       [3.7766586e-03, 8.3420356e-04, 9.9538910e-01],\n",
              "       [2.6507485e-01, 6.8904597e-01, 4.5879152e-02],\n",
              "       [1.1283772e-01, 3.0298108e-01, 5.8418113e-01],\n",
              "       [9.1442922e-03, 1.6386809e-02, 9.7446883e-01],\n",
              "       [2.3564085e-02, 2.5426464e-03, 9.7389317e-01],\n",
              "       [8.9873234e-03, 2.3311609e-02, 9.6770108e-01],\n",
              "       [4.7001094e-01, 4.8184819e-03, 5.2517056e-01],\n",
              "       [1.0446014e-01, 7.1162462e-01, 1.8391529e-01],\n",
              "       [8.9817680e-02, 5.5791533e-01, 3.5226697e-01],\n",
              "       [2.1387525e-02, 8.7970829e-01, 9.8904274e-02],\n",
              "       [9.9631554e-01, 9.6354401e-04, 2.7208503e-03],\n",
              "       [7.0877604e-02, 6.0817415e-01, 3.2094830e-01],\n",
              "       [2.6960175e-03, 1.5427828e-03, 9.9576116e-01],\n",
              "       [2.1629430e-02, 1.4241145e-02, 9.6412945e-01],\n",
              "       [3.3803338e-03, 2.8482440e-03, 9.9377137e-01],\n",
              "       [8.2599722e-02, 5.1594460e-01, 4.0145576e-01],\n",
              "       [8.1784797e-01, 9.7552799e-03, 1.7239672e-01],\n",
              "       [3.9505959e-02, 8.6608291e-01, 9.4411150e-02],\n",
              "       [7.4220984e-03, 2.6753908e-02, 9.6582401e-01],\n",
              "       [9.5334709e-01, 8.8388994e-03, 3.7814025e-02],\n",
              "       [5.6879837e-03, 5.4765400e-03, 9.8883545e-01],\n",
              "       [7.2411728e-01, 8.1529180e-03, 2.6772985e-01],\n",
              "       [9.8991448e-01, 1.1476978e-03, 8.9376867e-03],\n",
              "       [8.2936746e-01, 1.7740091e-02, 1.5289240e-01],\n",
              "       [1.3979188e-02, 9.6509635e-01, 2.0924406e-02],\n",
              "       [8.1871655e-03, 1.1548595e-02, 9.8026425e-01],\n",
              "       [9.9753153e-01, 7.8018784e-04, 1.6880913e-03],\n",
              "       [1.0718306e-01, 8.3619988e-01, 5.6617003e-02],\n",
              "       [9.9401724e-01, 1.4387683e-03, 4.5440164e-03],\n",
              "       [1.6884351e-02, 1.1163031e-02, 9.7195262e-01],\n",
              "       [4.2747799e-02, 2.7408272e-02, 9.2984390e-01],\n",
              "       [1.1616124e-02, 9.7879958e-01, 9.5842080e-03],\n",
              "       [1.0771773e-02, 3.3339337e-03, 9.8589438e-01],\n",
              "       [4.5661453e-02, 7.5625747e-01, 1.9808106e-01],\n",
              "       [2.4559985e-01, 9.9667842e-03, 7.4443340e-01],\n",
              "       [2.8360866e-03, 5.5029750e-04, 9.9661356e-01],\n",
              "       [9.9600309e-01, 1.7911436e-03, 2.2057698e-03],\n",
              "       [9.7578555e-01, 1.9633269e-03, 2.2251090e-02],\n",
              "       [3.4511227e-02, 3.2151470e-01, 6.4397401e-01],\n",
              "       [2.9025858e-02, 5.0159860e-02, 9.2081428e-01],\n",
              "       [2.4221268e-02, 8.8141727e-01, 9.4361469e-02],\n",
              "       [7.1945101e-02, 8.6545259e-01, 6.2602334e-02]], dtype=float32)"
            ]
          },
          "metadata": {},
          "execution_count": 37
        }
      ]
    },
    {
      "cell_type": "code",
      "source": [
        "for pred in y_pred :\n",
        "    if pred[0] > 0.5 :\n",
        "        print(\"negatif\")\n",
        "    elif pred[1] > 0.5 :\n",
        "        print(\"netral\")\n",
        "    elif pred[2] > 0.5 :\n",
        "        print(\"positif\")"
      ],
      "metadata": {
        "colab": {
          "base_uri": "https://localhost:8080/"
        },
        "id": "BABNUf1N0Gck",
        "outputId": "560de70a-4d65-4389-ff7e-63897c954e97"
      },
      "execution_count": null,
      "outputs": [
        {
          "output_type": "stream",
          "name": "stdout",
          "text": [
            "positif\n",
            "netral\n",
            "positif\n",
            "netral\n",
            "positif\n",
            "netral\n",
            "negatif\n",
            "negatif\n",
            "negatif\n",
            "positif\n",
            "negatif\n",
            "negatif\n",
            "positif\n",
            "positif\n",
            "positif\n",
            "positif\n",
            "positif\n",
            "netral\n",
            "positif\n",
            "netral\n",
            "netral\n",
            "netral\n",
            "netral\n",
            "netral\n",
            "netral\n",
            "positif\n",
            "positif\n",
            "negatif\n",
            "positif\n",
            "netral\n",
            "negatif\n",
            "netral\n",
            "positif\n",
            "netral\n",
            "positif\n",
            "netral\n",
            "negatif\n",
            "positif\n",
            "positif\n",
            "netral\n",
            "netral\n",
            "netral\n",
            "positif\n",
            "netral\n",
            "positif\n",
            "netral\n",
            "positif\n",
            "positif\n",
            "positif\n",
            "positif\n",
            "positif\n",
            "netral\n",
            "netral\n",
            "netral\n",
            "negatif\n",
            "netral\n",
            "positif\n",
            "positif\n",
            "positif\n",
            "netral\n",
            "negatif\n",
            "netral\n",
            "positif\n",
            "negatif\n",
            "positif\n",
            "negatif\n",
            "negatif\n",
            "negatif\n",
            "netral\n",
            "positif\n",
            "negatif\n",
            "netral\n",
            "negatif\n",
            "positif\n",
            "positif\n",
            "netral\n",
            "positif\n",
            "netral\n",
            "positif\n",
            "positif\n",
            "negatif\n",
            "negatif\n",
            "positif\n",
            "positif\n",
            "netral\n",
            "netral\n"
          ]
        }
      ]
    },
    {
      "cell_type": "code",
      "source": [
        "for i, pred in enumerate(y_pred) :\n",
        "    if pred[0] > 0.5 :\n",
        "         df_predict.at[i, 'sentimen'] = \"negatif\"     \n",
        "    elif pred[1] > 0.5 :\n",
        "        df_predict.at[i, 'sentimen'] = \"netral\"\n",
        "    elif pred[2] > 0.5 :\n",
        "        df_predict.at[i, 'sentimen'] = \"positif\""
      ],
      "metadata": {
        "id": "cuI4O225XCSp"
      },
      "execution_count": null,
      "outputs": []
    },
    {
      "cell_type": "code",
      "source": [
        "df_predict.head()"
      ],
      "metadata": {
        "colab": {
          "base_uri": "https://localhost:8080/",
          "height": 206
        },
        "outputId": "17240db6-88f2-4bc8-ae48-47e4d81855a0",
        "id": "tHOIBu0AXCSq"
      },
      "execution_count": null,
      "outputs": [
        {
          "output_type": "execute_result",
          "data": {
            "text/plain": [
              "                        time  \\\n",
              "0  2020-12-01 10:25:03+00:00   \n",
              "1  2021-02-28 04:55:18+00:00   \n",
              "2  2022-05-27 13:02:10+00:00   \n",
              "3  2022-04-27 21:19:38+00:00   \n",
              "4  2021-04-09 21:54:06+00:00   \n",
              "\n",
              "                                        clean_tweets sentimen  \n",
              "0  administrator sudah tunggu hari barang pesan s...  positif  \n",
              "1  album pt bisa bisa kirim shopee express id exp...   netral  \n",
              "2  ambil sicepat jnt antar barang shopee express ...  positif  \n",
              "3  asli antar saja shopee express id express tema...   netral  \n",
              "4  bagus juta express id express shopee express t...  positif  "
            ],
            "text/html": [
              "\n",
              "  <div id=\"df-b2ab03c7-47f4-459b-ba41-bfba22e400e5\">\n",
              "    <div class=\"colab-df-container\">\n",
              "      <div>\n",
              "<style scoped>\n",
              "    .dataframe tbody tr th:only-of-type {\n",
              "        vertical-align: middle;\n",
              "    }\n",
              "\n",
              "    .dataframe tbody tr th {\n",
              "        vertical-align: top;\n",
              "    }\n",
              "\n",
              "    .dataframe thead th {\n",
              "        text-align: right;\n",
              "    }\n",
              "</style>\n",
              "<table border=\"1\" class=\"dataframe\">\n",
              "  <thead>\n",
              "    <tr style=\"text-align: right;\">\n",
              "      <th></th>\n",
              "      <th>time</th>\n",
              "      <th>clean_tweets</th>\n",
              "      <th>sentimen</th>\n",
              "    </tr>\n",
              "  </thead>\n",
              "  <tbody>\n",
              "    <tr>\n",
              "      <th>0</th>\n",
              "      <td>2020-12-01 10:25:03+00:00</td>\n",
              "      <td>administrator sudah tunggu hari barang pesan s...</td>\n",
              "      <td>positif</td>\n",
              "    </tr>\n",
              "    <tr>\n",
              "      <th>1</th>\n",
              "      <td>2021-02-28 04:55:18+00:00</td>\n",
              "      <td>album pt bisa bisa kirim shopee express id exp...</td>\n",
              "      <td>netral</td>\n",
              "    </tr>\n",
              "    <tr>\n",
              "      <th>2</th>\n",
              "      <td>2022-05-27 13:02:10+00:00</td>\n",
              "      <td>ambil sicepat jnt antar barang shopee express ...</td>\n",
              "      <td>positif</td>\n",
              "    </tr>\n",
              "    <tr>\n",
              "      <th>3</th>\n",
              "      <td>2022-04-27 21:19:38+00:00</td>\n",
              "      <td>asli antar saja shopee express id express tema...</td>\n",
              "      <td>netral</td>\n",
              "    </tr>\n",
              "    <tr>\n",
              "      <th>4</th>\n",
              "      <td>2021-04-09 21:54:06+00:00</td>\n",
              "      <td>bagus juta express id express shopee express t...</td>\n",
              "      <td>positif</td>\n",
              "    </tr>\n",
              "  </tbody>\n",
              "</table>\n",
              "</div>\n",
              "      <button class=\"colab-df-convert\" onclick=\"convertToInteractive('df-b2ab03c7-47f4-459b-ba41-bfba22e400e5')\"\n",
              "              title=\"Convert this dataframe to an interactive table.\"\n",
              "              style=\"display:none;\">\n",
              "        \n",
              "  <svg xmlns=\"http://www.w3.org/2000/svg\" height=\"24px\"viewBox=\"0 0 24 24\"\n",
              "       width=\"24px\">\n",
              "    <path d=\"M0 0h24v24H0V0z\" fill=\"none\"/>\n",
              "    <path d=\"M18.56 5.44l.94 2.06.94-2.06 2.06-.94-2.06-.94-.94-2.06-.94 2.06-2.06.94zm-11 1L8.5 8.5l.94-2.06 2.06-.94-2.06-.94L8.5 2.5l-.94 2.06-2.06.94zm10 10l.94 2.06.94-2.06 2.06-.94-2.06-.94-.94-2.06-.94 2.06-2.06.94z\"/><path d=\"M17.41 7.96l-1.37-1.37c-.4-.4-.92-.59-1.43-.59-.52 0-1.04.2-1.43.59L10.3 9.45l-7.72 7.72c-.78.78-.78 2.05 0 2.83L4 21.41c.39.39.9.59 1.41.59.51 0 1.02-.2 1.41-.59l7.78-7.78 2.81-2.81c.8-.78.8-2.07 0-2.86zM5.41 20L4 18.59l7.72-7.72 1.47 1.35L5.41 20z\"/>\n",
              "  </svg>\n",
              "      </button>\n",
              "      \n",
              "  <style>\n",
              "    .colab-df-container {\n",
              "      display:flex;\n",
              "      flex-wrap:wrap;\n",
              "      gap: 12px;\n",
              "    }\n",
              "\n",
              "    .colab-df-convert {\n",
              "      background-color: #E8F0FE;\n",
              "      border: none;\n",
              "      border-radius: 50%;\n",
              "      cursor: pointer;\n",
              "      display: none;\n",
              "      fill: #1967D2;\n",
              "      height: 32px;\n",
              "      padding: 0 0 0 0;\n",
              "      width: 32px;\n",
              "    }\n",
              "\n",
              "    .colab-df-convert:hover {\n",
              "      background-color: #E2EBFA;\n",
              "      box-shadow: 0px 1px 2px rgba(60, 64, 67, 0.3), 0px 1px 3px 1px rgba(60, 64, 67, 0.15);\n",
              "      fill: #174EA6;\n",
              "    }\n",
              "\n",
              "    [theme=dark] .colab-df-convert {\n",
              "      background-color: #3B4455;\n",
              "      fill: #D2E3FC;\n",
              "    }\n",
              "\n",
              "    [theme=dark] .colab-df-convert:hover {\n",
              "      background-color: #434B5C;\n",
              "      box-shadow: 0px 1px 3px 1px rgba(0, 0, 0, 0.15);\n",
              "      filter: drop-shadow(0px 1px 2px rgba(0, 0, 0, 0.3));\n",
              "      fill: #FFFFFF;\n",
              "    }\n",
              "  </style>\n",
              "\n",
              "      <script>\n",
              "        const buttonEl =\n",
              "          document.querySelector('#df-b2ab03c7-47f4-459b-ba41-bfba22e400e5 button.colab-df-convert');\n",
              "        buttonEl.style.display =\n",
              "          google.colab.kernel.accessAllowed ? 'block' : 'none';\n",
              "\n",
              "        async function convertToInteractive(key) {\n",
              "          const element = document.querySelector('#df-b2ab03c7-47f4-459b-ba41-bfba22e400e5');\n",
              "          const dataTable =\n",
              "            await google.colab.kernel.invokeFunction('convertToInteractive',\n",
              "                                                     [key], {});\n",
              "          if (!dataTable) return;\n",
              "\n",
              "          const docLinkHtml = 'Like what you see? Visit the ' +\n",
              "            '<a target=\"_blank\" href=https://colab.research.google.com/notebooks/data_table.ipynb>data table notebook</a>'\n",
              "            + ' to learn more about interactive tables.';\n",
              "          element.innerHTML = '';\n",
              "          dataTable['output_type'] = 'display_data';\n",
              "          await google.colab.output.renderOutput(dataTable, element);\n",
              "          const docLink = document.createElement('div');\n",
              "          docLink.innerHTML = docLinkHtml;\n",
              "          element.appendChild(docLink);\n",
              "        }\n",
              "      </script>\n",
              "    </div>\n",
              "  </div>\n",
              "  "
            ]
          },
          "metadata": {},
          "execution_count": 40
        }
      ]
    },
    {
      "cell_type": "code",
      "source": [
        "df_predict.to_csv('/content/drive/MyDrive/SKRIPSI/HASIL PREDIKSI MASUK LAPORAN/Shopee Xpress/hasil_prediksi_shopeexpress2.csv', index=False)"
      ],
      "metadata": {
        "id": "grBCXwW-XCSq"
      },
      "execution_count": null,
      "outputs": []
    }
  ]
}